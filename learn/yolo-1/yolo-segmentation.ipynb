{
 "cells": [
  {
   "cell_type": "code",
   "execution_count": 1,
   "metadata": {},
   "outputs": [],
   "source": [
    "from ultralytics import YOLO\n",
    "import cv2\n",
    "import numpy as np\n",
    "import cv2"
   ]
  },
  {
   "cell_type": "code",
   "execution_count": 85,
   "metadata": {},
   "outputs": [],
   "source": [
    "\n",
    "model = YOLO(\"yolov8n-seg.pt\")"
   ]
  },
  {
   "cell_type": "code",
   "execution_count": 86,
   "metadata": {},
   "outputs": [
    {
     "name": "stderr",
     "output_type": "stream",
     "text": [
      "\n",
      "image 1/1 c:\\Users\\whisn\\Downloads\\Whisnumurty\\Kuliah\\Penelitian\\Penelitian Deteksi Lampu Sepeda Motor\\detect-lamp\\learn\\..\\dataset-baru\\beat-nyala\\0.jpg: 640x480 1 person, 1 car, 1 motorcycle, 258.4ms\n",
      "Speed: 5.0ms preprocess, 258.4ms inference, 9.0ms postprocess per image at shape (1, 3, 640, 480)\n",
      "Results saved to \u001b[1mruns\\segment\\predict2\u001b[0m\n"
     ]
    },
    {
     "name": "stdout",
     "output_type": "stream",
     "text": [
      "1\n"
     ]
    }
   ],
   "source": [
    "predict = model.predict(\"../dataset-baru/beat-nyala/0.jpg\" , save = True)\n",
    "print(len(predict))"
   ]
  },
  {
   "cell_type": "code",
   "execution_count": 87,
   "metadata": {},
   "outputs": [
    {
     "data": {
      "text/plain": [
       "{0: 'person',\n",
       " 1: 'bicycle',\n",
       " 2: 'car',\n",
       " 3: 'motorcycle',\n",
       " 4: 'airplane',\n",
       " 5: 'bus',\n",
       " 6: 'train',\n",
       " 7: 'truck',\n",
       " 8: 'boat',\n",
       " 9: 'traffic light',\n",
       " 10: 'fire hydrant',\n",
       " 11: 'stop sign',\n",
       " 12: 'parking meter',\n",
       " 13: 'bench',\n",
       " 14: 'bird',\n",
       " 15: 'cat',\n",
       " 16: 'dog',\n",
       " 17: 'horse',\n",
       " 18: 'sheep',\n",
       " 19: 'cow',\n",
       " 20: 'elephant',\n",
       " 21: 'bear',\n",
       " 22: 'zebra',\n",
       " 23: 'giraffe',\n",
       " 24: 'backpack',\n",
       " 25: 'umbrella',\n",
       " 26: 'handbag',\n",
       " 27: 'tie',\n",
       " 28: 'suitcase',\n",
       " 29: 'frisbee',\n",
       " 30: 'skis',\n",
       " 31: 'snowboard',\n",
       " 32: 'sports ball',\n",
       " 33: 'kite',\n",
       " 34: 'baseball bat',\n",
       " 35: 'baseball glove',\n",
       " 36: 'skateboard',\n",
       " 37: 'surfboard',\n",
       " 38: 'tennis racket',\n",
       " 39: 'bottle',\n",
       " 40: 'wine glass',\n",
       " 41: 'cup',\n",
       " 42: 'fork',\n",
       " 43: 'knife',\n",
       " 44: 'spoon',\n",
       " 45: 'bowl',\n",
       " 46: 'banana',\n",
       " 47: 'apple',\n",
       " 48: 'sandwich',\n",
       " 49: 'orange',\n",
       " 50: 'broccoli',\n",
       " 51: 'carrot',\n",
       " 52: 'hot dog',\n",
       " 53: 'pizza',\n",
       " 54: 'donut',\n",
       " 55: 'cake',\n",
       " 56: 'chair',\n",
       " 57: 'couch',\n",
       " 58: 'potted plant',\n",
       " 59: 'bed',\n",
       " 60: 'dining table',\n",
       " 61: 'toilet',\n",
       " 62: 'tv',\n",
       " 63: 'laptop',\n",
       " 64: 'mouse',\n",
       " 65: 'remote',\n",
       " 66: 'keyboard',\n",
       " 67: 'cell phone',\n",
       " 68: 'microwave',\n",
       " 69: 'oven',\n",
       " 70: 'toaster',\n",
       " 71: 'sink',\n",
       " 72: 'refrigerator',\n",
       " 73: 'book',\n",
       " 74: 'clock',\n",
       " 75: 'vase',\n",
       " 76: 'scissors',\n",
       " 77: 'teddy bear',\n",
       " 78: 'hair drier',\n",
       " 79: 'toothbrush'}"
      ]
     },
     "execution_count": 87,
     "metadata": {},
     "output_type": "execute_result"
    }
   ],
   "source": [
    "model.names"
   ]
  },
  {
   "cell_type": "code",
   "execution_count": 88,
   "metadata": {},
   "outputs": [
    {
     "name": "stderr",
     "output_type": "stream",
     "text": [
      "WARNING  'Boxes.boxes' is deprecated. Use 'Boxes.data' instead.\n"
     ]
    },
    {
     "name": "stdout",
     "output_type": "stream",
     "text": [
      "ultralytics.engine.results.Boxes object with attributes:\n",
      "\n",
      "boxes: tensor([[1.2390e+03, 2.4781e+03, 1.6784e+03, 3.3080e+03, 6.7683e-01, 3.0000e+00],\n",
      "        [8.6472e+02, 1.9991e+03, 1.0174e+03, 2.3215e+03, 5.8144e-01, 0.0000e+00],\n",
      "        [3.1348e+02, 2.0249e+03, 6.0446e+02, 2.1735e+03, 2.5029e-01, 2.0000e+00]])\n",
      "cls: tensor([3., 0., 2.])\n",
      "conf: tensor([0.6768, 0.5814, 0.2503])\n",
      "data: tensor([[1.2390e+03, 2.4781e+03, 1.6784e+03, 3.3080e+03, 6.7683e-01, 3.0000e+00],\n",
      "        [8.6472e+02, 1.9991e+03, 1.0174e+03, 2.3215e+03, 5.8144e-01, 0.0000e+00],\n",
      "        [3.1348e+02, 2.0249e+03, 6.0446e+02, 2.1735e+03, 2.5029e-01, 2.0000e+00]])\n",
      "id: None\n",
      "is_track: False\n",
      "orig_shape: (4032, 3024)\n",
      "shape: torch.Size([3, 6])\n",
      "xywh: tensor([[1458.6857, 2893.0288,  439.4507,  829.9268],\n",
      "        [ 941.0612, 2160.2805,  152.6769,  322.3727],\n",
      "        [ 458.9688, 2099.1860,  290.9862,  148.5790]])\n",
      "xywhn: tensor([[0.4824, 0.7175, 0.1453, 0.2058],\n",
      "        [0.3112, 0.5358, 0.0505, 0.0800],\n",
      "        [0.1518, 0.5206, 0.0962, 0.0368]])\n",
      "xyxy: tensor([[1238.9603, 2478.0654, 1678.4110, 3307.9922],\n",
      "        [ 864.7227, 1999.0941, 1017.3996, 2321.4668],\n",
      "        [ 313.4757, 2024.8966,  604.4619, 2173.4756]])\n",
      "xyxyn: tensor([[0.4097, 0.6146, 0.5550, 0.8204],\n",
      "        [0.2860, 0.4958, 0.3364, 0.5758],\n",
      "        [0.1037, 0.5022, 0.1999, 0.5391]])\n"
     ]
    }
   ],
   "source": [
    "# hasil_deteksi_motorcycle = predict[0].filter_by_classes([3])\n",
    "dir(predict[0])\n",
    "print(predict[0].boxes)"
   ]
  },
  {
   "cell_type": "code",
   "execution_count": 89,
   "metadata": {},
   "outputs": [
    {
     "name": "stdout",
     "output_type": "stream",
     "text": [
      "urutan terdeteksi:  0\n"
     ]
    }
   ],
   "source": [
    "no_urut = -1\n",
    "for i, p in enumerate(predict[0].boxes.cls.tolist()):\n",
    "    # print(p)\n",
    "    if predict[0].names[p] == 'motorcycle':\n",
    "        print('urutan terdeteksi: ', i)\n",
    "        no_urut = i"
   ]
  },
  {
   "cell_type": "code",
   "execution_count": 90,
   "metadata": {},
   "outputs": [],
   "source": [
    "H , W , _ = cv2.imread(\"../dataset-baru/beat-nyala/0.jpg\").shape\n"
   ]
  },
  {
   "cell_type": "code",
   "execution_count": 134,
   "metadata": {},
   "outputs": [
    {
     "name": "stderr",
     "output_type": "stream",
     "text": [
      "WARNING  'Masks.masks' is deprecated. Use 'Masks.data' instead.\n"
     ]
    },
    {
     "name": "stdout",
     "output_type": "stream",
     "text": [
      "(4032, 3024)\n",
      "(4032, 3024, 3)\n",
      "0.13492064\n",
      "[56 41 32]\n"
     ]
    }
   ],
   "source": [
    "segmentation_motorcycle = predict[0].masks.masks[no_urut].numpy()\n",
    "condition = segmentation_motorcycle[segmentation_motorcycle > 0]\n",
    "\n",
    "original_image = cv2.imread('../dataset-baru/beat-nyala/0.jpg')\n",
    "\n",
    "\n",
    "segmentation_motorcycle = cv2.resize(segmentation_motorcycle, (original_image.shape[1], original_image.shape[0]))\n",
    "# result_image = cv2.addWeighted(original_image, 1, segmentation_motorcycle, 0.5, 0)\n",
    "\n",
    "print(segmentation_motorcycle.shape)\n",
    "print(original_image.shape)\n",
    "print(segmentation_motorcycle[2492][1628])\n",
    "print(original_image[2492][1628])\n",
    "# condition = segmentation_motorcycle > 0  # Membuat array kondisi\n",
    "\n"
   ]
  },
  {
   "cell_type": "code",
   "execution_count": 138,
   "metadata": {},
   "outputs": [
    {
     "ename": "AttributeError",
     "evalue": "'tuple' object has no attribute 'shape'",
     "output_type": "error",
     "traceback": [
      "\u001b[1;31m---------------------------------------------------------------------------\u001b[0m",
      "\u001b[1;31mAttributeError\u001b[0m                            Traceback (most recent call last)",
      "\u001b[1;32mc:\\Users\\whisn\\Downloads\\Whisnumurty\\Kuliah\\Penelitian\\Penelitian Deteksi Lampu Sepeda Motor\\detect-lamp\\learn\\yolo-segmentation.ipynb Cell 9\u001b[0m line \u001b[0;36m3\n\u001b[0;32m      <a href='vscode-notebook-cell:/c%3A/Users/whisn/Downloads/Whisnumurty/Kuliah/Penelitian/Penelitian%20Deteksi%20Lampu%20Sepeda%20Motor/detect-lamp/learn/yolo-segmentation.ipynb#X24sZmlsZQ%3D%3D?line=0'>1</a>\u001b[0m \u001b[39m# Mencari nilai dalam matriks yang bernilai True\u001b[39;00m\n\u001b[0;32m      <a href='vscode-notebook-cell:/c%3A/Users/whisn/Downloads/Whisnumurty/Kuliah/Penelitian/Penelitian%20Deteksi%20Lampu%20Sepeda%20Motor/detect-lamp/learn/yolo-segmentation.ipynb#X24sZmlsZQ%3D%3D?line=1'>2</a>\u001b[0m true_values \u001b[39m=\u001b[39m np\u001b[39m.\u001b[39mwhere(condition)\n\u001b[1;32m----> <a href='vscode-notebook-cell:/c%3A/Users/whisn/Downloads/Whisnumurty/Kuliah/Penelitian/Penelitian%20Deteksi%20Lampu%20Sepeda%20Motor/detect-lamp/learn/yolo-segmentation.ipynb#X24sZmlsZQ%3D%3D?line=2'>3</a>\u001b[0m \u001b[39mprint\u001b[39m(true_values\u001b[39m.\u001b[39;49mshape)\n",
      "\u001b[1;31mAttributeError\u001b[0m: 'tuple' object has no attribute 'shape'"
     ]
    }
   ],
   "source": [
    "# Mencari nilai dalam matriks yang bernilai True\n",
    "true_values = np.where(condition)\n",
    "print(true_values)                                                                                                                                                                                                                                                                                                                                                                                                                                   \n",
    "# # Menampilkan nilai-nilai yang bernilai True beserta indeksnya\n",
    "# for row, col in zip(*true_values):\n",
    "#     print(f\"Nilai True pada baris {row}, kolom {col}\")"
   ]
  },
  {
   "cell_type": "code",
   "execution_count": 114,
   "metadata": {},
   "outputs": [
    {
     "data": {
      "text/plain": [
       "True"
      ]
     },
     "execution_count": 114,
     "metadata": {},
     "output_type": "execute_result"
    }
   ],
   "source": [
    "\n",
    "# Membuat salinan gambar asli\n",
    "result_image = original_image.copy()\n",
    "\n",
    "# Menggabungkan warna asli dari gambar dengan hasil segmentasi\n",
    "# result_image[segmentation_motorcycle > 0] = original_image[segmentation_motorcycle > 0]\n",
    "result_image[condition] = original_image[condition]\n",
    "\n",
    "# Simpan gambar hasil penggabungan\n",
    "cv2.imwrite(\"hasil_segmentasi_motorcycle.jpg\", result_image)\n",
    "# Simpan gambar hasil penggabungan\n",
    "# cv2.imwrite(\"hasil_segmentasi_motorcycle.jpg\", result_image)"
   ]
  },
  {
   "cell_type": "code",
   "execution_count": 103,
   "metadata": {},
   "outputs": [
    {
     "data": {
      "text/plain": [
       "(640, 480)"
      ]
     },
     "execution_count": 103,
     "metadata": {},
     "output_type": "execute_result"
    }
   ],
   "source": [
    "segmentation_motorcycle.shape\n"
   ]
  },
  {
   "cell_type": "code",
   "execution_count": 97,
   "metadata": {},
   "outputs": [
    {
     "data": {
      "text/plain": [
       "(4032, 3024, 3)"
      ]
     },
     "execution_count": 97,
     "metadata": {},
     "output_type": "execute_result"
    }
   ],
   "source": [
    "original_image.shape"
   ]
  },
  {
   "cell_type": "code",
   "execution_count": 94,
   "metadata": {},
   "outputs": [
    {
     "ename": "IndexError",
     "evalue": "boolean index did not match indexed array along dimension 0; dimension is 4032 but corresponding boolean dimension is 640",
     "output_type": "error",
     "traceback": [
      "\u001b[1;31m---------------------------------------------------------------------------\u001b[0m",
      "\u001b[1;31mIndexError\u001b[0m                                Traceback (most recent call last)",
      "\u001b[1;32mc:\\Users\\whisn\\Downloads\\Whisnumurty\\Kuliah\\Penelitian\\Penelitian Deteksi Lampu Sepeda Motor\\detect-lamp\\learn\\yolo-segmentation.ipynb Cell 9\u001b[0m line \u001b[0;36m2\n\u001b[0;32m      <a href='vscode-notebook-cell:/c%3A/Users/whisn/Downloads/Whisnumurty/Kuliah/Penelitian/Penelitian%20Deteksi%20Lampu%20Sepeda%20Motor/detect-lamp/learn/yolo-segmentation.ipynb#X16sZmlsZQ%3D%3D?line=0'>1</a>\u001b[0m \u001b[39m# Masking gambar asli dengan hasil segmentasi\u001b[39;00m\n\u001b[1;32m----> <a href='vscode-notebook-cell:/c%3A/Users/whisn/Downloads/Whisnumurty/Kuliah/Penelitian/Penelitian%20Deteksi%20Lampu%20Sepeda%20Motor/detect-lamp/learn/yolo-segmentation.ipynb#X16sZmlsZQ%3D%3D?line=1'>2</a>\u001b[0m result_image[segmentation_motorcycle \u001b[39m>\u001b[39m \u001b[39m0\u001b[39m] \u001b[39m=\u001b[39m original_image[segmentation_motorcycle \u001b[39m>\u001b[39;49m \u001b[39m0\u001b[39;49m]\n\u001b[0;32m      <a href='vscode-notebook-cell:/c%3A/Users/whisn/Downloads/Whisnumurty/Kuliah/Penelitian/Penelitian%20Deteksi%20Lampu%20Sepeda%20Motor/detect-lamp/learn/yolo-segmentation.ipynb#X16sZmlsZQ%3D%3D?line=3'>4</a>\u001b[0m cv2\u001b[39m.\u001b[39mimshow(\u001b[39m'\u001b[39m\u001b[39mresult\u001b[39m\u001b[39m'\u001b[39m, result_image)\n\u001b[0;32m      <a href='vscode-notebook-cell:/c%3A/Users/whisn/Downloads/Whisnumurty/Kuliah/Penelitian/Penelitian%20Deteksi%20Lampu%20Sepeda%20Motor/detect-lamp/learn/yolo-segmentation.ipynb#X16sZmlsZQ%3D%3D?line=4'>5</a>\u001b[0m \u001b[39m# Menunggu pengguna menekan tombol apapun\u001b[39;00m\n",
      "\u001b[1;31mIndexError\u001b[0m: boolean index did not match indexed array along dimension 0; dimension is 4032 but corresponding boolean dimension is 640"
     ]
    }
   ],
   "source": [
    "\n",
    "# Masking gambar asli dengan hasil segmentasi\n",
    "result_image[segmentation_motorcycle > 0] = original_image[segmentation_motorcycle > 0]\n",
    "\n",
    "cv2.imshow('result', result_image)\n",
    "# Menunggu pengguna menekan tombol apapun\n",
    "cv2.waitKey(0)\n",
    "\n",
    "# Menutup semua jendela OpenCV\n",
    "cv2.destroyAllWindows()\n",
    "cv2.imwrite(\"result/segmentation_motorcycle.jpg\", result_image)\n"
   ]
  }
 ],
 "metadata": {
  "kernelspec": {
   "display_name": "base",
   "language": "python",
   "name": "python3"
  },
  "language_info": {
   "codemirror_mode": {
    "name": "ipython",
    "version": 3
   },
   "file_extension": ".py",
   "mimetype": "text/x-python",
   "name": "python",
   "nbconvert_exporter": "python",
   "pygments_lexer": "ipython3",
   "version": "3.9.16"
  },
  "orig_nbformat": 4
 },
 "nbformat": 4,
 "nbformat_minor": 2
}
