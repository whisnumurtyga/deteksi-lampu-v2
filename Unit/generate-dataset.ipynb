{
 "cells": [
  {
   "cell_type": "code",
   "execution_count": 1,
   "metadata": {},
   "outputs": [],
   "source": [
    "import cv2\n",
    "from yolo_segmentation import YOLOSegmentation\n",
    "import numpy as np\n",
    "import os"
   ]
  },
  {
   "cell_type": "code",
   "execution_count": 2,
   "metadata": {},
   "outputs": [],
   "source": [
    "dir_on = {\n",
    "    'beat':'../dataset-baru/beat-nyala', 'bull':'../dataset-baru/bull-nyala', 'cbr':'../dataset-baru/cbr-nyala', \n",
    "    'mio':'../dataset-baru/mio-nyala', 'mio2':'../dataset-baru/mio2-nyala', 'scoopy':'../dataset-baru/scoopy-nyala', \n",
    "    'supra':'../dataset-baru/supra-nyala', 'beat_gelap':'../dataset-baru/beat-gelap-nyala/', 'cbr_gelap':'../dataset-baru/cbr-gelap-nyala/'\n",
    "}\n",
    "\n",
    "dir_off = {\n",
    "    'beat':'../dataset-baru/beat-mati', 'bull':'../dataset-baru/bull-mati', 'cbr':'../dataset-baru/cbr-mati', \n",
    "    'mio':'../dataset-baru/mio-mati', 'mio2':'../dataset-baru/mio2-mati', 'scoopy':'../dataset-baru/scoopy-mati', \n",
    "    'supra':'../dataset-baru/supra-mati', 'beat_gelap':'../dataset-baru/beat-gelap-mati/', 'cbr_gelap':'../dataset-baru/cbr-gelap-mati/'\n",
    "}"
   ]
  },
  {
   "cell_type": "code",
   "execution_count": 3,
   "metadata": {},
   "outputs": [],
   "source": [
    "def rszImg(image, rate):\n",
    "    h, w, _ = image.shape\n",
    "    new_h, new_w = (int(h*rate), int(w*rate))\n",
    "    image = cv2.resize(image, (new_w, new_h))\n",
    "    return image\n",
    "\n",
    "def cropPoly(img, bbox, seg):\n",
    "    (x, y, x2, y2) = bbox\n",
    "    # Create a mask of the same size as the image\n",
    "    mask = np.zeros_like(img)\n",
    "\n",
    "    # Convert the seg (polygon) into a NumPy array of type int32\n",
    "    points = np.array(seg, dtype=np.int32)\n",
    "\n",
    "    # Fill the mask with a white polygon based on the points\n",
    "    cv2.fillPoly(mask, [points], (255, 255, 255))\n",
    "\n",
    "    # Bitwise AND the mask with the original image to get the cropped region\n",
    "    cropped_motorcycle = cv2.bitwise_and(img, mask)\n",
    "\n",
    "    # Crop the region inside the bounding box\n",
    "    cropped_motorcycle = cropped_motorcycle[y:y2, x:x2]\n",
    "    \n",
    "    return cropped_motorcycle\n",
    "\n",
    "def segmentMotorcycle(path):\n",
    "    global ys\n",
    "    \n",
    "    img = cv2.imread(path)\n",
    "    img = rszImg(img, 0.25)\n",
    "    bboxes, classes, class_names, segmentation, scores = ys.detect(img)\n",
    "\n",
    "    cropped_motorcycle_regions = []\n",
    "    n = 0\n",
    "\n",
    "    for bbox, class_id, seg, score in zip(bboxes, classes, segmentation, scores):\n",
    "        # print(\"bbox:\", bbox, \" class_id:\", class_id, \" seg:\", seg, \" score:\", score)\n",
    "        if class_names[class_id] == 'motorcycle':\n",
    "            (x, y, x2, y2) = bbox\n",
    "\n",
    "            cropped_motorcycle = cropPoly(img, bbox, seg)\n",
    "            cropped_motorcycle_regions.append(cropped_motorcycle)\n",
    "    return cropped_motorcycle_regions\n",
    "\n",
    "def saveCrop(directory_path, filename, cropped_motorcycle_regions):\n",
    "    global n\n",
    "    if 'super' in filename:\n",
    "        pass\n",
    "    else:\n",
    "        for i, cropped_motorcycle in enumerate(cropped_motorcycle_regions):\n",
    "            if 'gelap' in directory_path:\n",
    "                if 'nyala' in directory_path:\n",
    "                    path = 'res/gelap/nyala'\n",
    "                else:\n",
    "                    path = 'res/gelap/mati'\n",
    "            else:\n",
    "                if 'nyala' in directory_path:\n",
    "                    path = 'res/terang/nyala'\n",
    "                else:\n",
    "                    path = 'res/terang/mati'\n",
    "                    \n",
    "            cv2.imwrite(f'{path}/{n}-{filename}', cropped_motorcycle)\n",
    "            n+=1\n",
    "        \n",
    "            \n",
    "def generateDatasetsPoly(directory_path):\n",
    "    # Iterate through all files and subdirectories in the given directory\n",
    "    for root, _, files in os.walk(directory_path):\n",
    "        # n=0\n",
    "        # print(directory_path)\n",
    "        for filename in files:\n",
    "            # print(filename)\n",
    "            print(filename)\n",
    "            img = f'{directory_path}/{filename}'\n",
    "            try:\n",
    "                cropped_motorcycle_list = segmentMotorcycle(img)\n",
    "                # print(cropped_motorcycle_list)\n",
    "                saveCrop(directory_path, filename, cropped_motorcycle_list)\n",
    "            except:\n",
    "                pass"
   ]
  },
  {
   "cell_type": "code",
   "execution_count": 4,
   "metadata": {},
   "outputs": [],
   "source": [
    "# Segmentation\n",
    "# global ys \n",
    "n = 0\n",
    "ys = YOLOSegmentation('../../yolov8n-seg.pt')\n"
   ]
  },
  {
   "cell_type": "code",
   "execution_count": 5,
   "metadata": {},
   "outputs": [
    {
     "name": "stdout",
     "output_type": "stream",
     "text": [
      "['beat', 'bull', 'cbr', 'mio', 'mio2', 'scoopy', 'supra', 'beat_gelap', 'cbr_gelap']\n"
     ]
    }
   ],
   "source": [
    "on_keys = list(dir_on.keys())\n",
    "off_keys = list(dir_off.keys())\n",
    "\n",
    "print(on_keys)"
   ]
  },
  {
   "cell_type": "code",
   "execution_count": 6,
   "metadata": {},
   "outputs": [
    {
     "data": {
      "text/plain": [
       "'../dataset-baru/beat-nyala'"
      ]
     },
     "execution_count": 6,
     "metadata": {},
     "output_type": "execute_result"
    }
   ],
   "source": [
    "dir_on['beat']"
   ]
  },
  {
   "cell_type": "code",
   "execution_count": 7,
   "metadata": {},
   "outputs": [
    {
     "name": "stdout",
     "output_type": "stream",
     "text": [
      "0.jpg\n"
     ]
    },
    {
     "name": "stderr",
     "output_type": "stream",
     "text": [
      "\n",
      "0: 640x480 1 motorcycle, 1 airplane, 511.8ms\n",
      "Speed: 39.1ms preprocess, 511.8ms inference, 11.0ms postprocess per image at shape (1, 3, 640, 480)\n",
      "WARNING  'Masks.segments' is deprecated. Use 'Masks.xyn' for segments (normalized) and 'Masks.xy' for segments (pixels) instead.\n",
      "\n"
     ]
    },
    {
     "name": "stdout",
     "output_type": "stream",
     "text": [
      "1.jpg\n"
     ]
    },
    {
     "name": "stderr",
     "output_type": "stream",
     "text": [
      "0: 640x608 1 motorcycle, 524.8ms\n",
      "Speed: 7.0ms preprocess, 524.8ms inference, 6.5ms postprocess per image at shape (1, 3, 640, 608)\n",
      "WARNING  'Masks.segments' is deprecated. Use 'Masks.xyn' for segments (normalized) and 'Masks.xy' for segments (pixels) instead.\n"
     ]
    },
    {
     "name": "stdout",
     "output_type": "stream",
     "text": [
      "10.jpg\n"
     ]
    },
    {
     "name": "stderr",
     "output_type": "stream",
     "text": [
      "\n",
      "0: 640x480 1 motorcycle, 513.9ms\n",
      "Speed: 4.0ms preprocess, 513.9ms inference, 9.0ms postprocess per image at shape (1, 3, 640, 480)\n",
      "WARNING  'Masks.segments' is deprecated. Use 'Masks.xyn' for segments (normalized) and 'Masks.xy' for segments (pixels) instead.\n"
     ]
    },
    {
     "name": "stdout",
     "output_type": "stream",
     "text": [
      "11.jpg\n"
     ]
    },
    {
     "name": "stderr",
     "output_type": "stream",
     "text": [
      "\n",
      "0: 640x480 1 motorcycle, 432.0ms\n",
      "Speed: 4.0ms preprocess, 432.0ms inference, 8.6ms postprocess per image at shape (1, 3, 640, 480)\n",
      "WARNING  'Masks.segments' is deprecated. Use 'Masks.xyn' for segments (normalized) and 'Masks.xy' for segments (pixels) instead.\n",
      "\n"
     ]
    },
    {
     "name": "stdout",
     "output_type": "stream",
     "text": [
      "12.jpg\n"
     ]
    },
    {
     "name": "stderr",
     "output_type": "stream",
     "text": [
      "0: 640x480 1 motorcycle, 313.8ms\n",
      "Speed: 4.0ms preprocess, 313.8ms inference, 7.0ms postprocess per image at shape (1, 3, 640, 480)\n",
      "WARNING  'Masks.segments' is deprecated. Use 'Masks.xyn' for segments (normalized) and 'Masks.xy' for segments (pixels) instead.\n"
     ]
    },
    {
     "name": "stdout",
     "output_type": "stream",
     "text": [
      "13.jpg\n"
     ]
    },
    {
     "name": "stderr",
     "output_type": "stream",
     "text": [
      "\n",
      "0: 640x480 1 motorcycle, 321.7ms\n",
      "Speed: 8.0ms preprocess, 321.7ms inference, 8.5ms postprocess per image at shape (1, 3, 640, 480)\n",
      "WARNING  'Masks.segments' is deprecated. Use 'Masks.xyn' for segments (normalized) and 'Masks.xy' for segments (pixels) instead.\n",
      "\n"
     ]
    },
    {
     "name": "stdout",
     "output_type": "stream",
     "text": [
      "14.jpg\n"
     ]
    },
    {
     "name": "stderr",
     "output_type": "stream",
     "text": [
      "0: 640x640 1 motorcycle, 369.4ms\n",
      "Speed: 7.1ms preprocess, 369.4ms inference, 8.0ms postprocess per image at shape (1, 3, 640, 640)\n",
      "WARNING  'Masks.segments' is deprecated. Use 'Masks.xyn' for segments (normalized) and 'Masks.xy' for segments (pixels) instead.\n"
     ]
    },
    {
     "name": "stdout",
     "output_type": "stream",
     "text": [
      "15.jpg\n"
     ]
    },
    {
     "name": "stderr",
     "output_type": "stream",
     "text": [
      "\n",
      "0: 640x480 1 car, 1 motorcycle, 270.0ms\n",
      "Speed: 4.0ms preprocess, 270.0ms inference, 9.0ms postprocess per image at shape (1, 3, 640, 480)\n",
      "WARNING  'Masks.segments' is deprecated. Use 'Masks.xyn' for segments (normalized) and 'Masks.xy' for segments (pixels) instead.\n"
     ]
    },
    {
     "name": "stdout",
     "output_type": "stream",
     "text": [
      "16.jpg\n"
     ]
    },
    {
     "name": "stderr",
     "output_type": "stream",
     "text": [
      "\n",
      "0: 640x512 1 motorcycle, 404.7ms\n",
      "Speed: 3.5ms preprocess, 404.7ms inference, 8.0ms postprocess per image at shape (1, 3, 640, 512)\n",
      "WARNING  'Masks.segments' is deprecated. Use 'Masks.xyn' for segments (normalized) and 'Masks.xy' for segments (pixels) instead.\n"
     ]
    },
    {
     "name": "stdout",
     "output_type": "stream",
     "text": [
      "17.jpg\n"
     ]
    },
    {
     "name": "stderr",
     "output_type": "stream",
     "text": [
      "\n",
      "0: 640x416 1 motorcycle, 499.7ms\n",
      "Speed: 4.0ms preprocess, 499.7ms inference, 5.0ms postprocess per image at shape (1, 3, 640, 416)\n",
      "WARNING  'Masks.segments' is deprecated. Use 'Masks.xyn' for segments (normalized) and 'Masks.xy' for segments (pixels) instead.\n"
     ]
    },
    {
     "name": "stdout",
     "output_type": "stream",
     "text": [
      "18.jpg\n"
     ]
    },
    {
     "name": "stderr",
     "output_type": "stream",
     "text": [
      "\n",
      "0: 640x480 1 motorcycle, 242.6ms\n",
      "Speed: 4.0ms preprocess, 242.6ms inference, 5.0ms postprocess per image at shape (1, 3, 640, 480)\n",
      "WARNING  'Masks.segments' is deprecated. Use 'Masks.xyn' for segments (normalized) and 'Masks.xy' for segments (pixels) instead.\n"
     ]
    },
    {
     "name": "stdout",
     "output_type": "stream",
     "text": [
      "19.jpg\n"
     ]
    },
    {
     "name": "stderr",
     "output_type": "stream",
     "text": [
      "\n",
      "0: 640x480 2 motorcycles, 255.0ms\n",
      "Speed: 4.6ms preprocess, 255.0ms inference, 5.0ms postprocess per image at shape (1, 3, 640, 480)\n",
      "WARNING  'Masks.segments' is deprecated. Use 'Masks.xyn' for segments (normalized) and 'Masks.xy' for segments (pixels) instead.\n",
      "\n"
     ]
    },
    {
     "name": "stdout",
     "output_type": "stream",
     "text": [
      "2.jpg\n"
     ]
    },
    {
     "name": "stderr",
     "output_type": "stream",
     "text": [
      "0: 640x480 1 motorcycle, 260.6ms\n",
      "Speed: 5.0ms preprocess, 260.6ms inference, 5.0ms postprocess per image at shape (1, 3, 640, 480)\n",
      "WARNING  'Masks.segments' is deprecated. Use 'Masks.xyn' for segments (normalized) and 'Masks.xy' for segments (pixels) instead.\n"
     ]
    },
    {
     "name": "stdout",
     "output_type": "stream",
     "text": [
      "20.jpg\n"
     ]
    },
    {
     "name": "stderr",
     "output_type": "stream",
     "text": [
      "\n",
      "0: 640x576 1 motorcycle, 1 bench, 348.9ms\n",
      "Speed: 5.0ms preprocess, 348.9ms inference, 8.0ms postprocess per image at shape (1, 3, 640, 576)\n",
      "WARNING  'Masks.segments' is deprecated. Use 'Masks.xyn' for segments (normalized) and 'Masks.xy' for segments (pixels) instead.\n",
      "\n"
     ]
    },
    {
     "name": "stdout",
     "output_type": "stream",
     "text": [
      "21.jpg\n"
     ]
    },
    {
     "name": "stderr",
     "output_type": "stream",
     "text": [
      "0: 640x640 1 motorcycle, 1 skateboard, 343.6ms\n",
      "Speed: 6.1ms preprocess, 343.6ms inference, 12.0ms postprocess per image at shape (1, 3, 640, 640)\n",
      "WARNING  'Masks.segments' is deprecated. Use 'Masks.xyn' for segments (normalized) and 'Masks.xy' for segments (pixels) instead.\n"
     ]
    },
    {
     "name": "stdout",
     "output_type": "stream",
     "text": [
      "22.jpg\n"
     ]
    },
    {
     "name": "stderr",
     "output_type": "stream",
     "text": [
      "\n",
      "0: 640x640 2 motorcycles, 346.1ms\n",
      "Speed: 8.0ms preprocess, 346.1ms inference, 8.0ms postprocess per image at shape (1, 3, 640, 640)\n",
      "WARNING  'Masks.segments' is deprecated. Use 'Masks.xyn' for segments (normalized) and 'Masks.xy' for segments (pixels) instead.\n",
      "\n"
     ]
    },
    {
     "name": "stdout",
     "output_type": "stream",
     "text": [
      "23.jpg\n"
     ]
    },
    {
     "name": "stderr",
     "output_type": "stream",
     "text": [
      "0: 640x480 1 motorcycle, 313.7ms\n",
      "Speed: 4.0ms preprocess, 313.7ms inference, 6.0ms postprocess per image at shape (1, 3, 640, 480)\n",
      "WARNING  'Masks.segments' is deprecated. Use 'Masks.xyn' for segments (normalized) and 'Masks.xy' for segments (pixels) instead.\n"
     ]
    },
    {
     "name": "stdout",
     "output_type": "stream",
     "text": [
      "24.jpg\n"
     ]
    },
    {
     "name": "stderr",
     "output_type": "stream",
     "text": [
      "\n",
      "0: 640x480 1 motorcycle, 1 bench, 1 skateboard, 326.1ms\n",
      "Speed: 7.0ms preprocess, 326.1ms inference, 10.0ms postprocess per image at shape (1, 3, 640, 480)\n",
      "WARNING  'Masks.segments' is deprecated. Use 'Masks.xyn' for segments (normalized) and 'Masks.xy' for segments (pixels) instead.\n"
     ]
    },
    {
     "name": "stdout",
     "output_type": "stream",
     "text": [
      "25.jpg\n"
     ]
    },
    {
     "name": "stderr",
     "output_type": "stream",
     "text": [
      "\n",
      "0: 640x480 1 motorcycle, 290.1ms\n",
      "Speed: 5.0ms preprocess, 290.1ms inference, 7.5ms postprocess per image at shape (1, 3, 640, 480)\n",
      "WARNING  'Masks.segments' is deprecated. Use 'Masks.xyn' for segments (normalized) and 'Masks.xy' for segments (pixels) instead.\n"
     ]
    },
    {
     "name": "stdout",
     "output_type": "stream",
     "text": [
      "26.jpg\n"
     ]
    },
    {
     "name": "stderr",
     "output_type": "stream",
     "text": [
      "\n",
      "0: 640x480 1 motorcycle, 260.6ms\n",
      "Speed: 4.0ms preprocess, 260.6ms inference, 5.0ms postprocess per image at shape (1, 3, 640, 480)\n",
      "WARNING  'Masks.segments' is deprecated. Use 'Masks.xyn' for segments (normalized) and 'Masks.xy' for segments (pixels) instead.\n",
      "\n"
     ]
    },
    {
     "name": "stdout",
     "output_type": "stream",
     "text": [
      "27.jpg\n"
     ]
    },
    {
     "name": "stderr",
     "output_type": "stream",
     "text": [
      "0: 640x480 1 motorcycle, 279.2ms\n",
      "Speed: 4.0ms preprocess, 279.2ms inference, 7.0ms postprocess per image at shape (1, 3, 640, 480)\n",
      "WARNING  'Masks.segments' is deprecated. Use 'Masks.xyn' for segments (normalized) and 'Masks.xy' for segments (pixels) instead.\n"
     ]
    },
    {
     "name": "stdout",
     "output_type": "stream",
     "text": [
      "28.jpg\n"
     ]
    },
    {
     "name": "stderr",
     "output_type": "stream",
     "text": [
      "\n",
      "0: 640x480 1 motorcycle, 1 skateboard, 270.6ms\n",
      "Speed: 4.0ms preprocess, 270.6ms inference, 6.0ms postprocess per image at shape (1, 3, 640, 480)\n",
      "WARNING  'Masks.segments' is deprecated. Use 'Masks.xyn' for segments (normalized) and 'Masks.xy' for segments (pixels) instead.\n",
      "\n"
     ]
    },
    {
     "name": "stdout",
     "output_type": "stream",
     "text": [
      "29.jpg\n"
     ]
    },
    {
     "name": "stderr",
     "output_type": "stream",
     "text": [
      "0: 640x384 1 motorcycle, 325.2ms\n",
      "Speed: 2.0ms preprocess, 325.2ms inference, 5.0ms postprocess per image at shape (1, 3, 640, 384)\n",
      "WARNING  'Masks.segments' is deprecated. Use 'Masks.xyn' for segments (normalized) and 'Masks.xy' for segments (pixels) instead.\n",
      "\n"
     ]
    },
    {
     "name": "stdout",
     "output_type": "stream",
     "text": [
      "3.jpg\n"
     ]
    },
    {
     "name": "stderr",
     "output_type": "stream",
     "text": [
      "0: 640x480 1 motorcycle, 312.7ms\n",
      "Speed: 4.0ms preprocess, 312.7ms inference, 6.0ms postprocess per image at shape (1, 3, 640, 480)\n",
      "WARNING  'Masks.segments' is deprecated. Use 'Masks.xyn' for segments (normalized) and 'Masks.xy' for segments (pixels) instead.\n",
      "\n"
     ]
    },
    {
     "name": "stdout",
     "output_type": "stream",
     "text": [
      "30.jpg\n"
     ]
    },
    {
     "name": "stderr",
     "output_type": "stream",
     "text": [
      "0: 640x320 2 motorcycles, 288.7ms\n",
      "Speed: 3.0ms preprocess, 288.7ms inference, 5.0ms postprocess per image at shape (1, 3, 640, 320)\n",
      "WARNING  'Masks.segments' is deprecated. Use 'Masks.xyn' for segments (normalized) and 'Masks.xy' for segments (pixels) instead.\n",
      "\n"
     ]
    },
    {
     "name": "stdout",
     "output_type": "stream",
     "text": [
      "31.jpg\n"
     ]
    },
    {
     "name": "stderr",
     "output_type": "stream",
     "text": [
      "0: 640x320 2 motorcycles, 201.1ms\n",
      "Speed: 2.0ms preprocess, 201.1ms inference, 6.0ms postprocess per image at shape (1, 3, 640, 320)\n",
      "WARNING  'Masks.segments' is deprecated. Use 'Masks.xyn' for segments (normalized) and 'Masks.xy' for segments (pixels) instead.\n",
      "\n"
     ]
    },
    {
     "name": "stdout",
     "output_type": "stream",
     "text": [
      "32.jpg\n"
     ]
    },
    {
     "name": "stderr",
     "output_type": "stream",
     "text": [
      "0: 640x416 1 motorcycle, 245.1ms\n",
      "Speed: 4.0ms preprocess, 245.1ms inference, 6.0ms postprocess per image at shape (1, 3, 640, 416)\n",
      "WARNING  'Masks.segments' is deprecated. Use 'Masks.xyn' for segments (normalized) and 'Masks.xy' for segments (pixels) instead.\n"
     ]
    },
    {
     "name": "stdout",
     "output_type": "stream",
     "text": [
      "33.jpg\n"
     ]
    },
    {
     "name": "stderr",
     "output_type": "stream",
     "text": [
      "\n",
      "0: 640x480 2 motorcycles, 1 skateboard, 306.6ms\n",
      "Speed: 43.6ms preprocess, 306.6ms inference, 11.0ms postprocess per image at shape (1, 3, 640, 480)\n",
      "WARNING  'Masks.segments' is deprecated. Use 'Masks.xyn' for segments (normalized) and 'Masks.xy' for segments (pixels) instead.\n",
      "\n"
     ]
    },
    {
     "name": "stdout",
     "output_type": "stream",
     "text": [
      "34.jpg\n"
     ]
    },
    {
     "name": "stderr",
     "output_type": "stream",
     "text": [
      "0: 640x480 1 motorcycle, 293.6ms\n",
      "Speed: 4.0ms preprocess, 293.6ms inference, 6.0ms postprocess per image at shape (1, 3, 640, 480)\n",
      "WARNING  'Masks.segments' is deprecated. Use 'Masks.xyn' for segments (normalized) and 'Masks.xy' for segments (pixels) instead.\n"
     ]
    },
    {
     "name": "stdout",
     "output_type": "stream",
     "text": [
      "35.jpg\n"
     ]
    },
    {
     "name": "stderr",
     "output_type": "stream",
     "text": [
      "\n",
      "0: 640x480 1 motorcycle, 1 skateboard, 276.7ms\n",
      "Speed: 5.0ms preprocess, 276.7ms inference, 8.0ms postprocess per image at shape (1, 3, 640, 480)\n",
      "WARNING  'Masks.segments' is deprecated. Use 'Masks.xyn' for segments (normalized) and 'Masks.xy' for segments (pixels) instead.\n"
     ]
    },
    {
     "name": "stdout",
     "output_type": "stream",
     "text": [
      "36.jpg\n"
     ]
    },
    {
     "name": "stderr",
     "output_type": "stream",
     "text": [
      "\n",
      "0: 640x480 1 motorcycle, 274.6ms\n",
      "Speed: 4.0ms preprocess, 274.6ms inference, 6.0ms postprocess per image at shape (1, 3, 640, 480)\n",
      "WARNING  'Masks.segments' is deprecated. Use 'Masks.xyn' for segments (normalized) and 'Masks.xy' for segments (pixels) instead.\n",
      "\n"
     ]
    },
    {
     "name": "stdout",
     "output_type": "stream",
     "text": [
      "37.jpg\n"
     ]
    },
    {
     "name": "stderr",
     "output_type": "stream",
     "text": [
      "0: 640x416 1 motorcycle, 1 traffic light, 287.6ms\n",
      "Speed: 3.0ms preprocess, 287.6ms inference, 8.0ms postprocess per image at shape (1, 3, 640, 416)\n",
      "WARNING  'Masks.segments' is deprecated. Use 'Masks.xyn' for segments (normalized) and 'Masks.xy' for segments (pixels) instead.\n",
      "\n"
     ]
    },
    {
     "name": "stdout",
     "output_type": "stream",
     "text": [
      "38.jpg\n"
     ]
    },
    {
     "name": "stderr",
     "output_type": "stream",
     "text": [
      "0: 640x384 1 motorcycle, 256.6ms\n",
      "Speed: 3.0ms preprocess, 256.6ms inference, 3.0ms postprocess per image at shape (1, 3, 640, 384)\n",
      "WARNING  'Masks.segments' is deprecated. Use 'Masks.xyn' for segments (normalized) and 'Masks.xy' for segments (pixels) instead.\n",
      "\n"
     ]
    },
    {
     "name": "stdout",
     "output_type": "stream",
     "text": [
      "39.jpg\n"
     ]
    },
    {
     "name": "stderr",
     "output_type": "stream",
     "text": [
      "0: 640x384 1 motorcycle, 216.1ms\n",
      "Speed: 3.0ms preprocess, 216.1ms inference, 4.5ms postprocess per image at shape (1, 3, 640, 384)\n",
      "WARNING  'Masks.segments' is deprecated. Use 'Masks.xyn' for segments (normalized) and 'Masks.xy' for segments (pixels) instead.\n"
     ]
    },
    {
     "name": "stdout",
     "output_type": "stream",
     "text": [
      "40.jpg\n"
     ]
    },
    {
     "name": "stderr",
     "output_type": "stream",
     "text": [
      "\n",
      "0: 640x480 2 motorcycles, 1 skateboard, 285.6ms\n",
      "Speed: 5.0ms preprocess, 285.6ms inference, 9.0ms postprocess per image at shape (1, 3, 640, 480)\n",
      "WARNING  'Masks.segments' is deprecated. Use 'Masks.xyn' for segments (normalized) and 'Masks.xy' for segments (pixels) instead.\n"
     ]
    },
    {
     "name": "stdout",
     "output_type": "stream",
     "text": [
      "41.jpg\n"
     ]
    },
    {
     "name": "stderr",
     "output_type": "stream",
     "text": [
      "\n",
      "0: 640x480 2 motorcycles, 267.0ms\n",
      "Speed: 3.0ms preprocess, 267.0ms inference, 9.0ms postprocess per image at shape (1, 3, 640, 480)\n",
      "WARNING  'Masks.segments' is deprecated. Use 'Masks.xyn' for segments (normalized) and 'Masks.xy' for segments (pixels) instead.\n"
     ]
    },
    {
     "name": "stdout",
     "output_type": "stream",
     "text": [
      "42.jpg\n"
     ]
    },
    {
     "name": "stderr",
     "output_type": "stream",
     "text": [
      "\n",
      "0: 640x480 2 motorcycles, 1 bench, 1 skateboard, 256.6ms\n",
      "Speed: 4.0ms preprocess, 256.6ms inference, 13.0ms postprocess per image at shape (1, 3, 640, 480)\n",
      "WARNING  'Masks.segments' is deprecated. Use 'Masks.xyn' for segments (normalized) and 'Masks.xy' for segments (pixels) instead.\n"
     ]
    },
    {
     "name": "stdout",
     "output_type": "stream",
     "text": [
      "43.jpg\n"
     ]
    },
    {
     "name": "stderr",
     "output_type": "stream",
     "text": [
      "\n",
      "0: 640x480 2 motorcycles, 1 skateboard, 269.8ms\n",
      "Speed: 4.0ms preprocess, 269.8ms inference, 13.0ms postprocess per image at shape (1, 3, 640, 480)\n",
      "WARNING  'Masks.segments' is deprecated. Use 'Masks.xyn' for segments (normalized) and 'Masks.xy' for segments (pixels) instead.\n"
     ]
    },
    {
     "name": "stdout",
     "output_type": "stream",
     "text": [
      "44.jpg\n"
     ]
    },
    {
     "name": "stderr",
     "output_type": "stream",
     "text": [
      "\n",
      "0: 640x480 2 motorcycles, 1 kite, 1 skateboard, 323.2ms\n",
      "Speed: 39.6ms preprocess, 323.2ms inference, 11.0ms postprocess per image at shape (1, 3, 640, 480)\n",
      "WARNING  'Masks.segments' is deprecated. Use 'Masks.xyn' for segments (normalized) and 'Masks.xy' for segments (pixels) instead.\n",
      "\n"
     ]
    },
    {
     "name": "stdout",
     "output_type": "stream",
     "text": [
      "45.jpg\n"
     ]
    },
    {
     "name": "stderr",
     "output_type": "stream",
     "text": [
      "0: 512x640 1 motorcycle, 1 airplane, 330.3ms\n",
      "Speed: 3.0ms preprocess, 330.3ms inference, 7.0ms postprocess per image at shape (1, 3, 512, 640)\n",
      "WARNING  'Masks.segments' is deprecated. Use 'Masks.xyn' for segments (normalized) and 'Masks.xy' for segments (pixels) instead.\n",
      "\n"
     ]
    },
    {
     "name": "stdout",
     "output_type": "stream",
     "text": [
      "46.jpg\n"
     ]
    },
    {
     "name": "stderr",
     "output_type": "stream",
     "text": [
      "0: 640x480 1 motorcycle, 301.6ms\n",
      "Speed: 4.0ms preprocess, 301.6ms inference, 6.0ms postprocess per image at shape (1, 3, 640, 480)\n",
      "WARNING  'Masks.segments' is deprecated. Use 'Masks.xyn' for segments (normalized) and 'Masks.xy' for segments (pixels) instead.\n"
     ]
    },
    {
     "name": "stdout",
     "output_type": "stream",
     "text": [
      "47.jpg\n"
     ]
    },
    {
     "name": "stderr",
     "output_type": "stream",
     "text": [
      "\n",
      "0: 640x480 2 motorcycles, 1 skateboard, 272.2ms\n",
      "Speed: 5.0ms preprocess, 272.2ms inference, 11.0ms postprocess per image at shape (1, 3, 640, 480)\n",
      "WARNING  'Masks.segments' is deprecated. Use 'Masks.xyn' for segments (normalized) and 'Masks.xy' for segments (pixels) instead.\n",
      "\n"
     ]
    },
    {
     "name": "stdout",
     "output_type": "stream",
     "text": [
      "48.jpg\n"
     ]
    },
    {
     "name": "stderr",
     "output_type": "stream",
     "text": [
      "0: 640x416 1 motorcycle, 224.1ms\n",
      "Speed: 3.0ms preprocess, 224.1ms inference, 4.0ms postprocess per image at shape (1, 3, 640, 416)\n",
      "WARNING  'Masks.segments' is deprecated. Use 'Masks.xyn' for segments (normalized) and 'Masks.xy' for segments (pixels) instead.\n"
     ]
    },
    {
     "name": "stdout",
     "output_type": "stream",
     "text": [
      "49.jpg\n"
     ]
    },
    {
     "name": "stderr",
     "output_type": "stream",
     "text": [
      "\n",
      "0: 640x480 1 motorcycle, 296.6ms\n",
      "Speed: 5.0ms preprocess, 296.6ms inference, 7.0ms postprocess per image at shape (1, 3, 640, 480)\n",
      "WARNING  'Masks.segments' is deprecated. Use 'Masks.xyn' for segments (normalized) and 'Masks.xy' for segments (pixels) instead.\n"
     ]
    },
    {
     "name": "stdout",
     "output_type": "stream",
     "text": [
      "5.jpg\n"
     ]
    },
    {
     "name": "stderr",
     "output_type": "stream",
     "text": [
      "\n",
      "0: 640x480 1 motorcycle, 328.6ms\n",
      "Speed: 6.0ms preprocess, 328.6ms inference, 7.0ms postprocess per image at shape (1, 3, 640, 480)\n",
      "WARNING  'Masks.segments' is deprecated. Use 'Masks.xyn' for segments (normalized) and 'Masks.xy' for segments (pixels) instead.\n"
     ]
    },
    {
     "name": "stdout",
     "output_type": "stream",
     "text": [
      "50.jpg\n"
     ]
    },
    {
     "name": "stderr",
     "output_type": "stream",
     "text": [
      "\n",
      "0: 640x480 1 motorcycle, 286.6ms\n",
      "Speed: 4.0ms preprocess, 286.6ms inference, 4.0ms postprocess per image at shape (1, 3, 640, 480)\n",
      "WARNING  'Masks.segments' is deprecated. Use 'Masks.xyn' for segments (normalized) and 'Masks.xy' for segments (pixels) instead.\n",
      "\n"
     ]
    },
    {
     "name": "stdout",
     "output_type": "stream",
     "text": [
      "51.jpg\n"
     ]
    },
    {
     "name": "stderr",
     "output_type": "stream",
     "text": [
      "0: 640x480 1 motorcycle, 295.6ms\n",
      "Speed: 4.0ms preprocess, 295.6ms inference, 6.0ms postprocess per image at shape (1, 3, 640, 480)\n",
      "WARNING  'Masks.segments' is deprecated. Use 'Masks.xyn' for segments (normalized) and 'Masks.xy' for segments (pixels) instead.\n",
      "\n"
     ]
    },
    {
     "name": "stdout",
     "output_type": "stream",
     "text": [
      "52.jpg\n"
     ]
    },
    {
     "name": "stderr",
     "output_type": "stream",
     "text": [
      "0: 640x480 1 motorcycle, 288.1ms\n",
      "Speed: 6.5ms preprocess, 288.1ms inference, 6.0ms postprocess per image at shape (1, 3, 640, 480)\n",
      "WARNING  'Masks.segments' is deprecated. Use 'Masks.xyn' for segments (normalized) and 'Masks.xy' for segments (pixels) instead.\n",
      "\n"
     ]
    },
    {
     "name": "stdout",
     "output_type": "stream",
     "text": [
      "53.jpg\n"
     ]
    },
    {
     "name": "stderr",
     "output_type": "stream",
     "text": [
      "0: 608x640 1 motorcycle, 448.5ms\n",
      "Speed: 5.0ms preprocess, 448.5ms inference, 7.0ms postprocess per image at shape (1, 3, 608, 640)\n",
      "WARNING  'Masks.segments' is deprecated. Use 'Masks.xyn' for segments (normalized) and 'Masks.xy' for segments (pixels) instead.\n",
      "\n"
     ]
    },
    {
     "name": "stdout",
     "output_type": "stream",
     "text": [
      "54.jpg\n"
     ]
    },
    {
     "name": "stderr",
     "output_type": "stream",
     "text": [
      "0: 640x480 1 motorcycle, 438.2ms\n",
      "Speed: 4.0ms preprocess, 438.2ms inference, 5.0ms postprocess per image at shape (1, 3, 640, 480)\n",
      "WARNING  'Masks.segments' is deprecated. Use 'Masks.xyn' for segments (normalized) and 'Masks.xy' for segments (pixels) instead.\n",
      "\n"
     ]
    },
    {
     "name": "stdout",
     "output_type": "stream",
     "text": [
      "55.jpg\n"
     ]
    },
    {
     "name": "stderr",
     "output_type": "stream",
     "text": [
      "0: 640x576 1 person, 1 car, 1 motorcycle, 339.1ms\n",
      "Speed: 5.0ms preprocess, 339.1ms inference, 12.0ms postprocess per image at shape (1, 3, 640, 576)\n",
      "WARNING  'Masks.segments' is deprecated. Use 'Masks.xyn' for segments (normalized) and 'Masks.xy' for segments (pixels) instead.\n",
      "\n"
     ]
    },
    {
     "name": "stdout",
     "output_type": "stream",
     "text": [
      "56.jpg\n"
     ]
    },
    {
     "name": "stderr",
     "output_type": "stream",
     "text": [
      "0: 640x480 1 motorcycle, 328.7ms\n",
      "Speed: 3.0ms preprocess, 328.7ms inference, 6.5ms postprocess per image at shape (1, 3, 640, 480)\n",
      "WARNING  'Masks.segments' is deprecated. Use 'Masks.xyn' for segments (normalized) and 'Masks.xy' for segments (pixels) instead.\n",
      "\n"
     ]
    },
    {
     "name": "stdout",
     "output_type": "stream",
     "text": [
      "6.jpg\n"
     ]
    },
    {
     "name": "stderr",
     "output_type": "stream",
     "text": [
      "0: 608x640 1 motorcycle, 354.1ms\n",
      "Speed: 6.0ms preprocess, 354.1ms inference, 9.0ms postprocess per image at shape (1, 3, 608, 640)\n",
      "WARNING  'Masks.segments' is deprecated. Use 'Masks.xyn' for segments (normalized) and 'Masks.xy' for segments (pixels) instead.\n",
      "\n"
     ]
    },
    {
     "name": "stdout",
     "output_type": "stream",
     "text": [
      "7.jpg\n"
     ]
    },
    {
     "name": "stderr",
     "output_type": "stream",
     "text": [
      "0: 608x640 1 motorcycle, 1 airplane, 328.6ms\n",
      "Speed: 5.0ms preprocess, 328.6ms inference, 8.5ms postprocess per image at shape (1, 3, 608, 640)\n",
      "WARNING  'Masks.segments' is deprecated. Use 'Masks.xyn' for segments (normalized) and 'Masks.xy' for segments (pixels) instead.\n",
      "\n"
     ]
    },
    {
     "name": "stdout",
     "output_type": "stream",
     "text": [
      "8.jpg\n"
     ]
    },
    {
     "name": "stderr",
     "output_type": "stream",
     "text": [
      "0: 640x640 1 motorcycle, 374.5ms\n",
      "Speed: 6.5ms preprocess, 374.5ms inference, 8.0ms postprocess per image at shape (1, 3, 640, 640)\n",
      "WARNING  'Masks.segments' is deprecated. Use 'Masks.xyn' for segments (normalized) and 'Masks.xy' for segments (pixels) instead.\n",
      "\n"
     ]
    },
    {
     "name": "stdout",
     "output_type": "stream",
     "text": [
      "9.jpg\n"
     ]
    },
    {
     "name": "stderr",
     "output_type": "stream",
     "text": [
      "0: 640x608 1 person, 2 motorcycles, 347.5ms\n",
      "Speed: 6.0ms preprocess, 347.5ms inference, 13.0ms postprocess per image at shape (1, 3, 640, 608)\n",
      "WARNING  'Masks.segments' is deprecated. Use 'Masks.xyn' for segments (normalized) and 'Masks.xy' for segments (pixels) instead.\n"
     ]
    },
    {
     "name": "stdout",
     "output_type": "stream",
     "text": [
      "super.jpg\n"
     ]
    },
    {
     "name": "stderr",
     "output_type": "stream",
     "text": [
      "\n",
      "0: 640x480 1 suitcase, 1 oven, 340.6ms\n",
      "Speed: 3.0ms preprocess, 340.6ms inference, 9.0ms postprocess per image at shape (1, 3, 640, 480)\n",
      "WARNING  'Masks.segments' is deprecated. Use 'Masks.xyn' for segments (normalized) and 'Masks.xy' for segments (pixels) instead.\n"
     ]
    },
    {
     "name": "stdout",
     "output_type": "stream",
     "text": [
      "0.jpg\n"
     ]
    },
    {
     "name": "stderr",
     "output_type": "stream",
     "text": [
      "\n",
      "0: 640x480 2 persons, 2 motorcycles, 343.1ms\n",
      "Speed: 5.0ms preprocess, 343.1ms inference, 16.0ms postprocess per image at shape (1, 3, 640, 480)\n",
      "WARNING  'Masks.segments' is deprecated. Use 'Masks.xyn' for segments (normalized) and 'Masks.xy' for segments (pixels) instead.\n"
     ]
    },
    {
     "name": "stdout",
     "output_type": "stream",
     "text": [
      "1.jpg\n"
     ]
    },
    {
     "name": "stderr",
     "output_type": "stream",
     "text": [
      "\n",
      "0: 640x480 2 persons, 1 car, 2 motorcycles, 323.3ms\n",
      "Speed: 5.0ms preprocess, 323.3ms inference, 14.0ms postprocess per image at shape (1, 3, 640, 480)\n",
      "WARNING  'Masks.segments' is deprecated. Use 'Masks.xyn' for segments (normalized) and 'Masks.xy' for segments (pixels) instead.\n"
     ]
    },
    {
     "name": "stdout",
     "output_type": "stream",
     "text": [
      "10.jpg\n"
     ]
    },
    {
     "name": "stderr",
     "output_type": "stream",
     "text": [
      "\n",
      "0: 640x480 2 persons, 1 motorcycle, 336.9ms\n",
      "Speed: 5.0ms preprocess, 336.9ms inference, 12.0ms postprocess per image at shape (1, 3, 640, 480)\n",
      "WARNING  'Masks.segments' is deprecated. Use 'Masks.xyn' for segments (normalized) and 'Masks.xy' for segments (pixels) instead.\n"
     ]
    },
    {
     "name": "stdout",
     "output_type": "stream",
     "text": [
      "11.jpg\n"
     ]
    },
    {
     "name": "stderr",
     "output_type": "stream",
     "text": [
      "\n",
      "0: 640x480 2 persons, 1 motorcycle, 268.3ms\n",
      "Speed: 4.0ms preprocess, 268.3ms inference, 10.0ms postprocess per image at shape (1, 3, 640, 480)\n",
      "WARNING  'Masks.segments' is deprecated. Use 'Masks.xyn' for segments (normalized) and 'Masks.xy' for segments (pixels) instead.\n"
     ]
    },
    {
     "name": "stdout",
     "output_type": "stream",
     "text": [
      "12.jpg\n"
     ]
    },
    {
     "name": "stderr",
     "output_type": "stream",
     "text": [
      "\n",
      "0: 640x480 2 persons, 1 motorcycle, 285.5ms\n",
      "Speed: 5.0ms preprocess, 285.5ms inference, 13.0ms postprocess per image at shape (1, 3, 640, 480)\n",
      "WARNING  'Masks.segments' is deprecated. Use 'Masks.xyn' for segments (normalized) and 'Masks.xy' for segments (pixels) instead.\n"
     ]
    },
    {
     "name": "stdout",
     "output_type": "stream",
     "text": [
      "13.jpg\n"
     ]
    },
    {
     "name": "stderr",
     "output_type": "stream",
     "text": [
      "\n",
      "0: 640x480 3 persons, 1 motorcycle, 246.1ms\n",
      "Speed: 5.0ms preprocess, 246.1ms inference, 9.0ms postprocess per image at shape (1, 3, 640, 480)\n",
      "WARNING  'Masks.segments' is deprecated. Use 'Masks.xyn' for segments (normalized) and 'Masks.xy' for segments (pixels) instead.\n"
     ]
    },
    {
     "name": "stdout",
     "output_type": "stream",
     "text": [
      "14.jpg\n"
     ]
    },
    {
     "name": "stderr",
     "output_type": "stream",
     "text": [
      "\n",
      "0: 640x480 3 persons, 1 motorcycle, 259.6ms\n",
      "Speed: 4.0ms preprocess, 259.6ms inference, 14.0ms postprocess per image at shape (1, 3, 640, 480)\n",
      "WARNING  'Masks.segments' is deprecated. Use 'Masks.xyn' for segments (normalized) and 'Masks.xy' for segments (pixels) instead.\n"
     ]
    },
    {
     "name": "stdout",
     "output_type": "stream",
     "text": [
      "15.jpg\n"
     ]
    },
    {
     "name": "stderr",
     "output_type": "stream",
     "text": [
      "\n",
      "0: 640x480 1 person, 1 motorcycle, 1 stop sign, 285.6ms\n",
      "Speed: 4.0ms preprocess, 285.6ms inference, 12.0ms postprocess per image at shape (1, 3, 640, 480)\n",
      "WARNING  'Masks.segments' is deprecated. Use 'Masks.xyn' for segments (normalized) and 'Masks.xy' for segments (pixels) instead.\n"
     ]
    },
    {
     "name": "stdout",
     "output_type": "stream",
     "text": [
      "16.jpg\n"
     ]
    },
    {
     "name": "stderr",
     "output_type": "stream",
     "text": [
      "\n",
      "0: 640x480 1 person, 1 motorcycle, 1 stop sign, 370.9ms\n",
      "Speed: 5.0ms preprocess, 370.9ms inference, 13.0ms postprocess per image at shape (1, 3, 640, 480)\n",
      "WARNING  'Masks.segments' is deprecated. Use 'Masks.xyn' for segments (normalized) and 'Masks.xy' for segments (pixels) instead.\n"
     ]
    },
    {
     "name": "stdout",
     "output_type": "stream",
     "text": [
      "17.jpg\n"
     ]
    },
    {
     "name": "stderr",
     "output_type": "stream",
     "text": [
      "\n",
      "0: 640x480 1 person, 1 motorcycle, 1 stop sign, 277.1ms\n",
      "Speed: 4.0ms preprocess, 277.1ms inference, 9.0ms postprocess per image at shape (1, 3, 640, 480)\n",
      "WARNING  'Masks.segments' is deprecated. Use 'Masks.xyn' for segments (normalized) and 'Masks.xy' for segments (pixels) instead.\n"
     ]
    },
    {
     "name": "stdout",
     "output_type": "stream",
     "text": [
      "18.jpg\n"
     ]
    },
    {
     "name": "stderr",
     "output_type": "stream",
     "text": [
      "\n",
      "0: 640x480 1 person, 1 motorcycle, 1 stop sign, 298.6ms\n",
      "Speed: 4.0ms preprocess, 298.6ms inference, 11.0ms postprocess per image at shape (1, 3, 640, 480)\n",
      "WARNING  'Masks.segments' is deprecated. Use 'Masks.xyn' for segments (normalized) and 'Masks.xy' for segments (pixels) instead.\n"
     ]
    },
    {
     "name": "stdout",
     "output_type": "stream",
     "text": [
      "19.jpg\n"
     ]
    },
    {
     "name": "stderr",
     "output_type": "stream",
     "text": [
      "\n",
      "0: 640x480 1 person, 2 motorcycles, 1 stop sign, 306.2ms\n",
      "Speed: 4.0ms preprocess, 306.2ms inference, 15.0ms postprocess per image at shape (1, 3, 640, 480)\n",
      "WARNING  'Masks.segments' is deprecated. Use 'Masks.xyn' for segments (normalized) and 'Masks.xy' for segments (pixels) instead.\n"
     ]
    },
    {
     "name": "stdout",
     "output_type": "stream",
     "text": [
      "2.jpg\n"
     ]
    },
    {
     "name": "stderr",
     "output_type": "stream",
     "text": [
      "\n",
      "0: 640x480 2 persons, 2 motorcycles, 1 backpack, 312.3ms\n",
      "Speed: 4.0ms preprocess, 312.3ms inference, 16.5ms postprocess per image at shape (1, 3, 640, 480)\n",
      "WARNING  'Masks.segments' is deprecated. Use 'Masks.xyn' for segments (normalized) and 'Masks.xy' for segments (pixels) instead.\n"
     ]
    },
    {
     "name": "stdout",
     "output_type": "stream",
     "text": [
      "20.jpg\n"
     ]
    },
    {
     "name": "stderr",
     "output_type": "stream",
     "text": [
      "\n",
      "0: 640x480 1 person, 2 motorcycles, 1 stop sign, 341.6ms\n",
      "Speed: 4.0ms preprocess, 341.6ms inference, 15.5ms postprocess per image at shape (1, 3, 640, 480)\n",
      "WARNING  'Masks.segments' is deprecated. Use 'Masks.xyn' for segments (normalized) and 'Masks.xy' for segments (pixels) instead.\n"
     ]
    },
    {
     "name": "stdout",
     "output_type": "stream",
     "text": [
      "3.jpg\n"
     ]
    },
    {
     "name": "stderr",
     "output_type": "stream",
     "text": [
      "\n",
      "0: 640x480 1 person, 2 motorcycles, 271.6ms\n",
      "Speed: 4.0ms preprocess, 271.6ms inference, 11.0ms postprocess per image at shape (1, 3, 640, 480)\n",
      "WARNING  'Masks.segments' is deprecated. Use 'Masks.xyn' for segments (normalized) and 'Masks.xy' for segments (pixels) instead.\n"
     ]
    },
    {
     "name": "stdout",
     "output_type": "stream",
     "text": [
      "4.jpg\n"
     ]
    },
    {
     "name": "stderr",
     "output_type": "stream",
     "text": [
      "\n",
      "0: 640x480 1 person, 2 motorcycles, 264.6ms\n",
      "Speed: 4.0ms preprocess, 264.6ms inference, 11.0ms postprocess per image at shape (1, 3, 640, 480)\n",
      "WARNING  'Masks.segments' is deprecated. Use 'Masks.xyn' for segments (normalized) and 'Masks.xy' for segments (pixels) instead.\n"
     ]
    },
    {
     "name": "stdout",
     "output_type": "stream",
     "text": [
      "5.jpg\n"
     ]
    },
    {
     "name": "stderr",
     "output_type": "stream",
     "text": [
      "\n",
      "0: 640x480 1 person, 1 car, 2 motorcycles, 287.6ms\n",
      "Speed: 5.0ms preprocess, 287.6ms inference, 12.0ms postprocess per image at shape (1, 3, 640, 480)\n",
      "WARNING  'Masks.segments' is deprecated. Use 'Masks.xyn' for segments (normalized) and 'Masks.xy' for segments (pixels) instead.\n"
     ]
    },
    {
     "name": "stdout",
     "output_type": "stream",
     "text": [
      "6.jpg\n"
     ]
    },
    {
     "name": "stderr",
     "output_type": "stream",
     "text": [
      "\n",
      "0: 640x480 1 person, 2 motorcycles, 269.6ms\n",
      "Speed: 4.0ms preprocess, 269.6ms inference, 12.0ms postprocess per image at shape (1, 3, 640, 480)\n",
      "WARNING  'Masks.segments' is deprecated. Use 'Masks.xyn' for segments (normalized) and 'Masks.xy' for segments (pixels) instead.\n"
     ]
    },
    {
     "name": "stdout",
     "output_type": "stream",
     "text": [
      "7.jpg\n"
     ]
    },
    {
     "name": "stderr",
     "output_type": "stream",
     "text": [
      "\n",
      "0: 640x480 1 person, 2 motorcycles, 286.5ms\n",
      "Speed: 5.0ms preprocess, 286.5ms inference, 9.0ms postprocess per image at shape (1, 3, 640, 480)\n",
      "WARNING  'Masks.segments' is deprecated. Use 'Masks.xyn' for segments (normalized) and 'Masks.xy' for segments (pixels) instead.\n"
     ]
    },
    {
     "name": "stdout",
     "output_type": "stream",
     "text": [
      "8.jpg\n"
     ]
    },
    {
     "name": "stderr",
     "output_type": "stream",
     "text": [
      "\n",
      "0: 640x480 1 person, 1 car, 2 motorcycles, 313.6ms\n",
      "Speed: 5.0ms preprocess, 313.6ms inference, 16.5ms postprocess per image at shape (1, 3, 640, 480)\n",
      "WARNING  'Masks.segments' is deprecated. Use 'Masks.xyn' for segments (normalized) and 'Masks.xy' for segments (pixels) instead.\n"
     ]
    },
    {
     "name": "stdout",
     "output_type": "stream",
     "text": [
      "9.jpg\n"
     ]
    },
    {
     "name": "stderr",
     "output_type": "stream",
     "text": [
      "\n",
      "0: 640x480 2 persons, 1 motorcycle, 293.6ms\n",
      "Speed: 3.0ms preprocess, 293.6ms inference, 10.0ms postprocess per image at shape (1, 3, 640, 480)\n",
      "WARNING  'Masks.segments' is deprecated. Use 'Masks.xyn' for segments (normalized) and 'Masks.xy' for segments (pixels) instead.\n"
     ]
    },
    {
     "name": "stdout",
     "output_type": "stream",
     "text": [
      "super.jpg\n"
     ]
    },
    {
     "name": "stderr",
     "output_type": "stream",
     "text": [
      "\n",
      "0: 640x480 1 car, 261.1ms\n",
      "Speed: 4.0ms preprocess, 261.1ms inference, 6.0ms postprocess per image at shape (1, 3, 640, 480)\n",
      "WARNING  'Masks.segments' is deprecated. Use 'Masks.xyn' for segments (normalized) and 'Masks.xy' for segments (pixels) instead.\n"
     ]
    },
    {
     "name": "stdout",
     "output_type": "stream",
     "text": [
      "0.jpg\n"
     ]
    },
    {
     "name": "stderr",
     "output_type": "stream",
     "text": [
      "\n",
      "0: 640x480 1 person, 1 motorcycle, 285.6ms\n",
      "Speed: 4.0ms preprocess, 285.6ms inference, 10.0ms postprocess per image at shape (1, 3, 640, 480)\n",
      "WARNING  'Masks.segments' is deprecated. Use 'Masks.xyn' for segments (normalized) and 'Masks.xy' for segments (pixels) instead.\n"
     ]
    },
    {
     "name": "stdout",
     "output_type": "stream",
     "text": [
      "1.jpg\n"
     ]
    },
    {
     "name": "stderr",
     "output_type": "stream",
     "text": [
      "\n",
      "0: 640x480 2 persons, 1 motorcycle, 294.6ms\n",
      "Speed: 4.0ms preprocess, 294.6ms inference, 12.0ms postprocess per image at shape (1, 3, 640, 480)\n",
      "WARNING  'Masks.segments' is deprecated. Use 'Masks.xyn' for segments (normalized) and 'Masks.xy' for segments (pixels) instead.\n"
     ]
    },
    {
     "name": "stdout",
     "output_type": "stream",
     "text": [
      "2.jpg\n"
     ]
    },
    {
     "name": "stderr",
     "output_type": "stream",
     "text": [
      "\n",
      "0: 640x480 1 person, 2 cars, 1 motorcycle, 266.1ms\n",
      "Speed: 4.0ms preprocess, 266.1ms inference, 13.5ms postprocess per image at shape (1, 3, 640, 480)\n",
      "WARNING  'Masks.segments' is deprecated. Use 'Masks.xyn' for segments (normalized) and 'Masks.xy' for segments (pixels) instead.\n"
     ]
    },
    {
     "name": "stdout",
     "output_type": "stream",
     "text": [
      "3.jpg\n"
     ]
    },
    {
     "name": "stderr",
     "output_type": "stream",
     "text": [
      "\n",
      "0: 640x480 1 person, 1 motorcycle, 290.4ms\n",
      "Speed: 4.0ms preprocess, 290.4ms inference, 11.0ms postprocess per image at shape (1, 3, 640, 480)\n",
      "WARNING  'Masks.segments' is deprecated. Use 'Masks.xyn' for segments (normalized) and 'Masks.xy' for segments (pixels) instead.\n"
     ]
    },
    {
     "name": "stdout",
     "output_type": "stream",
     "text": [
      "4.jpg\n"
     ]
    },
    {
     "name": "stderr",
     "output_type": "stream",
     "text": [
      "\n",
      "0: 640x480 4 persons, 2 motorcycles, 281.6ms\n",
      "Speed: 5.0ms preprocess, 281.6ms inference, 16.0ms postprocess per image at shape (1, 3, 640, 480)\n",
      "WARNING  'Masks.segments' is deprecated. Use 'Masks.xyn' for segments (normalized) and 'Masks.xy' for segments (pixels) instead.\n"
     ]
    },
    {
     "name": "stdout",
     "output_type": "stream",
     "text": [
      "5.jpg\n"
     ]
    },
    {
     "name": "stderr",
     "output_type": "stream",
     "text": [
      "\n",
      "0: 640x480 1 person, 1 motorcycle, 265.6ms\n",
      "Speed: 5.0ms preprocess, 265.6ms inference, 7.0ms postprocess per image at shape (1, 3, 640, 480)\n",
      "WARNING  'Masks.segments' is deprecated. Use 'Masks.xyn' for segments (normalized) and 'Masks.xy' for segments (pixels) instead.\n",
      "\n"
     ]
    },
    {
     "name": "stdout",
     "output_type": "stream",
     "text": [
      "super.jpg\n"
     ]
    },
    {
     "name": "stderr",
     "output_type": "stream",
     "text": [
      "0: 640x512 (no detections), 341.7ms\n",
      "Speed: 4.0ms preprocess, 341.7ms inference, 3.0ms postprocess per image at shape (1, 3, 640, 512)\n"
     ]
    },
    {
     "name": "stdout",
     "output_type": "stream",
     "text": [
      "0.jpg\n"
     ]
    },
    {
     "name": "stderr",
     "output_type": "stream",
     "text": [
      "\n",
      "0: 640x480 1 person, 3 motorcycles, 299.6ms\n",
      "Speed: 5.0ms preprocess, 299.6ms inference, 16.0ms postprocess per image at shape (1, 3, 640, 480)\n",
      "WARNING  'Masks.segments' is deprecated. Use 'Masks.xyn' for segments (normalized) and 'Masks.xy' for segments (pixels) instead.\n"
     ]
    },
    {
     "name": "stdout",
     "output_type": "stream",
     "text": [
      "1.jpg\n"
     ]
    },
    {
     "name": "stderr",
     "output_type": "stream",
     "text": [
      "\n",
      "0: 640x480 1 person, 3 motorcycles, 310.2ms\n",
      "Speed: 4.1ms preprocess, 310.2ms inference, 14.0ms postprocess per image at shape (1, 3, 640, 480)\n",
      "WARNING  'Masks.segments' is deprecated. Use 'Masks.xyn' for segments (normalized) and 'Masks.xy' for segments (pixels) instead.\n"
     ]
    },
    {
     "name": "stdout",
     "output_type": "stream",
     "text": [
      "2.jpg\n"
     ]
    },
    {
     "name": "stderr",
     "output_type": "stream",
     "text": [
      "\n",
      "0: 640x480 1 person, 2 motorcycles, 272.1ms\n",
      "Speed: 3.0ms preprocess, 272.1ms inference, 11.0ms postprocess per image at shape (1, 3, 640, 480)\n",
      "WARNING  'Masks.segments' is deprecated. Use 'Masks.xyn' for segments (normalized) and 'Masks.xy' for segments (pixels) instead.\n"
     ]
    },
    {
     "name": "stdout",
     "output_type": "stream",
     "text": [
      "3.jpg\n"
     ]
    },
    {
     "name": "stderr",
     "output_type": "stream",
     "text": [
      "\n",
      "0: 640x480 1 person, 1 car, 1 motorcycle, 293.2ms\n",
      "Speed: 3.0ms preprocess, 293.2ms inference, 10.0ms postprocess per image at shape (1, 3, 640, 480)\n",
      "WARNING  'Masks.segments' is deprecated. Use 'Masks.xyn' for segments (normalized) and 'Masks.xy' for segments (pixels) instead.\n"
     ]
    },
    {
     "name": "stdout",
     "output_type": "stream",
     "text": [
      "4.jpg\n"
     ]
    },
    {
     "name": "stderr",
     "output_type": "stream",
     "text": [
      "\n",
      "0: 640x480 1 person, 2 motorcycles, 1 stop sign, 261.6ms\n",
      "Speed: 3.0ms preprocess, 261.6ms inference, 12.0ms postprocess per image at shape (1, 3, 640, 480)\n",
      "WARNING  'Masks.segments' is deprecated. Use 'Masks.xyn' for segments (normalized) and 'Masks.xy' for segments (pixels) instead.\n"
     ]
    },
    {
     "name": "stdout",
     "output_type": "stream",
     "text": [
      "5.jpg\n"
     ]
    },
    {
     "name": "stderr",
     "output_type": "stream",
     "text": [
      "\n",
      "0: 640x480 1 motorcycle, 267.5ms\n",
      "Speed: 4.0ms preprocess, 267.5ms inference, 5.0ms postprocess per image at shape (1, 3, 640, 480)\n",
      "WARNING  'Masks.segments' is deprecated. Use 'Masks.xyn' for segments (normalized) and 'Masks.xy' for segments (pixels) instead.\n"
     ]
    },
    {
     "name": "stdout",
     "output_type": "stream",
     "text": [
      "6.jpg\n"
     ]
    },
    {
     "name": "stderr",
     "output_type": "stream",
     "text": [
      "\n",
      "0: 640x480 2 motorcycles, 321.8ms\n",
      "Speed: 15.0ms preprocess, 321.8ms inference, 10.0ms postprocess per image at shape (1, 3, 640, 480)\n",
      "WARNING  'Masks.segments' is deprecated. Use 'Masks.xyn' for segments (normalized) and 'Masks.xy' for segments (pixels) instead.\n"
     ]
    },
    {
     "name": "stdout",
     "output_type": "stream",
     "text": [
      "super.jpg\n"
     ]
    },
    {
     "name": "stderr",
     "output_type": "stream",
     "text": [
      "\n",
      "0: 640x480 (no detections), 301.6ms\n",
      "Speed: 4.0ms preprocess, 301.6ms inference, 2.0ms postprocess per image at shape (1, 3, 640, 480)\n"
     ]
    },
    {
     "name": "stdout",
     "output_type": "stream",
     "text": [
      "0.jpg\n"
     ]
    },
    {
     "name": "stderr",
     "output_type": "stream",
     "text": [
      "\n",
      "0: 640x480 1 motorcycle, 299.6ms\n",
      "Speed: 5.0ms preprocess, 299.6ms inference, 7.0ms postprocess per image at shape (1, 3, 640, 480)\n",
      "WARNING  'Masks.segments' is deprecated. Use 'Masks.xyn' for segments (normalized) and 'Masks.xy' for segments (pixels) instead.\n"
     ]
    },
    {
     "name": "stdout",
     "output_type": "stream",
     "text": [
      "1.jpg\n"
     ]
    },
    {
     "name": "stderr",
     "output_type": "stream",
     "text": [
      "\n",
      "0: 640x480 2 motorcycles, 272.0ms\n",
      "Speed: 5.0ms preprocess, 272.0ms inference, 8.0ms postprocess per image at shape (1, 3, 640, 480)\n",
      "WARNING  'Masks.segments' is deprecated. Use 'Masks.xyn' for segments (normalized) and 'Masks.xy' for segments (pixels) instead.\n"
     ]
    },
    {
     "name": "stdout",
     "output_type": "stream",
     "text": [
      "10.jpg\n"
     ]
    },
    {
     "name": "stderr",
     "output_type": "stream",
     "text": [
      "\n",
      "0: 640x480 1 motorcycle, 279.9ms\n",
      "Speed: 5.0ms preprocess, 279.9ms inference, 6.0ms postprocess per image at shape (1, 3, 640, 480)\n",
      "WARNING  'Masks.segments' is deprecated. Use 'Masks.xyn' for segments (normalized) and 'Masks.xy' for segments (pixels) instead.\n"
     ]
    },
    {
     "name": "stdout",
     "output_type": "stream",
     "text": [
      "11.jpg\n"
     ]
    },
    {
     "name": "stderr",
     "output_type": "stream",
     "text": [
      "\n",
      "0: 640x480 1 car, 1 motorcycle, 292.1ms\n",
      "Speed: 4.0ms preprocess, 292.1ms inference, 7.0ms postprocess per image at shape (1, 3, 640, 480)\n",
      "WARNING  'Masks.segments' is deprecated. Use 'Masks.xyn' for segments (normalized) and 'Masks.xy' for segments (pixels) instead.\n"
     ]
    },
    {
     "name": "stdout",
     "output_type": "stream",
     "text": [
      "12.jpg\n"
     ]
    },
    {
     "name": "stderr",
     "output_type": "stream",
     "text": [
      "\n",
      "0: 640x480 1 motorcycle, 1 stop sign, 343.6ms\n",
      "Speed: 7.0ms preprocess, 343.6ms inference, 10.0ms postprocess per image at shape (1, 3, 640, 480)\n",
      "WARNING  'Masks.segments' is deprecated. Use 'Masks.xyn' for segments (normalized) and 'Masks.xy' for segments (pixels) instead.\n"
     ]
    },
    {
     "name": "stdout",
     "output_type": "stream",
     "text": [
      "13.jpg\n"
     ]
    },
    {
     "name": "stderr",
     "output_type": "stream",
     "text": [
      "\n",
      "0: 640x480 1 motorcycle, 308.4ms\n",
      "Speed: 4.0ms preprocess, 308.4ms inference, 6.0ms postprocess per image at shape (1, 3, 640, 480)\n",
      "WARNING  'Masks.segments' is deprecated. Use 'Masks.xyn' for segments (normalized) and 'Masks.xy' for segments (pixels) instead.\n"
     ]
    },
    {
     "name": "stdout",
     "output_type": "stream",
     "text": [
      "14.jpg\n"
     ]
    },
    {
     "name": "stderr",
     "output_type": "stream",
     "text": [
      "\n",
      "0: 640x480 1 motorcycle, 1 stop sign, 341.6ms\n",
      "Speed: 4.0ms preprocess, 341.6ms inference, 9.0ms postprocess per image at shape (1, 3, 640, 480)\n",
      "WARNING  'Masks.segments' is deprecated. Use 'Masks.xyn' for segments (normalized) and 'Masks.xy' for segments (pixels) instead.\n"
     ]
    },
    {
     "name": "stdout",
     "output_type": "stream",
     "text": [
      "15.jpg\n"
     ]
    },
    {
     "name": "stderr",
     "output_type": "stream",
     "text": [
      "\n",
      "0: 640x480 1 motorcycle, 1 stop sign, 340.6ms\n",
      "Speed: 4.0ms preprocess, 340.6ms inference, 12.0ms postprocess per image at shape (1, 3, 640, 480)\n",
      "WARNING  'Masks.segments' is deprecated. Use 'Masks.xyn' for segments (normalized) and 'Masks.xy' for segments (pixels) instead.\n"
     ]
    },
    {
     "name": "stdout",
     "output_type": "stream",
     "text": [
      "16.jpg\n"
     ]
    },
    {
     "name": "stderr",
     "output_type": "stream",
     "text": [
      "\n",
      "0: 640x480 1 motorcycle, 285.6ms\n",
      "Speed: 4.0ms preprocess, 285.6ms inference, 6.5ms postprocess per image at shape (1, 3, 640, 480)\n",
      "WARNING  'Masks.segments' is deprecated. Use 'Masks.xyn' for segments (normalized) and 'Masks.xy' for segments (pixels) instead.\n"
     ]
    },
    {
     "name": "stdout",
     "output_type": "stream",
     "text": [
      "17.jpg\n"
     ]
    },
    {
     "name": "stderr",
     "output_type": "stream",
     "text": [
      "\n",
      "0: 640x480 1 motorcycle, 302.5ms\n",
      "Speed: 4.0ms preprocess, 302.5ms inference, 7.0ms postprocess per image at shape (1, 3, 640, 480)\n",
      "WARNING  'Masks.segments' is deprecated. Use 'Masks.xyn' for segments (normalized) and 'Masks.xy' for segments (pixels) instead.\n"
     ]
    },
    {
     "name": "stdout",
     "output_type": "stream",
     "text": [
      "18.jpg\n"
     ]
    },
    {
     "name": "stderr",
     "output_type": "stream",
     "text": [
      "\n",
      "0: 640x480 1 person, 2 motorcycles, 261.6ms\n",
      "Speed: 4.0ms preprocess, 261.6ms inference, 13.0ms postprocess per image at shape (1, 3, 640, 480)\n",
      "WARNING  'Masks.segments' is deprecated. Use 'Masks.xyn' for segments (normalized) and 'Masks.xy' for segments (pixels) instead.\n"
     ]
    },
    {
     "name": "stdout",
     "output_type": "stream",
     "text": [
      "19.jpg\n"
     ]
    },
    {
     "name": "stderr",
     "output_type": "stream",
     "text": [
      "\n",
      "0: 640x480 1 person, 1 motorcycle, 1 backpack, 285.1ms\n",
      "Speed: 4.0ms preprocess, 285.1ms inference, 11.5ms postprocess per image at shape (1, 3, 640, 480)\n",
      "WARNING  'Masks.segments' is deprecated. Use 'Masks.xyn' for segments (normalized) and 'Masks.xy' for segments (pixels) instead.\n"
     ]
    },
    {
     "name": "stdout",
     "output_type": "stream",
     "text": [
      "2.jpg\n"
     ]
    },
    {
     "name": "stderr",
     "output_type": "stream",
     "text": [
      "\n",
      "0: 640x480 1 motorcycle, 1 stop sign, 292.6ms\n",
      "Speed: 6.0ms preprocess, 292.6ms inference, 7.0ms postprocess per image at shape (1, 3, 640, 480)\n",
      "WARNING  'Masks.segments' is deprecated. Use 'Masks.xyn' for segments (normalized) and 'Masks.xy' for segments (pixels) instead.\n"
     ]
    },
    {
     "name": "stdout",
     "output_type": "stream",
     "text": [
      "20.jpg\n"
     ]
    },
    {
     "name": "stderr",
     "output_type": "stream",
     "text": [
      "\n",
      "0: 640x480 1 person, 1 motorcycle, 316.6ms\n",
      "Speed: 4.0ms preprocess, 316.6ms inference, 12.0ms postprocess per image at shape (1, 3, 640, 480)\n",
      "WARNING  'Masks.segments' is deprecated. Use 'Masks.xyn' for segments (normalized) and 'Masks.xy' for segments (pixels) instead.\n"
     ]
    },
    {
     "name": "stdout",
     "output_type": "stream",
     "text": [
      "21.jpg\n"
     ]
    },
    {
     "name": "stderr",
     "output_type": "stream",
     "text": [
      "\n",
      "0: 640x480 1 person, 2 motorcycles, 301.2ms\n",
      "Speed: 5.0ms preprocess, 301.2ms inference, 12.0ms postprocess per image at shape (1, 3, 640, 480)\n",
      "WARNING  'Masks.segments' is deprecated. Use 'Masks.xyn' for segments (normalized) and 'Masks.xy' for segments (pixels) instead.\n"
     ]
    },
    {
     "name": "stdout",
     "output_type": "stream",
     "text": [
      "22.jpg\n"
     ]
    },
    {
     "name": "stderr",
     "output_type": "stream",
     "text": [
      "\n",
      "0: 640x480 2 motorcycles, 292.2ms\n",
      "Speed: 5.0ms preprocess, 292.2ms inference, 10.0ms postprocess per image at shape (1, 3, 640, 480)\n",
      "WARNING  'Masks.segments' is deprecated. Use 'Masks.xyn' for segments (normalized) and 'Masks.xy' for segments (pixels) instead.\n"
     ]
    },
    {
     "name": "stdout",
     "output_type": "stream",
     "text": [
      "3.jpg\n"
     ]
    },
    {
     "name": "stderr",
     "output_type": "stream",
     "text": [
      "\n",
      "0: 640x480 1 motorcycle, 1 stop sign, 333.7ms\n",
      "Speed: 5.0ms preprocess, 333.7ms inference, 9.0ms postprocess per image at shape (1, 3, 640, 480)\n",
      "WARNING  'Masks.segments' is deprecated. Use 'Masks.xyn' for segments (normalized) and 'Masks.xy' for segments (pixels) instead.\n"
     ]
    },
    {
     "name": "stdout",
     "output_type": "stream",
     "text": [
      "4.jpg\n"
     ]
    },
    {
     "name": "stderr",
     "output_type": "stream",
     "text": [
      "\n",
      "0: 640x480 1 motorcycle, 1 stop sign, 283.4ms\n",
      "Speed: 5.0ms preprocess, 283.4ms inference, 11.0ms postprocess per image at shape (1, 3, 640, 480)\n",
      "WARNING  'Masks.segments' is deprecated. Use 'Masks.xyn' for segments (normalized) and 'Masks.xy' for segments (pixels) instead.\n"
     ]
    },
    {
     "name": "stdout",
     "output_type": "stream",
     "text": [
      "5.jpg\n"
     ]
    },
    {
     "name": "stderr",
     "output_type": "stream",
     "text": [
      "\n",
      "0: 640x480 1 motorcycle, 1 stop sign, 320.6ms\n",
      "Speed: 5.0ms preprocess, 320.6ms inference, 11.0ms postprocess per image at shape (1, 3, 640, 480)\n",
      "WARNING  'Masks.segments' is deprecated. Use 'Masks.xyn' for segments (normalized) and 'Masks.xy' for segments (pixels) instead.\n"
     ]
    },
    {
     "name": "stdout",
     "output_type": "stream",
     "text": [
      "6.jpg\n"
     ]
    },
    {
     "name": "stderr",
     "output_type": "stream",
     "text": [
      "\n",
      "0: 640x480 1 motorcycle, 1 stop sign, 265.6ms\n",
      "Speed: 5.0ms preprocess, 265.6ms inference, 7.0ms postprocess per image at shape (1, 3, 640, 480)\n",
      "WARNING  'Masks.segments' is deprecated. Use 'Masks.xyn' for segments (normalized) and 'Masks.xy' for segments (pixels) instead.\n"
     ]
    },
    {
     "name": "stdout",
     "output_type": "stream",
     "text": [
      "7.jpg\n"
     ]
    },
    {
     "name": "stderr",
     "output_type": "stream",
     "text": [
      "\n",
      "0: 640x480 1 motorcycle, 1 stop sign, 308.2ms\n",
      "Speed: 4.0ms preprocess, 308.2ms inference, 10.0ms postprocess per image at shape (1, 3, 640, 480)\n",
      "WARNING  'Masks.segments' is deprecated. Use 'Masks.xyn' for segments (normalized) and 'Masks.xy' for segments (pixels) instead.\n"
     ]
    },
    {
     "name": "stdout",
     "output_type": "stream",
     "text": [
      "8.jpg\n"
     ]
    },
    {
     "name": "stderr",
     "output_type": "stream",
     "text": [
      "\n",
      "0: 640x480 1 motorcycle, 1 stop sign, 299.5ms\n",
      "Speed: 5.0ms preprocess, 299.5ms inference, 10.0ms postprocess per image at shape (1, 3, 640, 480)\n",
      "WARNING  'Masks.segments' is deprecated. Use 'Masks.xyn' for segments (normalized) and 'Masks.xy' for segments (pixels) instead.\n"
     ]
    },
    {
     "name": "stdout",
     "output_type": "stream",
     "text": [
      "9.jpg\n"
     ]
    },
    {
     "name": "stderr",
     "output_type": "stream",
     "text": [
      "\n",
      "0: 640x480 1 person, 1 motorcycle, 1 traffic light, 271.4ms\n",
      "Speed: 4.0ms preprocess, 271.4ms inference, 61.0ms postprocess per image at shape (1, 3, 640, 480)\n",
      "WARNING  'Masks.segments' is deprecated. Use 'Masks.xyn' for segments (normalized) and 'Masks.xy' for segments (pixels) instead.\n",
      "\n"
     ]
    },
    {
     "name": "stdout",
     "output_type": "stream",
     "text": [
      "super.jpg\n"
     ]
    },
    {
     "name": "stderr",
     "output_type": "stream",
     "text": [
      "0: 640x576 (no detections), 539.2ms\n",
      "Speed: 40.0ms preprocess, 539.2ms inference, 3.0ms postprocess per image at shape (1, 3, 640, 576)\n"
     ]
    },
    {
     "name": "stdout",
     "output_type": "stream",
     "text": [
      "0.jpg\n"
     ]
    },
    {
     "name": "stderr",
     "output_type": "stream",
     "text": [
      "\n",
      "0: 640x480 1 person, 1 motorcycle, 322.0ms\n",
      "Speed: 5.0ms preprocess, 322.0ms inference, 7.0ms postprocess per image at shape (1, 3, 640, 480)\n",
      "WARNING  'Masks.segments' is deprecated. Use 'Masks.xyn' for segments (normalized) and 'Masks.xy' for segments (pixels) instead.\n"
     ]
    },
    {
     "name": "stdout",
     "output_type": "stream",
     "text": [
      "1.jpg\n"
     ]
    },
    {
     "name": "stderr",
     "output_type": "stream",
     "text": [
      "\n",
      "0: 640x480 1 person, 1 motorcycle, 361.0ms\n",
      "Speed: 4.0ms preprocess, 361.0ms inference, 15.0ms postprocess per image at shape (1, 3, 640, 480)\n",
      "WARNING  'Masks.segments' is deprecated. Use 'Masks.xyn' for segments (normalized) and 'Masks.xy' for segments (pixels) instead.\n"
     ]
    },
    {
     "name": "stdout",
     "output_type": "stream",
     "text": [
      "10.jpg\n"
     ]
    },
    {
     "name": "stderr",
     "output_type": "stream",
     "text": [
      "\n",
      "0: 640x480 1 person, 1 motorcycle, 300.3ms\n",
      "Speed: 4.0ms preprocess, 300.3ms inference, 7.0ms postprocess per image at shape (1, 3, 640, 480)\n",
      "WARNING  'Masks.segments' is deprecated. Use 'Masks.xyn' for segments (normalized) and 'Masks.xy' for segments (pixels) instead.\n"
     ]
    },
    {
     "name": "stdout",
     "output_type": "stream",
     "text": [
      "2.jpg\n"
     ]
    },
    {
     "name": "stderr",
     "output_type": "stream",
     "text": [
      "\n",
      "0: 640x480 2 persons, 289.3ms\n",
      "Speed: 4.0ms preprocess, 289.3ms inference, 8.0ms postprocess per image at shape (1, 3, 640, 480)\n",
      "WARNING  'Masks.segments' is deprecated. Use 'Masks.xyn' for segments (normalized) and 'Masks.xy' for segments (pixels) instead.\n"
     ]
    },
    {
     "name": "stdout",
     "output_type": "stream",
     "text": [
      "3.jpg\n"
     ]
    },
    {
     "name": "stderr",
     "output_type": "stream",
     "text": [
      "\n",
      "0: 640x480 1 person, 1 motorcycle, 273.4ms\n",
      "Speed: 4.0ms preprocess, 273.4ms inference, 8.0ms postprocess per image at shape (1, 3, 640, 480)\n",
      "WARNING  'Masks.segments' is deprecated. Use 'Masks.xyn' for segments (normalized) and 'Masks.xy' for segments (pixels) instead.\n"
     ]
    },
    {
     "name": "stdout",
     "output_type": "stream",
     "text": [
      "4.jpg\n"
     ]
    },
    {
     "name": "stderr",
     "output_type": "stream",
     "text": [
      "\n",
      "0: 640x480 1 person, 1 motorcycle, 314.2ms\n",
      "Speed: 43.0ms preprocess, 314.2ms inference, 11.0ms postprocess per image at shape (1, 3, 640, 480)\n",
      "WARNING  'Masks.segments' is deprecated. Use 'Masks.xyn' for segments (normalized) and 'Masks.xy' for segments (pixels) instead.\n"
     ]
    },
    {
     "name": "stdout",
     "output_type": "stream",
     "text": [
      "5.jpg\n"
     ]
    },
    {
     "name": "stderr",
     "output_type": "stream",
     "text": [
      "\n",
      "0: 640x480 1 person, 1 motorcycle, 294.6ms\n",
      "Speed: 4.0ms preprocess, 294.6ms inference, 11.0ms postprocess per image at shape (1, 3, 640, 480)\n",
      "WARNING  'Masks.segments' is deprecated. Use 'Masks.xyn' for segments (normalized) and 'Masks.xy' for segments (pixels) instead.\n"
     ]
    },
    {
     "name": "stdout",
     "output_type": "stream",
     "text": [
      "6.jpg\n"
     ]
    },
    {
     "name": "stderr",
     "output_type": "stream",
     "text": [
      "\n",
      "0: 640x480 2 persons, 308.2ms\n",
      "Speed: 4.0ms preprocess, 308.2ms inference, 7.0ms postprocess per image at shape (1, 3, 640, 480)\n",
      "WARNING  'Masks.segments' is deprecated. Use 'Masks.xyn' for segments (normalized) and 'Masks.xy' for segments (pixels) instead.\n"
     ]
    },
    {
     "name": "stdout",
     "output_type": "stream",
     "text": [
      "7.jpg\n"
     ]
    },
    {
     "name": "stderr",
     "output_type": "stream",
     "text": [
      "\n",
      "0: 640x480 1 person, 1 motorcycle, 293.6ms\n",
      "Speed: 3.0ms preprocess, 293.6ms inference, 10.0ms postprocess per image at shape (1, 3, 640, 480)\n",
      "WARNING  'Masks.segments' is deprecated. Use 'Masks.xyn' for segments (normalized) and 'Masks.xy' for segments (pixels) instead.\n"
     ]
    },
    {
     "name": "stdout",
     "output_type": "stream",
     "text": [
      "8.jpg\n"
     ]
    },
    {
     "name": "stderr",
     "output_type": "stream",
     "text": [
      "\n",
      "0: 640x480 1 person, 1 motorcycle, 330.3ms\n",
      "Speed: 4.0ms preprocess, 330.3ms inference, 6.0ms postprocess per image at shape (1, 3, 640, 480)\n",
      "WARNING  'Masks.segments' is deprecated. Use 'Masks.xyn' for segments (normalized) and 'Masks.xy' for segments (pixels) instead.\n"
     ]
    },
    {
     "name": "stdout",
     "output_type": "stream",
     "text": [
      "9.jpg\n"
     ]
    },
    {
     "name": "stderr",
     "output_type": "stream",
     "text": [
      "\n",
      "0: 640x480 1 person, 1 motorcycle, 3 handbags, 267.9ms\n",
      "Speed: 3.0ms preprocess, 267.9ms inference, 12.0ms postprocess per image at shape (1, 3, 640, 480)\n",
      "WARNING  'Masks.segments' is deprecated. Use 'Masks.xyn' for segments (normalized) and 'Masks.xy' for segments (pixels) instead.\n",
      "\n"
     ]
    },
    {
     "name": "stdout",
     "output_type": "stream",
     "text": [
      "super.jpg\n"
     ]
    },
    {
     "name": "stderr",
     "output_type": "stream",
     "text": [
      "0: 640x544 (no detections), 389.8ms\n",
      "Speed: 4.0ms preprocess, 389.8ms inference, 6.9ms postprocess per image at shape (1, 3, 640, 544)\n"
     ]
    },
    {
     "name": "stdout",
     "output_type": "stream",
     "text": [
      "0.jpg\n"
     ]
    },
    {
     "name": "stderr",
     "output_type": "stream",
     "text": [
      "\n",
      "0: 640x480 2 persons, 1 motorcycle, 328.4ms\n",
      "Speed: 6.5ms preprocess, 328.4ms inference, 10.0ms postprocess per image at shape (1, 3, 640, 480)\n",
      "WARNING  'Masks.segments' is deprecated. Use 'Masks.xyn' for segments (normalized) and 'Masks.xy' for segments (pixels) instead.\n"
     ]
    },
    {
     "name": "stdout",
     "output_type": "stream",
     "text": [
      "1.jpg\n"
     ]
    },
    {
     "name": "stderr",
     "output_type": "stream",
     "text": [
      "\n",
      "0: 640x480 2 persons, 1 motorcycle, 364.9ms\n",
      "Speed: 6.3ms preprocess, 364.9ms inference, 12.0ms postprocess per image at shape (1, 3, 640, 480)\n",
      "WARNING  'Masks.segments' is deprecated. Use 'Masks.xyn' for segments (normalized) and 'Masks.xy' for segments (pixels) instead.\n"
     ]
    },
    {
     "name": "stdout",
     "output_type": "stream",
     "text": [
      "10.jpg\n"
     ]
    },
    {
     "name": "stderr",
     "output_type": "stream",
     "text": [
      "\n",
      "0: 640x480 1 person, 1 motorcycle, 270.1ms\n",
      "Speed: 5.0ms preprocess, 270.1ms inference, 7.0ms postprocess per image at shape (1, 3, 640, 480)\n",
      "WARNING  'Masks.segments' is deprecated. Use 'Masks.xyn' for segments (normalized) and 'Masks.xy' for segments (pixels) instead.\n"
     ]
    },
    {
     "name": "stdout",
     "output_type": "stream",
     "text": [
      "11.jpg\n"
     ]
    },
    {
     "name": "stderr",
     "output_type": "stream",
     "text": [
      "\n",
      "0: 640x480 2 persons, 1 motorcycle, 367.2ms\n",
      "Speed: 6.0ms preprocess, 367.2ms inference, 10.0ms postprocess per image at shape (1, 3, 640, 480)\n",
      "WARNING  'Masks.segments' is deprecated. Use 'Masks.xyn' for segments (normalized) and 'Masks.xy' for segments (pixels) instead.\n"
     ]
    },
    {
     "name": "stdout",
     "output_type": "stream",
     "text": [
      "12.jpg\n"
     ]
    },
    {
     "name": "stderr",
     "output_type": "stream",
     "text": [
      "\n",
      "0: 640x480 1 person, 2 motorcycles, 295.1ms\n",
      "Speed: 4.5ms preprocess, 295.1ms inference, 12.5ms postprocess per image at shape (1, 3, 640, 480)\n",
      "WARNING  'Masks.segments' is deprecated. Use 'Masks.xyn' for segments (normalized) and 'Masks.xy' for segments (pixels) instead.\n"
     ]
    },
    {
     "name": "stdout",
     "output_type": "stream",
     "text": [
      "13.jpg\n"
     ]
    },
    {
     "name": "stderr",
     "output_type": "stream",
     "text": [
      "\n",
      "0: 640x480 1 person, 1 motorcycle, 271.1ms\n",
      "Speed: 4.0ms preprocess, 271.1ms inference, 10.5ms postprocess per image at shape (1, 3, 640, 480)\n",
      "WARNING  'Masks.segments' is deprecated. Use 'Masks.xyn' for segments (normalized) and 'Masks.xy' for segments (pixels) instead.\n"
     ]
    },
    {
     "name": "stdout",
     "output_type": "stream",
     "text": [
      "14.jpg\n"
     ]
    },
    {
     "name": "stderr",
     "output_type": "stream",
     "text": [
      "\n",
      "0: 640x480 1 person, 1 motorcycle, 309.9ms\n",
      "Speed: 5.2ms preprocess, 309.9ms inference, 8.0ms postprocess per image at shape (1, 3, 640, 480)\n",
      "WARNING  'Masks.segments' is deprecated. Use 'Masks.xyn' for segments (normalized) and 'Masks.xy' for segments (pixels) instead.\n"
     ]
    },
    {
     "name": "stdout",
     "output_type": "stream",
     "text": [
      "2.jpg\n"
     ]
    },
    {
     "name": "stderr",
     "output_type": "stream",
     "text": [
      "\n",
      "0: 640x480 2 persons, 2 motorcycles, 312.7ms\n",
      "Speed: 6.0ms preprocess, 312.7ms inference, 18.0ms postprocess per image at shape (1, 3, 640, 480)\n",
      "WARNING  'Masks.segments' is deprecated. Use 'Masks.xyn' for segments (normalized) and 'Masks.xy' for segments (pixels) instead.\n"
     ]
    },
    {
     "name": "stdout",
     "output_type": "stream",
     "text": [
      "3.jpg\n"
     ]
    },
    {
     "name": "stderr",
     "output_type": "stream",
     "text": [
      "\n",
      "0: 640x480 2 persons, 1 motorcycle, 302.1ms\n",
      "Speed: 4.0ms preprocess, 302.1ms inference, 10.0ms postprocess per image at shape (1, 3, 640, 480)\n",
      "WARNING  'Masks.segments' is deprecated. Use 'Masks.xyn' for segments (normalized) and 'Masks.xy' for segments (pixels) instead.\n"
     ]
    },
    {
     "name": "stdout",
     "output_type": "stream",
     "text": [
      "4.jpg\n"
     ]
    },
    {
     "name": "stderr",
     "output_type": "stream",
     "text": [
      "\n",
      "0: 640x480 2 persons, 1 motorcycle, 337.8ms\n",
      "Speed: 4.0ms preprocess, 337.8ms inference, 12.0ms postprocess per image at shape (1, 3, 640, 480)\n",
      "WARNING  'Masks.segments' is deprecated. Use 'Masks.xyn' for segments (normalized) and 'Masks.xy' for segments (pixels) instead.\n"
     ]
    },
    {
     "name": "stdout",
     "output_type": "stream",
     "text": [
      "5.jpg\n"
     ]
    },
    {
     "name": "stderr",
     "output_type": "stream",
     "text": [
      "\n",
      "0: 640x480 2 persons, 1 bicycle, 2 motorcycles, 302.6ms\n",
      "Speed: 6.0ms preprocess, 302.6ms inference, 14.5ms postprocess per image at shape (1, 3, 640, 480)\n",
      "WARNING  'Masks.segments' is deprecated. Use 'Masks.xyn' for segments (normalized) and 'Masks.xy' for segments (pixels) instead.\n"
     ]
    },
    {
     "name": "stdout",
     "output_type": "stream",
     "text": [
      "6.jpg\n"
     ]
    },
    {
     "name": "stderr",
     "output_type": "stream",
     "text": [
      "\n",
      "0: 640x480 1 person, 1 motorcycle, 323.6ms\n",
      "Speed: 5.0ms preprocess, 323.6ms inference, 13.0ms postprocess per image at shape (1, 3, 640, 480)\n",
      "WARNING  'Masks.segments' is deprecated. Use 'Masks.xyn' for segments (normalized) and 'Masks.xy' for segments (pixels) instead.\n"
     ]
    },
    {
     "name": "stdout",
     "output_type": "stream",
     "text": [
      "7.jpg\n"
     ]
    },
    {
     "name": "stderr",
     "output_type": "stream",
     "text": [
      "\n",
      "0: 640x480 1 person, 1 motorcycle, 278.6ms\n",
      "Speed: 4.0ms preprocess, 278.6ms inference, 7.0ms postprocess per image at shape (1, 3, 640, 480)\n",
      "WARNING  'Masks.segments' is deprecated. Use 'Masks.xyn' for segments (normalized) and 'Masks.xy' for segments (pixels) instead.\n"
     ]
    },
    {
     "name": "stdout",
     "output_type": "stream",
     "text": [
      "8.jpg\n"
     ]
    },
    {
     "name": "stderr",
     "output_type": "stream",
     "text": [
      "\n",
      "0: 640x480 1 person, 1 motorcycle, 296.5ms\n",
      "Speed: 3.0ms preprocess, 296.5ms inference, 8.0ms postprocess per image at shape (1, 3, 640, 480)\n",
      "WARNING  'Masks.segments' is deprecated. Use 'Masks.xyn' for segments (normalized) and 'Masks.xy' for segments (pixels) instead.\n"
     ]
    },
    {
     "name": "stdout",
     "output_type": "stream",
     "text": [
      "9.jpg\n"
     ]
    },
    {
     "name": "stderr",
     "output_type": "stream",
     "text": [
      "\n",
      "0: 640x480 1 person, 1 motorcycle, 262.2ms\n",
      "Speed: 5.0ms preprocess, 262.2ms inference, 8.0ms postprocess per image at shape (1, 3, 640, 480)\n",
      "WARNING  'Masks.segments' is deprecated. Use 'Masks.xyn' for segments (normalized) and 'Masks.xy' for segments (pixels) instead.\n"
     ]
    },
    {
     "name": "stdout",
     "output_type": "stream",
     "text": [
      "super.jpg\n"
     ]
    },
    {
     "name": "stderr",
     "output_type": "stream",
     "text": [
      "\n",
      "0: 640x480 2 clocks, 408.7ms\n",
      "Speed: 7.0ms preprocess, 408.7ms inference, 14.0ms postprocess per image at shape (1, 3, 640, 480)\n",
      "WARNING  'Masks.segments' is deprecated. Use 'Masks.xyn' for segments (normalized) and 'Masks.xy' for segments (pixels) instead.\n"
     ]
    },
    {
     "name": "stdout",
     "output_type": "stream",
     "text": [
      "0.jpg\n"
     ]
    },
    {
     "name": "stderr",
     "output_type": "stream",
     "text": [
      "\n",
      "0: 640x480 1 motorcycle, 1 fire hydrant, 346.2ms\n",
      "Speed: 9.0ms preprocess, 346.2ms inference, 13.0ms postprocess per image at shape (1, 3, 640, 480)\n",
      "WARNING  'Masks.segments' is deprecated. Use 'Masks.xyn' for segments (normalized) and 'Masks.xy' for segments (pixels) instead.\n"
     ]
    },
    {
     "name": "stdout",
     "output_type": "stream",
     "text": [
      "1.jpg\n"
     ]
    },
    {
     "name": "stderr",
     "output_type": "stream",
     "text": [
      "\n",
      "0: 640x480 2 motorcycles, 454.2ms\n",
      "Speed: 6.5ms preprocess, 454.2ms inference, 9.0ms postprocess per image at shape (1, 3, 640, 480)\n",
      "WARNING  'Masks.segments' is deprecated. Use 'Masks.xyn' for segments (normalized) and 'Masks.xy' for segments (pixels) instead.\n"
     ]
    },
    {
     "name": "stdout",
     "output_type": "stream",
     "text": [
      "2.jpg\n"
     ]
    },
    {
     "name": "stderr",
     "output_type": "stream",
     "text": [
      "\n",
      "0: 640x480 1 person, 1 car, 3 motorcycles, 348.4ms\n",
      "Speed: 5.0ms preprocess, 348.4ms inference, 20.0ms postprocess per image at shape (1, 3, 640, 480)\n",
      "WARNING  'Masks.segments' is deprecated. Use 'Masks.xyn' for segments (normalized) and 'Masks.xy' for segments (pixels) instead.\n"
     ]
    },
    {
     "name": "stdout",
     "output_type": "stream",
     "text": [
      "3.jpg\n"
     ]
    },
    {
     "name": "stderr",
     "output_type": "stream",
     "text": [
      "\n",
      "0: 640x480 1 person, 2 fire hydrants, 1 skateboard, 401.6ms\n",
      "Speed: 5.0ms preprocess, 401.6ms inference, 15.5ms postprocess per image at shape (1, 3, 640, 480)\n",
      "WARNING  'Masks.segments' is deprecated. Use 'Masks.xyn' for segments (normalized) and 'Masks.xy' for segments (pixels) instead.\n"
     ]
    },
    {
     "name": "stdout",
     "output_type": "stream",
     "text": [
      "4.jpg\n"
     ]
    },
    {
     "name": "stderr",
     "output_type": "stream",
     "text": [
      "\n",
      "0: 640x480 1 person, 2 motorcycles, 276.6ms\n",
      "Speed: 5.0ms preprocess, 276.6ms inference, 15.0ms postprocess per image at shape (1, 3, 640, 480)\n",
      "WARNING  'Masks.segments' is deprecated. Use 'Masks.xyn' for segments (normalized) and 'Masks.xy' for segments (pixels) instead.\n"
     ]
    },
    {
     "name": "stdout",
     "output_type": "stream",
     "text": [
      "5.jpg\n"
     ]
    },
    {
     "name": "stderr",
     "output_type": "stream",
     "text": [
      "\n",
      "0: 640x480 1 person, 4 motorcycles, 1 dog, 337.0ms\n",
      "Speed: 5.0ms preprocess, 337.0ms inference, 20.0ms postprocess per image at shape (1, 3, 640, 480)\n",
      "WARNING  'Masks.segments' is deprecated. Use 'Masks.xyn' for segments (normalized) and 'Masks.xy' for segments (pixels) instead.\n",
      "\n"
     ]
    },
    {
     "name": "stdout",
     "output_type": "stream",
     "text": [
      "super.jpg\n"
     ]
    },
    {
     "name": "stderr",
     "output_type": "stream",
     "text": [
      "0: 640x640 1 person, 1 donut, 356.7ms\n",
      "Speed: 5.0ms preprocess, 356.7ms inference, 9.0ms postprocess per image at shape (1, 3, 640, 640)\n",
      "WARNING  'Masks.segments' is deprecated. Use 'Masks.xyn' for segments (normalized) and 'Masks.xy' for segments (pixels) instead.\n"
     ]
    },
    {
     "name": "stdout",
     "output_type": "stream",
     "text": [
      "0.jpg\n"
     ]
    },
    {
     "name": "stderr",
     "output_type": "stream",
     "text": [
      "\n",
      "0: 640x480 1 person, 2 motorcycles, 324.6ms\n",
      "Speed: 3.0ms preprocess, 324.6ms inference, 10.0ms postprocess per image at shape (1, 3, 640, 480)\n",
      "WARNING  'Masks.segments' is deprecated. Use 'Masks.xyn' for segments (normalized) and 'Masks.xy' for segments (pixels) instead.\n",
      "\n"
     ]
    },
    {
     "name": "stdout",
     "output_type": "stream",
     "text": [
      "super.jpg\n"
     ]
    },
    {
     "name": "stderr",
     "output_type": "stream",
     "text": [
      "0: 544x640 (no detections), 449.8ms\n",
      "Speed: 5.0ms preprocess, 449.8ms inference, 3.0ms postprocess per image at shape (1, 3, 544, 640)\n"
     ]
    }
   ],
   "source": [
    "for i in on_keys:\n",
    "    generateDatasetsPoly(dir_on[i])\n"
   ]
  },
  {
   "cell_type": "code",
   "execution_count": 8,
   "metadata": {},
   "outputs": [
    {
     "name": "stdout",
     "output_type": "stream",
     "text": [
      "0.jpg\n"
     ]
    },
    {
     "name": "stderr",
     "output_type": "stream",
     "text": [
      "\n",
      "0: 640x480 1 motorcycle, 1 skateboard, 328.3ms\n",
      "Speed: 5.0ms preprocess, 328.3ms inference, 10.0ms postprocess per image at shape (1, 3, 640, 480)\n",
      "WARNING  'Masks.segments' is deprecated. Use 'Masks.xyn' for segments (normalized) and 'Masks.xy' for segments (pixels) instead.\n"
     ]
    },
    {
     "name": "stdout",
     "output_type": "stream",
     "text": [
      "1.jpg\n"
     ]
    },
    {
     "name": "stderr",
     "output_type": "stream",
     "text": [
      "\n",
      "0: 640x480 1 motorcycle, 1 fire hydrant, 1 skateboard, 398.1ms\n",
      "Speed: 5.0ms preprocess, 398.1ms inference, 12.5ms postprocess per image at shape (1, 3, 640, 480)\n",
      "WARNING  'Masks.segments' is deprecated. Use 'Masks.xyn' for segments (normalized) and 'Masks.xy' for segments (pixels) instead.\n"
     ]
    },
    {
     "name": "stdout",
     "output_type": "stream",
     "text": [
      "10.jpg\n"
     ]
    },
    {
     "name": "stderr",
     "output_type": "stream",
     "text": [
      "\n",
      "0: 640x480 2 motorcycles, 319.3ms\n",
      "Speed: 5.0ms preprocess, 319.3ms inference, 10.0ms postprocess per image at shape (1, 3, 640, 480)\n",
      "WARNING  'Masks.segments' is deprecated. Use 'Masks.xyn' for segments (normalized) and 'Masks.xy' for segments (pixels) instead.\n"
     ]
    },
    {
     "name": "stdout",
     "output_type": "stream",
     "text": [
      "11.jpg\n"
     ]
    },
    {
     "name": "stderr",
     "output_type": "stream",
     "text": [
      "\n",
      "0: 640x480 1 motorcycle, 449.8ms\n",
      "Speed: 4.0ms preprocess, 449.8ms inference, 9.0ms postprocess per image at shape (1, 3, 640, 480)\n",
      "WARNING  'Masks.segments' is deprecated. Use 'Masks.xyn' for segments (normalized) and 'Masks.xy' for segments (pixels) instead.\n"
     ]
    },
    {
     "name": "stdout",
     "output_type": "stream",
     "text": [
      "12.jpg\n"
     ]
    },
    {
     "name": "stderr",
     "output_type": "stream",
     "text": [
      "\n",
      "0: 640x480 1 motorcycle, 340.2ms\n",
      "Speed: 4.0ms preprocess, 340.2ms inference, 9.0ms postprocess per image at shape (1, 3, 640, 480)\n",
      "WARNING  'Masks.segments' is deprecated. Use 'Masks.xyn' for segments (normalized) and 'Masks.xy' for segments (pixels) instead.\n"
     ]
    },
    {
     "name": "stdout",
     "output_type": "stream",
     "text": [
      "13.jpg\n"
     ]
    },
    {
     "name": "stderr",
     "output_type": "stream",
     "text": [
      "\n",
      "0: 640x480 1 motorcycle, 460.7ms\n",
      "Speed: 5.0ms preprocess, 460.7ms inference, 13.0ms postprocess per image at shape (1, 3, 640, 480)\n",
      "WARNING  'Masks.segments' is deprecated. Use 'Masks.xyn' for segments (normalized) and 'Masks.xy' for segments (pixels) instead.\n"
     ]
    },
    {
     "name": "stdout",
     "output_type": "stream",
     "text": [
      "14.jpg\n"
     ]
    },
    {
     "name": "stderr",
     "output_type": "stream",
     "text": [
      "\n",
      "0: 640x480 1 motorcycle, 1 skateboard, 348.6ms\n",
      "Speed: 4.0ms preprocess, 348.6ms inference, 12.3ms postprocess per image at shape (1, 3, 640, 480)\n",
      "WARNING  'Masks.segments' is deprecated. Use 'Masks.xyn' for segments (normalized) and 'Masks.xy' for segments (pixels) instead.\n"
     ]
    },
    {
     "name": "stdout",
     "output_type": "stream",
     "text": [
      "15.jpg\n"
     ]
    },
    {
     "name": "stderr",
     "output_type": "stream",
     "text": [
      "\n",
      "0: 640x480 1 motorcycle, 341.2ms\n",
      "Speed: 4.0ms preprocess, 341.2ms inference, 7.0ms postprocess per image at shape (1, 3, 640, 480)\n",
      "WARNING  'Masks.segments' is deprecated. Use 'Masks.xyn' for segments (normalized) and 'Masks.xy' for segments (pixels) instead.\n"
     ]
    },
    {
     "name": "stdout",
     "output_type": "stream",
     "text": [
      "16.jpg\n"
     ]
    },
    {
     "name": "stderr",
     "output_type": "stream",
     "text": [
      "\n",
      "0: 640x480 1 motorcycle, 344.1ms\n",
      "Speed: 4.0ms preprocess, 344.1ms inference, 10.0ms postprocess per image at shape (1, 3, 640, 480)\n",
      "WARNING  'Masks.segments' is deprecated. Use 'Masks.xyn' for segments (normalized) and 'Masks.xy' for segments (pixels) instead.\n"
     ]
    },
    {
     "name": "stdout",
     "output_type": "stream",
     "text": [
      "17.jpg\n"
     ]
    },
    {
     "name": "stderr",
     "output_type": "stream",
     "text": [
      "\n",
      "0: 640x480 1 car, 1 motorcycle, 408.1ms\n",
      "Speed: 5.0ms preprocess, 408.1ms inference, 12.0ms postprocess per image at shape (1, 3, 640, 480)\n",
      "WARNING  'Masks.segments' is deprecated. Use 'Masks.xyn' for segments (normalized) and 'Masks.xy' for segments (pixels) instead.\n"
     ]
    },
    {
     "name": "stdout",
     "output_type": "stream",
     "text": [
      "18.jpg\n"
     ]
    },
    {
     "name": "stderr",
     "output_type": "stream",
     "text": [
      "\n",
      "0: 640x480 1 motorcycle, 452.2ms\n",
      "Speed: 6.0ms preprocess, 452.2ms inference, 10.0ms postprocess per image at shape (1, 3, 640, 480)\n",
      "WARNING  'Masks.segments' is deprecated. Use 'Masks.xyn' for segments (normalized) and 'Masks.xy' for segments (pixels) instead.\n"
     ]
    },
    {
     "name": "stdout",
     "output_type": "stream",
     "text": [
      "19.jpg\n"
     ]
    },
    {
     "name": "stderr",
     "output_type": "stream",
     "text": [
      "\n",
      "0: 640x480 1 car, 1 motorcycle, 776.0ms\n",
      "Speed: 6.0ms preprocess, 776.0ms inference, 12.0ms postprocess per image at shape (1, 3, 640, 480)\n",
      "WARNING  'Masks.segments' is deprecated. Use 'Masks.xyn' for segments (normalized) and 'Masks.xy' for segments (pixels) instead.\n"
     ]
    },
    {
     "name": "stdout",
     "output_type": "stream",
     "text": [
      "2.jpg\n"
     ]
    },
    {
     "name": "stderr",
     "output_type": "stream",
     "text": [
      "\n",
      "0: 640x480 1 bicycle, 1 skateboard, 334.6ms\n",
      "Speed: 4.0ms preprocess, 334.6ms inference, 10.0ms postprocess per image at shape (1, 3, 640, 480)\n",
      "WARNING  'Masks.segments' is deprecated. Use 'Masks.xyn' for segments (normalized) and 'Masks.xy' for segments (pixels) instead.\n"
     ]
    },
    {
     "name": "stdout",
     "output_type": "stream",
     "text": [
      "20.jpg\n"
     ]
    },
    {
     "name": "stderr",
     "output_type": "stream",
     "text": [
      "\n",
      "0: 640x480 1 motorcycle, 292.5ms\n",
      "Speed: 3.0ms preprocess, 292.5ms inference, 5.0ms postprocess per image at shape (1, 3, 640, 480)\n",
      "WARNING  'Masks.segments' is deprecated. Use 'Masks.xyn' for segments (normalized) and 'Masks.xy' for segments (pixels) instead.\n"
     ]
    },
    {
     "name": "stdout",
     "output_type": "stream",
     "text": [
      "21.jpg\n"
     ]
    },
    {
     "name": "stderr",
     "output_type": "stream",
     "text": [
      "\n",
      "0: 640x480 1 car, 1 motorcycle, 391.2ms\n",
      "Speed: 3.0ms preprocess, 391.2ms inference, 14.0ms postprocess per image at shape (1, 3, 640, 480)\n",
      "WARNING  'Masks.segments' is deprecated. Use 'Masks.xyn' for segments (normalized) and 'Masks.xy' for segments (pixels) instead.\n"
     ]
    },
    {
     "name": "stdout",
     "output_type": "stream",
     "text": [
      "22.jpg\n"
     ]
    },
    {
     "name": "stderr",
     "output_type": "stream",
     "text": [
      "\n",
      "0: 640x480 (no detections), 316.6ms\n",
      "Speed: 4.2ms preprocess, 316.6ms inference, 2.0ms postprocess per image at shape (1, 3, 640, 480)\n"
     ]
    },
    {
     "name": "stdout",
     "output_type": "stream",
     "text": [
      "23.jpg\n"
     ]
    },
    {
     "name": "stderr",
     "output_type": "stream",
     "text": [
      "\n",
      "0: 640x480 1 car, 1 motorcycle, 338.6ms\n",
      "Speed: 3.0ms preprocess, 338.6ms inference, 11.0ms postprocess per image at shape (1, 3, 640, 480)\n",
      "WARNING  'Masks.segments' is deprecated. Use 'Masks.xyn' for segments (normalized) and 'Masks.xy' for segments (pixels) instead.\n"
     ]
    },
    {
     "name": "stdout",
     "output_type": "stream",
     "text": [
      "24.jpg\n"
     ]
    },
    {
     "name": "stderr",
     "output_type": "stream",
     "text": [
      "\n",
      "0: 640x480 1 car, 1 motorcycle, 374.2ms\n",
      "Speed: 6.0ms preprocess, 374.2ms inference, 11.0ms postprocess per image at shape (1, 3, 640, 480)\n",
      "WARNING  'Masks.segments' is deprecated. Use 'Masks.xyn' for segments (normalized) and 'Masks.xy' for segments (pixels) instead.\n"
     ]
    },
    {
     "name": "stdout",
     "output_type": "stream",
     "text": [
      "25.jpg\n"
     ]
    },
    {
     "name": "stderr",
     "output_type": "stream",
     "text": [
      "\n",
      "0: 640x480 1 car, 1 motorcycle, 304.6ms\n",
      "Speed: 4.0ms preprocess, 304.6ms inference, 11.0ms postprocess per image at shape (1, 3, 640, 480)\n",
      "WARNING  'Masks.segments' is deprecated. Use 'Masks.xyn' for segments (normalized) and 'Masks.xy' for segments (pixels) instead.\n"
     ]
    },
    {
     "name": "stdout",
     "output_type": "stream",
     "text": [
      "26.jpg\n"
     ]
    },
    {
     "name": "stderr",
     "output_type": "stream",
     "text": [
      "\n",
      "0: 640x480 1 motorcycle, 289.6ms\n",
      "Speed: 4.0ms preprocess, 289.6ms inference, 7.0ms postprocess per image at shape (1, 3, 640, 480)\n",
      "WARNING  'Masks.segments' is deprecated. Use 'Masks.xyn' for segments (normalized) and 'Masks.xy' for segments (pixels) instead.\n"
     ]
    },
    {
     "name": "stdout",
     "output_type": "stream",
     "text": [
      "27.jpg\n"
     ]
    },
    {
     "name": "stderr",
     "output_type": "stream",
     "text": [
      "\n",
      "0: 640x480 1 car, 1 motorcycle, 365.2ms\n",
      "Speed: 4.0ms preprocess, 365.2ms inference, 10.0ms postprocess per image at shape (1, 3, 640, 480)\n",
      "WARNING  'Masks.segments' is deprecated. Use 'Masks.xyn' for segments (normalized) and 'Masks.xy' for segments (pixels) instead.\n"
     ]
    },
    {
     "name": "stdout",
     "output_type": "stream",
     "text": [
      "28.jpg\n"
     ]
    },
    {
     "name": "stderr",
     "output_type": "stream",
     "text": [
      "\n",
      "0: 640x480 1 motorcycle, 377.1ms\n",
      "Speed: 6.0ms preprocess, 377.1ms inference, 9.0ms postprocess per image at shape (1, 3, 640, 480)\n",
      "WARNING  'Masks.segments' is deprecated. Use 'Masks.xyn' for segments (normalized) and 'Masks.xy' for segments (pixels) instead.\n"
     ]
    },
    {
     "name": "stdout",
     "output_type": "stream",
     "text": [
      "29.jpg\n"
     ]
    },
    {
     "name": "stderr",
     "output_type": "stream",
     "text": [
      "\n",
      "0: 640x480 1 car, 1 motorcycle, 303.6ms\n",
      "Speed: 3.0ms preprocess, 303.6ms inference, 6.0ms postprocess per image at shape (1, 3, 640, 480)\n",
      "WARNING  'Masks.segments' is deprecated. Use 'Masks.xyn' for segments (normalized) and 'Masks.xy' for segments (pixels) instead.\n"
     ]
    },
    {
     "name": "stdout",
     "output_type": "stream",
     "text": [
      "30.jpg\n"
     ]
    },
    {
     "name": "stderr",
     "output_type": "stream",
     "text": [
      "\n",
      "0: 640x480 1 car, 1 motorcycle, 342.0ms\n",
      "Speed: 5.0ms preprocess, 342.0ms inference, 13.0ms postprocess per image at shape (1, 3, 640, 480)\n",
      "WARNING  'Masks.segments' is deprecated. Use 'Masks.xyn' for segments (normalized) and 'Masks.xy' for segments (pixels) instead.\n"
     ]
    },
    {
     "name": "stdout",
     "output_type": "stream",
     "text": [
      "31.jpg\n"
     ]
    },
    {
     "name": "stderr",
     "output_type": "stream",
     "text": [
      "\n",
      "0: 640x480 1 car, 1 motorcycle, 297.6ms\n",
      "Speed: 4.0ms preprocess, 297.6ms inference, 9.0ms postprocess per image at shape (1, 3, 640, 480)\n",
      "WARNING  'Masks.segments' is deprecated. Use 'Masks.xyn' for segments (normalized) and 'Masks.xy' for segments (pixels) instead.\n"
     ]
    },
    {
     "name": "stdout",
     "output_type": "stream",
     "text": [
      "32.jpg\n"
     ]
    },
    {
     "name": "stderr",
     "output_type": "stream",
     "text": [
      "\n",
      "0: 640x480 1 car, 1 motorcycle, 296.6ms\n",
      "Speed: 4.0ms preprocess, 296.6ms inference, 8.0ms postprocess per image at shape (1, 3, 640, 480)\n",
      "WARNING  'Masks.segments' is deprecated. Use 'Masks.xyn' for segments (normalized) and 'Masks.xy' for segments (pixels) instead.\n"
     ]
    },
    {
     "name": "stdout",
     "output_type": "stream",
     "text": [
      "33.jpg\n"
     ]
    },
    {
     "name": "stderr",
     "output_type": "stream",
     "text": [
      "\n",
      "0: 640x480 1 car, 1 motorcycle, 293.6ms\n",
      "Speed: 4.0ms preprocess, 293.6ms inference, 13.0ms postprocess per image at shape (1, 3, 640, 480)\n",
      "WARNING  'Masks.segments' is deprecated. Use 'Masks.xyn' for segments (normalized) and 'Masks.xy' for segments (pixels) instead.\n"
     ]
    },
    {
     "name": "stdout",
     "output_type": "stream",
     "text": [
      "34.jpg\n"
     ]
    },
    {
     "name": "stderr",
     "output_type": "stream",
     "text": [
      "\n",
      "0: 640x480 1 motorcycle, 290.6ms\n",
      "Speed: 7.0ms preprocess, 290.6ms inference, 5.0ms postprocess per image at shape (1, 3, 640, 480)\n",
      "WARNING  'Masks.segments' is deprecated. Use 'Masks.xyn' for segments (normalized) and 'Masks.xy' for segments (pixels) instead.\n"
     ]
    },
    {
     "name": "stdout",
     "output_type": "stream",
     "text": [
      "35.jpg\n"
     ]
    },
    {
     "name": "stderr",
     "output_type": "stream",
     "text": [
      "\n",
      "0: 640x480 1 car, 1 motorcycle, 317.6ms\n",
      "Speed: 3.0ms preprocess, 317.6ms inference, 12.0ms postprocess per image at shape (1, 3, 640, 480)\n",
      "WARNING  'Masks.segments' is deprecated. Use 'Masks.xyn' for segments (normalized) and 'Masks.xy' for segments (pixels) instead.\n"
     ]
    },
    {
     "name": "stdout",
     "output_type": "stream",
     "text": [
      "36.jpg\n"
     ]
    },
    {
     "name": "stderr",
     "output_type": "stream",
     "text": [
      "\n",
      "0: 640x480 1 motorcycle, 296.1ms\n",
      "Speed: 9.5ms preprocess, 296.1ms inference, 6.5ms postprocess per image at shape (1, 3, 640, 480)\n",
      "WARNING  'Masks.segments' is deprecated. Use 'Masks.xyn' for segments (normalized) and 'Masks.xy' for segments (pixels) instead.\n"
     ]
    },
    {
     "name": "stdout",
     "output_type": "stream",
     "text": [
      "37.jpg\n"
     ]
    },
    {
     "name": "stderr",
     "output_type": "stream",
     "text": [
      "\n",
      "0: 640x480 1 car, 2 motorcycles, 356.9ms\n",
      "Speed: 4.0ms preprocess, 356.9ms inference, 18.0ms postprocess per image at shape (1, 3, 640, 480)\n",
      "WARNING  'Masks.segments' is deprecated. Use 'Masks.xyn' for segments (normalized) and 'Masks.xy' for segments (pixels) instead.\n"
     ]
    },
    {
     "name": "stdout",
     "output_type": "stream",
     "text": [
      "4.jpg\n"
     ]
    },
    {
     "name": "stderr",
     "output_type": "stream",
     "text": [
      "\n",
      "0: 640x480 1 person, 1 car, 1 motorcycle, 346.7ms\n",
      "Speed: 3.0ms preprocess, 346.7ms inference, 14.0ms postprocess per image at shape (1, 3, 640, 480)\n",
      "WARNING  'Masks.segments' is deprecated. Use 'Masks.xyn' for segments (normalized) and 'Masks.xy' for segments (pixels) instead.\n"
     ]
    },
    {
     "name": "stdout",
     "output_type": "stream",
     "text": [
      "5.jpg\n"
     ]
    },
    {
     "name": "stderr",
     "output_type": "stream",
     "text": [
      "\n",
      "0: 640x480 1 motorcycle, 317.3ms\n",
      "Speed: 4.0ms preprocess, 317.3ms inference, 5.0ms postprocess per image at shape (1, 3, 640, 480)\n",
      "WARNING  'Masks.segments' is deprecated. Use 'Masks.xyn' for segments (normalized) and 'Masks.xy' for segments (pixels) instead.\n"
     ]
    },
    {
     "name": "stdout",
     "output_type": "stream",
     "text": [
      "6.jpg\n"
     ]
    },
    {
     "name": "stderr",
     "output_type": "stream",
     "text": [
      "\n",
      "0: 640x480 1 car, 1 motorcycle, 404.2ms\n",
      "Speed: 5.0ms preprocess, 404.2ms inference, 16.0ms postprocess per image at shape (1, 3, 640, 480)\n",
      "WARNING  'Masks.segments' is deprecated. Use 'Masks.xyn' for segments (normalized) and 'Masks.xy' for segments (pixels) instead.\n"
     ]
    },
    {
     "name": "stdout",
     "output_type": "stream",
     "text": [
      "7.jpg\n"
     ]
    },
    {
     "name": "stderr",
     "output_type": "stream",
     "text": [
      "\n",
      "0: 640x480 1 person, 1 car, 1 motorcycle, 383.2ms\n",
      "Speed: 4.0ms preprocess, 383.2ms inference, 12.0ms postprocess per image at shape (1, 3, 640, 480)\n",
      "WARNING  'Masks.segments' is deprecated. Use 'Masks.xyn' for segments (normalized) and 'Masks.xy' for segments (pixels) instead.\n"
     ]
    },
    {
     "name": "stdout",
     "output_type": "stream",
     "text": [
      "8.jpg\n"
     ]
    },
    {
     "name": "stderr",
     "output_type": "stream",
     "text": [
      "\n",
      "0: 640x480 1 person, 1 car, 1 motorcycle, 290.6ms\n",
      "Speed: 6.0ms preprocess, 290.6ms inference, 10.0ms postprocess per image at shape (1, 3, 640, 480)\n",
      "WARNING  'Masks.segments' is deprecated. Use 'Masks.xyn' for segments (normalized) and 'Masks.xy' for segments (pixels) instead.\n"
     ]
    },
    {
     "name": "stdout",
     "output_type": "stream",
     "text": [
      "9.jpg\n"
     ]
    },
    {
     "name": "stderr",
     "output_type": "stream",
     "text": [
      "\n",
      "0: 640x480 1 motorcycle, 325.7ms\n",
      "Speed: 4.0ms preprocess, 325.7ms inference, 8.0ms postprocess per image at shape (1, 3, 640, 480)\n",
      "WARNING  'Masks.segments' is deprecated. Use 'Masks.xyn' for segments (normalized) and 'Masks.xy' for segments (pixels) instead.\n"
     ]
    },
    {
     "name": "stdout",
     "output_type": "stream",
     "text": [
      "super.jpg\n"
     ]
    },
    {
     "name": "stderr",
     "output_type": "stream",
     "text": [
      "\n",
      "0: 640x480 (no detections), 370.6ms\n",
      "Speed: 6.0ms preprocess, 370.6ms inference, 6.0ms postprocess per image at shape (1, 3, 640, 480)\n"
     ]
    },
    {
     "name": "stdout",
     "output_type": "stream",
     "text": [
      "0.jpg\n"
     ]
    },
    {
     "name": "stderr",
     "output_type": "stream",
     "text": [
      "\n",
      "0: 640x480 2 persons, 2 motorcycles, 1 backpack, 351.7ms\n",
      "Speed: 5.5ms preprocess, 351.7ms inference, 20.0ms postprocess per image at shape (1, 3, 640, 480)\n",
      "WARNING  'Masks.segments' is deprecated. Use 'Masks.xyn' for segments (normalized) and 'Masks.xy' for segments (pixels) instead.\n"
     ]
    },
    {
     "name": "stdout",
     "output_type": "stream",
     "text": [
      "1.jpg\n"
     ]
    },
    {
     "name": "stderr",
     "output_type": "stream",
     "text": [
      "\n",
      "0: 640x480 2 persons, 1 motorcycle, 594.2ms\n",
      "Speed: 6.0ms preprocess, 594.2ms inference, 12.0ms postprocess per image at shape (1, 3, 640, 480)\n",
      "WARNING  'Masks.segments' is deprecated. Use 'Masks.xyn' for segments (normalized) and 'Masks.xy' for segments (pixels) instead.\n"
     ]
    },
    {
     "name": "stdout",
     "output_type": "stream",
     "text": [
      "10.jpg\n"
     ]
    },
    {
     "name": "stderr",
     "output_type": "stream",
     "text": [
      "\n",
      "0: 640x480 2 persons, 1 car, 2 motorcycles, 455.7ms\n",
      "Speed: 8.0ms preprocess, 455.7ms inference, 15.0ms postprocess per image at shape (1, 3, 640, 480)\n",
      "WARNING  'Masks.segments' is deprecated. Use 'Masks.xyn' for segments (normalized) and 'Masks.xy' for segments (pixels) instead.\n"
     ]
    },
    {
     "name": "stdout",
     "output_type": "stream",
     "text": [
      "11.jpg\n"
     ]
    },
    {
     "name": "stderr",
     "output_type": "stream",
     "text": [
      "\n",
      "0: 640x480 2 persons, 1 car, 2 motorcycles, 1 backpack, 475.1ms\n",
      "Speed: 6.0ms preprocess, 475.1ms inference, 21.5ms postprocess per image at shape (1, 3, 640, 480)\n",
      "WARNING  'Masks.segments' is deprecated. Use 'Masks.xyn' for segments (normalized) and 'Masks.xy' for segments (pixels) instead.\n"
     ]
    },
    {
     "name": "stdout",
     "output_type": "stream",
     "text": [
      "12.jpg\n"
     ]
    },
    {
     "name": "stderr",
     "output_type": "stream",
     "text": [
      "\n",
      "0: 640x480 4 persons, 1 car, 1 motorcycle, 432.2ms\n",
      "Speed: 5.0ms preprocess, 432.2ms inference, 42.6ms postprocess per image at shape (1, 3, 640, 480)\n",
      "WARNING  'Masks.segments' is deprecated. Use 'Masks.xyn' for segments (normalized) and 'Masks.xy' for segments (pixels) instead.\n"
     ]
    },
    {
     "name": "stdout",
     "output_type": "stream",
     "text": [
      "13.jpg\n"
     ]
    },
    {
     "name": "stderr",
     "output_type": "stream",
     "text": [
      "\n",
      "0: 640x480 1 person, 2 cars, 1 motorcycle, 414.8ms\n",
      "Speed: 6.0ms preprocess, 414.8ms inference, 23.0ms postprocess per image at shape (1, 3, 640, 480)\n",
      "WARNING  'Masks.segments' is deprecated. Use 'Masks.xyn' for segments (normalized) and 'Masks.xy' for segments (pixels) instead.\n"
     ]
    },
    {
     "name": "stdout",
     "output_type": "stream",
     "text": [
      "14.jpg\n"
     ]
    },
    {
     "name": "stderr",
     "output_type": "stream",
     "text": [
      "\n",
      "0: 640x480 1 person, 1 car, 1 motorcycle, 1 stop sign, 381.0ms\n",
      "Speed: 4.0ms preprocess, 381.0ms inference, 16.0ms postprocess per image at shape (1, 3, 640, 480)\n",
      "WARNING  'Masks.segments' is deprecated. Use 'Masks.xyn' for segments (normalized) and 'Masks.xy' for segments (pixels) instead.\n"
     ]
    },
    {
     "name": "stdout",
     "output_type": "stream",
     "text": [
      "15.jpg\n"
     ]
    },
    {
     "name": "stderr",
     "output_type": "stream",
     "text": [
      "\n",
      "0: 640x480 1 person, 1 car, 1 motorcycle, 1 stop sign, 422.3ms\n",
      "Speed: 7.0ms preprocess, 422.3ms inference, 19.5ms postprocess per image at shape (1, 3, 640, 480)\n",
      "WARNING  'Masks.segments' is deprecated. Use 'Masks.xyn' for segments (normalized) and 'Masks.xy' for segments (pixels) instead.\n"
     ]
    },
    {
     "name": "stdout",
     "output_type": "stream",
     "text": [
      "16.jpg\n"
     ]
    },
    {
     "name": "stderr",
     "output_type": "stream",
     "text": [
      "\n",
      "0: 640x480 1 person, 2 cars, 1 motorcycle, 1 stop sign, 463.0ms\n",
      "Speed: 10.0ms preprocess, 463.0ms inference, 34.0ms postprocess per image at shape (1, 3, 640, 480)\n",
      "WARNING  'Masks.segments' is deprecated. Use 'Masks.xyn' for segments (normalized) and 'Masks.xy' for segments (pixels) instead.\n"
     ]
    },
    {
     "name": "stdout",
     "output_type": "stream",
     "text": [
      "17.jpg\n"
     ]
    },
    {
     "name": "stderr",
     "output_type": "stream",
     "text": [
      "\n",
      "0: 640x480 1 person, 1 car, 1 motorcycle, 1 stop sign, 568.1ms\n",
      "Speed: 6.0ms preprocess, 568.1ms inference, 13.0ms postprocess per image at shape (1, 3, 640, 480)\n",
      "WARNING  'Masks.segments' is deprecated. Use 'Masks.xyn' for segments (normalized) and 'Masks.xy' for segments (pixels) instead.\n"
     ]
    },
    {
     "name": "stdout",
     "output_type": "stream",
     "text": [
      "18.jpg\n"
     ]
    },
    {
     "name": "stderr",
     "output_type": "stream",
     "text": [
      "\n",
      "0: 640x480 1 person, 1 car, 1 motorcycle, 1 stop sign, 542.1ms\n",
      "Speed: 9.0ms preprocess, 542.1ms inference, 16.0ms postprocess per image at shape (1, 3, 640, 480)\n",
      "WARNING  'Masks.segments' is deprecated. Use 'Masks.xyn' for segments (normalized) and 'Masks.xy' for segments (pixels) instead.\n"
     ]
    },
    {
     "name": "stdout",
     "output_type": "stream",
     "text": [
      "19.jpg\n"
     ]
    },
    {
     "name": "stderr",
     "output_type": "stream",
     "text": [
      "\n",
      "0: 640x480 1 person, 1 car, 1 motorcycle, 1 stop sign, 656.8ms\n",
      "Speed: 5.0ms preprocess, 656.8ms inference, 15.0ms postprocess per image at shape (1, 3, 640, 480)\n",
      "WARNING  'Masks.segments' is deprecated. Use 'Masks.xyn' for segments (normalized) and 'Masks.xy' for segments (pixels) instead.\n"
     ]
    },
    {
     "name": "stdout",
     "output_type": "stream",
     "text": [
      "2.jpg\n"
     ]
    },
    {
     "name": "stderr",
     "output_type": "stream",
     "text": [
      "\n",
      "0: 640x480 2 persons, 1 car, 1 motorcycle, 648.1ms\n",
      "Speed: 6.0ms preprocess, 648.1ms inference, 13.0ms postprocess per image at shape (1, 3, 640, 480)\n",
      "WARNING  'Masks.segments' is deprecated. Use 'Masks.xyn' for segments (normalized) and 'Masks.xy' for segments (pixels) instead.\n"
     ]
    },
    {
     "name": "stdout",
     "output_type": "stream",
     "text": [
      "20.jpg\n"
     ]
    },
    {
     "name": "stderr",
     "output_type": "stream",
     "text": [
      "\n",
      "0: 640x480 1 person, 1 car, 1 motorcycle, 1 stop sign, 451.6ms\n",
      "Speed: 8.0ms preprocess, 451.6ms inference, 11.0ms postprocess per image at shape (1, 3, 640, 480)\n",
      "WARNING  'Masks.segments' is deprecated. Use 'Masks.xyn' for segments (normalized) and 'Masks.xy' for segments (pixels) instead.\n"
     ]
    },
    {
     "name": "stdout",
     "output_type": "stream",
     "text": [
      "3.jpg\n"
     ]
    },
    {
     "name": "stderr",
     "output_type": "stream",
     "text": [
      "\n",
      "0: 640x480 2 persons, 2 motorcycles, 457.2ms\n",
      "Speed: 5.0ms preprocess, 457.2ms inference, 23.5ms postprocess per image at shape (1, 3, 640, 480)\n",
      "WARNING  'Masks.segments' is deprecated. Use 'Masks.xyn' for segments (normalized) and 'Masks.xy' for segments (pixels) instead.\n"
     ]
    },
    {
     "name": "stdout",
     "output_type": "stream",
     "text": [
      "4.jpg\n"
     ]
    },
    {
     "name": "stderr",
     "output_type": "stream",
     "text": [
      "\n",
      "0: 640x480 1 person, 1 motorcycle, 512.6ms\n",
      "Speed: 6.0ms preprocess, 512.6ms inference, 18.0ms postprocess per image at shape (1, 3, 640, 480)\n",
      "WARNING  'Masks.segments' is deprecated. Use 'Masks.xyn' for segments (normalized) and 'Masks.xy' for segments (pixels) instead.\n"
     ]
    },
    {
     "name": "stdout",
     "output_type": "stream",
     "text": [
      "5.jpg\n"
     ]
    },
    {
     "name": "stderr",
     "output_type": "stream",
     "text": [
      "\n",
      "0: 640x480 1 person, 1 motorcycle, 537.8ms\n",
      "Speed: 6.0ms preprocess, 537.8ms inference, 9.5ms postprocess per image at shape (1, 3, 640, 480)\n",
      "WARNING  'Masks.segments' is deprecated. Use 'Masks.xyn' for segments (normalized) and 'Masks.xy' for segments (pixels) instead.\n"
     ]
    },
    {
     "name": "stdout",
     "output_type": "stream",
     "text": [
      "6.jpg\n"
     ]
    },
    {
     "name": "stderr",
     "output_type": "stream",
     "text": [
      "\n",
      "0: 640x480 1 person, 1 motorcycle, 514.8ms\n",
      "Speed: 7.0ms preprocess, 514.8ms inference, 16.6ms postprocess per image at shape (1, 3, 640, 480)\n",
      "WARNING  'Masks.segments' is deprecated. Use 'Masks.xyn' for segments (normalized) and 'Masks.xy' for segments (pixels) instead.\n"
     ]
    },
    {
     "name": "stdout",
     "output_type": "stream",
     "text": [
      "7.jpg\n"
     ]
    },
    {
     "name": "stderr",
     "output_type": "stream",
     "text": [
      "\n",
      "0: 640x480 3 persons, 1 motorcycle, 518.4ms\n",
      "Speed: 8.0ms preprocess, 518.4ms inference, 15.0ms postprocess per image at shape (1, 3, 640, 480)\n",
      "WARNING  'Masks.segments' is deprecated. Use 'Masks.xyn' for segments (normalized) and 'Masks.xy' for segments (pixels) instead.\n"
     ]
    },
    {
     "name": "stdout",
     "output_type": "stream",
     "text": [
      "8.jpg\n"
     ]
    },
    {
     "name": "stderr",
     "output_type": "stream",
     "text": [
      "\n",
      "0: 640x480 3 persons, 1 motorcycle, 1 skateboard, 349.6ms\n",
      "Speed: 5.0ms preprocess, 349.6ms inference, 24.5ms postprocess per image at shape (1, 3, 640, 480)\n",
      "WARNING  'Masks.segments' is deprecated. Use 'Masks.xyn' for segments (normalized) and 'Masks.xy' for segments (pixels) instead.\n"
     ]
    },
    {
     "name": "stdout",
     "output_type": "stream",
     "text": [
      "9.jpg\n"
     ]
    },
    {
     "name": "stderr",
     "output_type": "stream",
     "text": [
      "\n",
      "0: 640x480 3 persons, 1 car, 1 motorcycle, 1 skateboard, 286.6ms\n",
      "Speed: 4.0ms preprocess, 286.6ms inference, 17.5ms postprocess per image at shape (1, 3, 640, 480)\n",
      "WARNING  'Masks.segments' is deprecated. Use 'Masks.xyn' for segments (normalized) and 'Masks.xy' for segments (pixels) instead.\n"
     ]
    },
    {
     "name": "stdout",
     "output_type": "stream",
     "text": [
      "super.jpg\n"
     ]
    },
    {
     "name": "stderr",
     "output_type": "stream",
     "text": [
      "\n",
      "0: 640x480 1 suitcase, 277.6ms\n",
      "Speed: 4.0ms preprocess, 277.6ms inference, 7.0ms postprocess per image at shape (1, 3, 640, 480)\n",
      "WARNING  'Masks.segments' is deprecated. Use 'Masks.xyn' for segments (normalized) and 'Masks.xy' for segments (pixels) instead.\n"
     ]
    },
    {
     "name": "stdout",
     "output_type": "stream",
     "text": [
      "0.jpg\n"
     ]
    },
    {
     "name": "stderr",
     "output_type": "stream",
     "text": [
      "\n",
      "0: 640x480 1 person, 1 car, 1 motorcycle, 445.9ms\n",
      "Speed: 6.0ms preprocess, 445.9ms inference, 17.0ms postprocess per image at shape (1, 3, 640, 480)\n",
      "WARNING  'Masks.segments' is deprecated. Use 'Masks.xyn' for segments (normalized) and 'Masks.xy' for segments (pixels) instead.\n"
     ]
    },
    {
     "name": "stdout",
     "output_type": "stream",
     "text": [
      "1.jpg\n"
     ]
    },
    {
     "name": "stderr",
     "output_type": "stream",
     "text": [
      "\n",
      "0: 640x480 1 person, 1 car, 2 motorcycles, 424.8ms\n",
      "Speed: 4.0ms preprocess, 424.8ms inference, 24.6ms postprocess per image at shape (1, 3, 640, 480)\n",
      "WARNING  'Masks.segments' is deprecated. Use 'Masks.xyn' for segments (normalized) and 'Masks.xy' for segments (pixels) instead.\n"
     ]
    },
    {
     "name": "stdout",
     "output_type": "stream",
     "text": [
      "10.jpg\n"
     ]
    },
    {
     "name": "stderr",
     "output_type": "stream",
     "text": [
      "\n",
      "0: 640x480 3 persons, 2 motorcycles, 447.8ms\n",
      "Speed: 6.0ms preprocess, 447.8ms inference, 19.0ms postprocess per image at shape (1, 3, 640, 480)\n",
      "WARNING  'Masks.segments' is deprecated. Use 'Masks.xyn' for segments (normalized) and 'Masks.xy' for segments (pixels) instead.\n"
     ]
    },
    {
     "name": "stdout",
     "output_type": "stream",
     "text": [
      "11.jpg\n"
     ]
    },
    {
     "name": "stderr",
     "output_type": "stream",
     "text": [
      "\n",
      "0: 640x480 2 persons, 4 motorcycles, 397.3ms\n",
      "Speed: 6.0ms preprocess, 397.3ms inference, 22.5ms postprocess per image at shape (1, 3, 640, 480)\n",
      "WARNING  'Masks.segments' is deprecated. Use 'Masks.xyn' for segments (normalized) and 'Masks.xy' for segments (pixels) instead.\n"
     ]
    },
    {
     "name": "stdout",
     "output_type": "stream",
     "text": [
      "12.jpg\n"
     ]
    },
    {
     "name": "stderr",
     "output_type": "stream",
     "text": [
      "\n",
      "0: 640x480 1 person, 1 motorcycle, 559.3ms\n",
      "Speed: 9.0ms preprocess, 559.3ms inference, 11.0ms postprocess per image at shape (1, 3, 640, 480)\n",
      "WARNING  'Masks.segments' is deprecated. Use 'Masks.xyn' for segments (normalized) and 'Masks.xy' for segments (pixels) instead.\n"
     ]
    },
    {
     "name": "stdout",
     "output_type": "stream",
     "text": [
      "13.jpg\n"
     ]
    },
    {
     "name": "stderr",
     "output_type": "stream",
     "text": [
      "\n",
      "0: 640x480 2 persons, 2 motorcycles, 375.7ms\n",
      "Speed: 7.0ms preprocess, 375.7ms inference, 15.5ms postprocess per image at shape (1, 3, 640, 480)\n",
      "WARNING  'Masks.segments' is deprecated. Use 'Masks.xyn' for segments (normalized) and 'Masks.xy' for segments (pixels) instead.\n"
     ]
    },
    {
     "name": "stdout",
     "output_type": "stream",
     "text": [
      "2.jpg\n"
     ]
    },
    {
     "name": "stderr",
     "output_type": "stream",
     "text": [
      "\n",
      "0: 640x480 1 person, 1 car, 1 motorcycle, 523.9ms\n",
      "Speed: 5.0ms preprocess, 523.9ms inference, 26.0ms postprocess per image at shape (1, 3, 640, 480)\n",
      "WARNING  'Masks.segments' is deprecated. Use 'Masks.xyn' for segments (normalized) and 'Masks.xy' for segments (pixels) instead.\n"
     ]
    },
    {
     "name": "stdout",
     "output_type": "stream",
     "text": [
      "3.jpg\n"
     ]
    },
    {
     "name": "stderr",
     "output_type": "stream",
     "text": [
      "\n",
      "0: 640x480 1 person, 2 cars, 1 motorcycle, 590.5ms\n",
      "Speed: 13.0ms preprocess, 590.5ms inference, 18.0ms postprocess per image at shape (1, 3, 640, 480)\n",
      "WARNING  'Masks.segments' is deprecated. Use 'Masks.xyn' for segments (normalized) and 'Masks.xy' for segments (pixels) instead.\n"
     ]
    },
    {
     "name": "stdout",
     "output_type": "stream",
     "text": [
      "4.jpg\n"
     ]
    },
    {
     "name": "stderr",
     "output_type": "stream",
     "text": [
      "\n",
      "0: 640x480 1 person, 1 car, 1 motorcycle, 486.8ms\n",
      "Speed: 15.0ms preprocess, 486.8ms inference, 14.0ms postprocess per image at shape (1, 3, 640, 480)\n",
      "WARNING  'Masks.segments' is deprecated. Use 'Masks.xyn' for segments (normalized) and 'Masks.xy' for segments (pixels) instead.\n"
     ]
    },
    {
     "name": "stdout",
     "output_type": "stream",
     "text": [
      "5.jpg\n"
     ]
    },
    {
     "name": "stderr",
     "output_type": "stream",
     "text": [
      "\n",
      "0: 640x480 1 person, 1 motorcycle, 426.2ms\n",
      "Speed: 11.0ms preprocess, 426.2ms inference, 10.0ms postprocess per image at shape (1, 3, 640, 480)\n",
      "WARNING  'Masks.segments' is deprecated. Use 'Masks.xyn' for segments (normalized) and 'Masks.xy' for segments (pixels) instead.\n"
     ]
    },
    {
     "name": "stdout",
     "output_type": "stream",
     "text": [
      "6.jpg\n"
     ]
    },
    {
     "name": "stderr",
     "output_type": "stream",
     "text": [
      "\n",
      "0: 640x480 1 person, 1 motorcycle, 373.7ms\n",
      "Speed: 3.5ms preprocess, 373.7ms inference, 9.0ms postprocess per image at shape (1, 3, 640, 480)\n",
      "WARNING  'Masks.segments' is deprecated. Use 'Masks.xyn' for segments (normalized) and 'Masks.xy' for segments (pixels) instead.\n"
     ]
    },
    {
     "name": "stdout",
     "output_type": "stream",
     "text": [
      "7.jpg\n"
     ]
    },
    {
     "name": "stderr",
     "output_type": "stream",
     "text": [
      "\n",
      "0: 640x480 1 person, 1 car, 1 motorcycle, 354.5ms\n",
      "Speed: 4.0ms preprocess, 354.5ms inference, 14.4ms postprocess per image at shape (1, 3, 640, 480)\n",
      "WARNING  'Masks.segments' is deprecated. Use 'Masks.xyn' for segments (normalized) and 'Masks.xy' for segments (pixels) instead.\n"
     ]
    },
    {
     "name": "stdout",
     "output_type": "stream",
     "text": [
      "8.jpg\n"
     ]
    },
    {
     "name": "stderr",
     "output_type": "stream",
     "text": [
      "\n",
      "0: 640x480 1 person, 1 car, 1 motorcycle, 321.6ms\n",
      "Speed: 4.0ms preprocess, 321.6ms inference, 16.0ms postprocess per image at shape (1, 3, 640, 480)\n",
      "WARNING  'Masks.segments' is deprecated. Use 'Masks.xyn' for segments (normalized) and 'Masks.xy' for segments (pixels) instead.\n"
     ]
    },
    {
     "name": "stdout",
     "output_type": "stream",
     "text": [
      "9.jpg\n"
     ]
    },
    {
     "name": "stderr",
     "output_type": "stream",
     "text": [
      "\n",
      "0: 640x480 1 person, 1 car, 1 motorcycle, 345.6ms\n",
      "Speed: 3.0ms preprocess, 345.6ms inference, 13.0ms postprocess per image at shape (1, 3, 640, 480)\n",
      "WARNING  'Masks.segments' is deprecated. Use 'Masks.xyn' for segments (normalized) and 'Masks.xy' for segments (pixels) instead.\n"
     ]
    },
    {
     "name": "stdout",
     "output_type": "stream",
     "text": [
      "super.jpg\n"
     ]
    },
    {
     "name": "stderr",
     "output_type": "stream",
     "text": [
      "\n",
      "0: 640x480 (no detections), 330.5ms\n",
      "Speed: 4.0ms preprocess, 330.5ms inference, 3.0ms postprocess per image at shape (1, 3, 640, 480)\n"
     ]
    },
    {
     "name": "stdout",
     "output_type": "stream",
     "text": [
      "0.jpg\n"
     ]
    },
    {
     "name": "stderr",
     "output_type": "stream",
     "text": [
      "\n",
      "0: 640x480 1 motorcycle, 1 stop sign, 334.1ms\n",
      "Speed: 4.0ms preprocess, 334.1ms inference, 8.0ms postprocess per image at shape (1, 3, 640, 480)\n",
      "WARNING  'Masks.segments' is deprecated. Use 'Masks.xyn' for segments (normalized) and 'Masks.xy' for segments (pixels) instead.\n"
     ]
    },
    {
     "name": "stdout",
     "output_type": "stream",
     "text": [
      "1.jpg\n"
     ]
    },
    {
     "name": "stderr",
     "output_type": "stream",
     "text": [
      "\n",
      "0: 640x480 1 motorcycle, 1 stop sign, 351.7ms\n",
      "Speed: 5.0ms preprocess, 351.7ms inference, 11.0ms postprocess per image at shape (1, 3, 640, 480)\n",
      "WARNING  'Masks.segments' is deprecated. Use 'Masks.xyn' for segments (normalized) and 'Masks.xy' for segments (pixels) instead.\n"
     ]
    },
    {
     "name": "stdout",
     "output_type": "stream",
     "text": [
      "10.jpg\n"
     ]
    },
    {
     "name": "stderr",
     "output_type": "stream",
     "text": [
      "\n",
      "0: 640x480 2 persons, 2 motorcycles, 308.6ms\n",
      "Speed: 4.0ms preprocess, 308.6ms inference, 16.0ms postprocess per image at shape (1, 3, 640, 480)\n",
      "WARNING  'Masks.segments' is deprecated. Use 'Masks.xyn' for segments (normalized) and 'Masks.xy' for segments (pixels) instead.\n"
     ]
    },
    {
     "name": "stdout",
     "output_type": "stream",
     "text": [
      "11.jpg\n"
     ]
    },
    {
     "name": "stderr",
     "output_type": "stream",
     "text": [
      "\n",
      "0: 640x480 1 person, 2 motorcycles, 315.6ms\n",
      "Speed: 4.0ms preprocess, 315.6ms inference, 14.0ms postprocess per image at shape (1, 3, 640, 480)\n",
      "WARNING  'Masks.segments' is deprecated. Use 'Masks.xyn' for segments (normalized) and 'Masks.xy' for segments (pixels) instead.\n"
     ]
    },
    {
     "name": "stdout",
     "output_type": "stream",
     "text": [
      "12.jpg\n"
     ]
    },
    {
     "name": "stderr",
     "output_type": "stream",
     "text": [
      "\n",
      "0: 640x480 1 person, 4 motorcycles, 351.2ms\n",
      "Speed: 4.5ms preprocess, 351.2ms inference, 18.0ms postprocess per image at shape (1, 3, 640, 480)\n",
      "WARNING  'Masks.segments' is deprecated. Use 'Masks.xyn' for segments (normalized) and 'Masks.xy' for segments (pixels) instead.\n"
     ]
    },
    {
     "name": "stdout",
     "output_type": "stream",
     "text": [
      "13.jpg\n"
     ]
    },
    {
     "name": "stderr",
     "output_type": "stream",
     "text": [
      "\n",
      "0: 640x480 1 person, 3 motorcycles, 1 stop sign, 287.6ms\n",
      "Speed: 4.0ms preprocess, 287.6ms inference, 14.0ms postprocess per image at shape (1, 3, 640, 480)\n",
      "WARNING  'Masks.segments' is deprecated. Use 'Masks.xyn' for segments (normalized) and 'Masks.xy' for segments (pixels) instead.\n"
     ]
    },
    {
     "name": "stdout",
     "output_type": "stream",
     "text": [
      "14.jpg\n"
     ]
    },
    {
     "name": "stderr",
     "output_type": "stream",
     "text": [
      "\n",
      "0: 640x480 1 person, 1 motorcycle, 242.1ms\n",
      "Speed: 3.0ms preprocess, 242.1ms inference, 8.0ms postprocess per image at shape (1, 3, 640, 480)\n",
      "WARNING  'Masks.segments' is deprecated. Use 'Masks.xyn' for segments (normalized) and 'Masks.xy' for segments (pixels) instead.\n"
     ]
    },
    {
     "name": "stdout",
     "output_type": "stream",
     "text": [
      "15.jpg\n"
     ]
    },
    {
     "name": "stderr",
     "output_type": "stream",
     "text": [
      "\n",
      "0: 640x480 1 person, 1 car, 271.2ms\n",
      "Speed: 4.0ms preprocess, 271.2ms inference, 10.0ms postprocess per image at shape (1, 3, 640, 480)\n",
      "WARNING  'Masks.segments' is deprecated. Use 'Masks.xyn' for segments (normalized) and 'Masks.xy' for segments (pixels) instead.\n"
     ]
    },
    {
     "name": "stdout",
     "output_type": "stream",
     "text": [
      "16.jpg\n"
     ]
    },
    {
     "name": "stderr",
     "output_type": "stream",
     "text": [
      "\n",
      "0: 640x480 3 motorcycles, 1 traffic light, 276.5ms\n",
      "Speed: 4.0ms preprocess, 276.5ms inference, 12.0ms postprocess per image at shape (1, 3, 640, 480)\n",
      "WARNING  'Masks.segments' is deprecated. Use 'Masks.xyn' for segments (normalized) and 'Masks.xy' for segments (pixels) instead.\n"
     ]
    },
    {
     "name": "stdout",
     "output_type": "stream",
     "text": [
      "17.jpg\n"
     ]
    },
    {
     "name": "stderr",
     "output_type": "stream",
     "text": [
      "\n",
      "0: 640x480 1 motorcycle, 309.8ms\n",
      "Speed: 3.0ms preprocess, 309.8ms inference, 7.0ms postprocess per image at shape (1, 3, 640, 480)\n",
      "WARNING  'Masks.segments' is deprecated. Use 'Masks.xyn' for segments (normalized) and 'Masks.xy' for segments (pixels) instead.\n"
     ]
    },
    {
     "name": "stdout",
     "output_type": "stream",
     "text": [
      "18.jpg\n"
     ]
    },
    {
     "name": "stderr",
     "output_type": "stream",
     "text": [
      "\n",
      "0: 640x480 2 motorcycles, 305.6ms\n",
      "Speed: 4.0ms preprocess, 305.6ms inference, 8.5ms postprocess per image at shape (1, 3, 640, 480)\n",
      "WARNING  'Masks.segments' is deprecated. Use 'Masks.xyn' for segments (normalized) and 'Masks.xy' for segments (pixels) instead.\n"
     ]
    },
    {
     "name": "stdout",
     "output_type": "stream",
     "text": [
      "2.jpg\n"
     ]
    },
    {
     "name": "stderr",
     "output_type": "stream",
     "text": [
      "\n",
      "0: 640x480 1 motorcycle, 312.6ms\n",
      "Speed: 3.0ms preprocess, 312.6ms inference, 6.0ms postprocess per image at shape (1, 3, 640, 480)\n",
      "WARNING  'Masks.segments' is deprecated. Use 'Masks.xyn' for segments (normalized) and 'Masks.xy' for segments (pixels) instead.\n"
     ]
    },
    {
     "name": "stdout",
     "output_type": "stream",
     "text": [
      "3.jpg\n"
     ]
    },
    {
     "name": "stderr",
     "output_type": "stream",
     "text": [
      "\n",
      "0: 640x480 1 motorcycle, 1 stop sign, 278.6ms\n",
      "Speed: 3.0ms preprocess, 278.6ms inference, 12.0ms postprocess per image at shape (1, 3, 640, 480)\n",
      "WARNING  'Masks.segments' is deprecated. Use 'Masks.xyn' for segments (normalized) and 'Masks.xy' for segments (pixels) instead.\n"
     ]
    },
    {
     "name": "stdout",
     "output_type": "stream",
     "text": [
      "4.jpg\n"
     ]
    },
    {
     "name": "stderr",
     "output_type": "stream",
     "text": [
      "\n",
      "0: 640x480 1 motorcycle, 1 stop sign, 316.3ms\n",
      "Speed: 3.0ms preprocess, 316.3ms inference, 10.0ms postprocess per image at shape (1, 3, 640, 480)\n",
      "WARNING  'Masks.segments' is deprecated. Use 'Masks.xyn' for segments (normalized) and 'Masks.xy' for segments (pixels) instead.\n"
     ]
    },
    {
     "name": "stdout",
     "output_type": "stream",
     "text": [
      "5.jpg\n"
     ]
    },
    {
     "name": "stderr",
     "output_type": "stream",
     "text": [
      "\n",
      "0: 640x480 1 motorcycle, 313.6ms\n",
      "Speed: 5.0ms preprocess, 313.6ms inference, 12.5ms postprocess per image at shape (1, 3, 640, 480)\n",
      "WARNING  'Masks.segments' is deprecated. Use 'Masks.xyn' for segments (normalized) and 'Masks.xy' for segments (pixels) instead.\n"
     ]
    },
    {
     "name": "stdout",
     "output_type": "stream",
     "text": [
      "6.jpg\n"
     ]
    },
    {
     "name": "stderr",
     "output_type": "stream",
     "text": [
      "\n",
      "0: 640x480 1 motorcycle, 332.6ms\n",
      "Speed: 3.9ms preprocess, 332.6ms inference, 8.0ms postprocess per image at shape (1, 3, 640, 480)\n",
      "WARNING  'Masks.segments' is deprecated. Use 'Masks.xyn' for segments (normalized) and 'Masks.xy' for segments (pixels) instead.\n"
     ]
    },
    {
     "name": "stdout",
     "output_type": "stream",
     "text": [
      "7.jpg\n"
     ]
    },
    {
     "name": "stderr",
     "output_type": "stream",
     "text": [
      "\n",
      "0: 640x480 1 motorcycle, 346.6ms\n",
      "Speed: 6.0ms preprocess, 346.6ms inference, 6.5ms postprocess per image at shape (1, 3, 640, 480)\n",
      "WARNING  'Masks.segments' is deprecated. Use 'Masks.xyn' for segments (normalized) and 'Masks.xy' for segments (pixels) instead.\n"
     ]
    },
    {
     "name": "stdout",
     "output_type": "stream",
     "text": [
      "8.jpg\n"
     ]
    },
    {
     "name": "stderr",
     "output_type": "stream",
     "text": [
      "\n",
      "0: 640x480 1 person, 3 motorcycles, 302.6ms\n",
      "Speed: 3.0ms preprocess, 302.6ms inference, 14.0ms postprocess per image at shape (1, 3, 640, 480)\n",
      "WARNING  'Masks.segments' is deprecated. Use 'Masks.xyn' for segments (normalized) and 'Masks.xy' for segments (pixels) instead.\n"
     ]
    },
    {
     "name": "stdout",
     "output_type": "stream",
     "text": [
      "9.jpg\n"
     ]
    },
    {
     "name": "stderr",
     "output_type": "stream",
     "text": [
      "\n",
      "0: 640x480 1 person, 3 motorcycles, 328.1ms\n",
      "Speed: 4.0ms preprocess, 328.1ms inference, 12.0ms postprocess per image at shape (1, 3, 640, 480)\n",
      "WARNING  'Masks.segments' is deprecated. Use 'Masks.xyn' for segments (normalized) and 'Masks.xy' for segments (pixels) instead.\n"
     ]
    },
    {
     "name": "stdout",
     "output_type": "stream",
     "text": [
      "super.jpg\n"
     ]
    },
    {
     "name": "stderr",
     "output_type": "stream",
     "text": [
      "\n",
      "0: 640x480 1 motorcycle, 306.6ms\n",
      "Speed: 4.0ms preprocess, 306.6ms inference, 8.0ms postprocess per image at shape (1, 3, 640, 480)\n",
      "WARNING  'Masks.segments' is deprecated. Use 'Masks.xyn' for segments (normalized) and 'Masks.xy' for segments (pixels) instead.\n"
     ]
    },
    {
     "name": "stdout",
     "output_type": "stream",
     "text": [
      "0.jpg\n"
     ]
    },
    {
     "name": "stderr",
     "output_type": "stream",
     "text": [
      "\n",
      "0: 640x480 1 person, 1 car, 1 motorcycle, 315.6ms\n",
      "Speed: 4.0ms preprocess, 315.6ms inference, 12.0ms postprocess per image at shape (1, 3, 640, 480)\n",
      "WARNING  'Masks.segments' is deprecated. Use 'Masks.xyn' for segments (normalized) and 'Masks.xy' for segments (pixels) instead.\n"
     ]
    },
    {
     "name": "stdout",
     "output_type": "stream",
     "text": [
      "1.jpg\n"
     ]
    },
    {
     "name": "stderr",
     "output_type": "stream",
     "text": [
      "\n",
      "0: 640x480 1 person, 1 motorcycle, 312.6ms\n",
      "Speed: 5.0ms preprocess, 312.6ms inference, 11.0ms postprocess per image at shape (1, 3, 640, 480)\n",
      "WARNING  'Masks.segments' is deprecated. Use 'Masks.xyn' for segments (normalized) and 'Masks.xy' for segments (pixels) instead.\n"
     ]
    },
    {
     "name": "stdout",
     "output_type": "stream",
     "text": [
      "10.jpg\n"
     ]
    },
    {
     "name": "stderr",
     "output_type": "stream",
     "text": [
      "\n",
      "0: 640x480 1 motorcycle, 319.5ms\n",
      "Speed: 4.0ms preprocess, 319.5ms inference, 8.0ms postprocess per image at shape (1, 3, 640, 480)\n",
      "WARNING  'Masks.segments' is deprecated. Use 'Masks.xyn' for segments (normalized) and 'Masks.xy' for segments (pixels) instead.\n"
     ]
    },
    {
     "name": "stdout",
     "output_type": "stream",
     "text": [
      "11.jpg\n"
     ]
    },
    {
     "name": "stderr",
     "output_type": "stream",
     "text": [
      "\n",
      "0: 640x480 1 motorcycle, 315.6ms\n",
      "Speed: 4.0ms preprocess, 315.6ms inference, 9.0ms postprocess per image at shape (1, 3, 640, 480)\n",
      "WARNING  'Masks.segments' is deprecated. Use 'Masks.xyn' for segments (normalized) and 'Masks.xy' for segments (pixels) instead.\n"
     ]
    },
    {
     "name": "stdout",
     "output_type": "stream",
     "text": [
      "12.jpg\n"
     ]
    },
    {
     "name": "stderr",
     "output_type": "stream",
     "text": [
      "\n",
      "0: 640x480 1 motorcycle, 296.1ms\n",
      "Speed: 4.0ms preprocess, 296.1ms inference, 7.0ms postprocess per image at shape (1, 3, 640, 480)\n",
      "WARNING  'Masks.segments' is deprecated. Use 'Masks.xyn' for segments (normalized) and 'Masks.xy' for segments (pixels) instead.\n"
     ]
    },
    {
     "name": "stdout",
     "output_type": "stream",
     "text": [
      "13.jpg\n"
     ]
    },
    {
     "name": "stderr",
     "output_type": "stream",
     "text": [
      "\n",
      "0: 640x480 1 motorcycle, 327.7ms\n",
      "Speed: 4.0ms preprocess, 327.7ms inference, 10.0ms postprocess per image at shape (1, 3, 640, 480)\n",
      "WARNING  'Masks.segments' is deprecated. Use 'Masks.xyn' for segments (normalized) and 'Masks.xy' for segments (pixels) instead.\n"
     ]
    },
    {
     "name": "stdout",
     "output_type": "stream",
     "text": [
      "14.jpg\n"
     ]
    },
    {
     "name": "stderr",
     "output_type": "stream",
     "text": [
      "\n",
      "0: 640x480 1 motorcycle, 286.6ms\n",
      "Speed: 4.0ms preprocess, 286.6ms inference, 8.0ms postprocess per image at shape (1, 3, 640, 480)\n",
      "WARNING  'Masks.segments' is deprecated. Use 'Masks.xyn' for segments (normalized) and 'Masks.xy' for segments (pixels) instead.\n"
     ]
    },
    {
     "name": "stdout",
     "output_type": "stream",
     "text": [
      "15.jpg\n"
     ]
    },
    {
     "name": "stderr",
     "output_type": "stream",
     "text": [
      "\n",
      "0: 640x480 1 motorcycle, 307.6ms\n",
      "Speed: 4.0ms preprocess, 307.6ms inference, 10.0ms postprocess per image at shape (1, 3, 640, 480)\n",
      "WARNING  'Masks.segments' is deprecated. Use 'Masks.xyn' for segments (normalized) and 'Masks.xy' for segments (pixels) instead.\n"
     ]
    },
    {
     "name": "stdout",
     "output_type": "stream",
     "text": [
      "16.jpg\n"
     ]
    },
    {
     "name": "stderr",
     "output_type": "stream",
     "text": [
      "\n",
      "0: 640x480 1 motorcycle, 1 stop sign, 330.6ms\n",
      "Speed: 5.0ms preprocess, 330.6ms inference, 9.0ms postprocess per image at shape (1, 3, 640, 480)\n",
      "WARNING  'Masks.segments' is deprecated. Use 'Masks.xyn' for segments (normalized) and 'Masks.xy' for segments (pixels) instead.\n"
     ]
    },
    {
     "name": "stdout",
     "output_type": "stream",
     "text": [
      "2.jpg\n"
     ]
    },
    {
     "name": "stderr",
     "output_type": "stream",
     "text": [
      "\n",
      "0: 640x480 1 person, 1 motorcycle, 306.1ms\n",
      "Speed: 4.2ms preprocess, 306.1ms inference, 13.0ms postprocess per image at shape (1, 3, 640, 480)\n",
      "WARNING  'Masks.segments' is deprecated. Use 'Masks.xyn' for segments (normalized) and 'Masks.xy' for segments (pixels) instead.\n"
     ]
    },
    {
     "name": "stdout",
     "output_type": "stream",
     "text": [
      "3.jpg\n"
     ]
    },
    {
     "name": "stderr",
     "output_type": "stream",
     "text": [
      "\n",
      "0: 640x480 2 cars, 1 motorcycle, 1 stop sign, 258.1ms\n",
      "Speed: 4.0ms preprocess, 258.1ms inference, 10.0ms postprocess per image at shape (1, 3, 640, 480)\n",
      "WARNING  'Masks.segments' is deprecated. Use 'Masks.xyn' for segments (normalized) and 'Masks.xy' for segments (pixels) instead.\n"
     ]
    },
    {
     "name": "stdout",
     "output_type": "stream",
     "text": [
      "4.jpg\n"
     ]
    },
    {
     "name": "stderr",
     "output_type": "stream",
     "text": [
      "\n",
      "0: 640x480 2 cars, 1 motorcycle, 343.6ms\n",
      "Speed: 4.3ms preprocess, 343.6ms inference, 11.0ms postprocess per image at shape (1, 3, 640, 480)\n",
      "WARNING  'Masks.segments' is deprecated. Use 'Masks.xyn' for segments (normalized) and 'Masks.xy' for segments (pixels) instead.\n"
     ]
    },
    {
     "name": "stdout",
     "output_type": "stream",
     "text": [
      "5.jpg\n"
     ]
    },
    {
     "name": "stderr",
     "output_type": "stream",
     "text": [
      "\n",
      "0: 640x480 2 cars, 1 motorcycle, 309.3ms\n",
      "Speed: 4.0ms preprocess, 309.3ms inference, 14.0ms postprocess per image at shape (1, 3, 640, 480)\n",
      "WARNING  'Masks.segments' is deprecated. Use 'Masks.xyn' for segments (normalized) and 'Masks.xy' for segments (pixels) instead.\n"
     ]
    },
    {
     "name": "stdout",
     "output_type": "stream",
     "text": [
      "6.jpg\n"
     ]
    },
    {
     "name": "stderr",
     "output_type": "stream",
     "text": [
      "\n",
      "0: 640x480 2 cars, 2 motorcycles, 392.3ms\n",
      "Speed: 5.5ms preprocess, 392.3ms inference, 14.5ms postprocess per image at shape (1, 3, 640, 480)\n",
      "WARNING  'Masks.segments' is deprecated. Use 'Masks.xyn' for segments (normalized) and 'Masks.xy' for segments (pixels) instead.\n"
     ]
    },
    {
     "name": "stdout",
     "output_type": "stream",
     "text": [
      "7.jpg\n"
     ]
    },
    {
     "name": "stderr",
     "output_type": "stream",
     "text": [
      "\n",
      "0: 640x480 1 car, 371.4ms\n",
      "Speed: 4.6ms preprocess, 371.4ms inference, 9.0ms postprocess per image at shape (1, 3, 640, 480)\n",
      "WARNING  'Masks.segments' is deprecated. Use 'Masks.xyn' for segments (normalized) and 'Masks.xy' for segments (pixels) instead.\n"
     ]
    },
    {
     "name": "stdout",
     "output_type": "stream",
     "text": [
      "8.jpg\n"
     ]
    },
    {
     "name": "stderr",
     "output_type": "stream",
     "text": [
      "\n",
      "0: 640x480 3 cars, 1 motorcycle, 324.4ms\n",
      "Speed: 4.0ms preprocess, 324.4ms inference, 13.0ms postprocess per image at shape (1, 3, 640, 480)\n",
      "WARNING  'Masks.segments' is deprecated. Use 'Masks.xyn' for segments (normalized) and 'Masks.xy' for segments (pixels) instead.\n"
     ]
    },
    {
     "name": "stdout",
     "output_type": "stream",
     "text": [
      "9.jpg\n"
     ]
    },
    {
     "name": "stderr",
     "output_type": "stream",
     "text": [
      "\n",
      "0: 640x480 2 motorcycles, 262.3ms\n",
      "Speed: 5.0ms preprocess, 262.3ms inference, 7.0ms postprocess per image at shape (1, 3, 640, 480)\n",
      "WARNING  'Masks.segments' is deprecated. Use 'Masks.xyn' for segments (normalized) and 'Masks.xy' for segments (pixels) instead.\n"
     ]
    },
    {
     "name": "stdout",
     "output_type": "stream",
     "text": [
      "super.jpg\n"
     ]
    },
    {
     "name": "stderr",
     "output_type": "stream",
     "text": [
      "\n",
      "0: 640x480 (no detections), 317.6ms\n",
      "Speed: 4.0ms preprocess, 317.6ms inference, 2.0ms postprocess per image at shape (1, 3, 640, 480)\n"
     ]
    },
    {
     "name": "stdout",
     "output_type": "stream",
     "text": [
      "0.jpg\n"
     ]
    },
    {
     "name": "stderr",
     "output_type": "stream",
     "text": [
      "\n",
      "0: 640x480 1 person, 1 motorcycle, 330.5ms\n",
      "Speed: 4.5ms preprocess, 330.5ms inference, 13.0ms postprocess per image at shape (1, 3, 640, 480)\n",
      "WARNING  'Masks.segments' is deprecated. Use 'Masks.xyn' for segments (normalized) and 'Masks.xy' for segments (pixels) instead.\n"
     ]
    },
    {
     "name": "stdout",
     "output_type": "stream",
     "text": [
      "1.jpg\n"
     ]
    },
    {
     "name": "stderr",
     "output_type": "stream",
     "text": [
      "\n",
      "0: 640x480 1 motorcycle, 299.6ms\n",
      "Speed: 3.0ms preprocess, 299.6ms inference, 5.0ms postprocess per image at shape (1, 3, 640, 480)\n",
      "WARNING  'Masks.segments' is deprecated. Use 'Masks.xyn' for segments (normalized) and 'Masks.xy' for segments (pixels) instead.\n"
     ]
    },
    {
     "name": "stdout",
     "output_type": "stream",
     "text": [
      "10.jpg\n"
     ]
    },
    {
     "name": "stderr",
     "output_type": "stream",
     "text": [
      "\n",
      "0: 640x480 1 motorcycle, 348.3ms\n",
      "Speed: 4.0ms preprocess, 348.3ms inference, 7.0ms postprocess per image at shape (1, 3, 640, 480)\n",
      "WARNING  'Masks.segments' is deprecated. Use 'Masks.xyn' for segments (normalized) and 'Masks.xy' for segments (pixels) instead.\n"
     ]
    },
    {
     "name": "stdout",
     "output_type": "stream",
     "text": [
      "100.jpg\n"
     ]
    },
    {
     "name": "stderr",
     "output_type": "stream",
     "text": [
      "\n",
      "0: 640x480 1 motorcycle, 323.6ms\n",
      "Speed: 3.0ms preprocess, 323.6ms inference, 8.0ms postprocess per image at shape (1, 3, 640, 480)\n",
      "WARNING  'Masks.segments' is deprecated. Use 'Masks.xyn' for segments (normalized) and 'Masks.xy' for segments (pixels) instead.\n"
     ]
    },
    {
     "name": "stdout",
     "output_type": "stream",
     "text": [
      "101.jpg\n"
     ]
    },
    {
     "name": "stderr",
     "output_type": "stream",
     "text": [
      "\n",
      "0: 640x480 1 motorcycle, 259.1ms\n",
      "Speed: 3.0ms preprocess, 259.1ms inference, 4.5ms postprocess per image at shape (1, 3, 640, 480)\n",
      "WARNING  'Masks.segments' is deprecated. Use 'Masks.xyn' for segments (normalized) and 'Masks.xy' for segments (pixels) instead.\n"
     ]
    },
    {
     "name": "stdout",
     "output_type": "stream",
     "text": [
      "102.jpg\n"
     ]
    },
    {
     "name": "stderr",
     "output_type": "stream",
     "text": [
      "\n",
      "0: 640x480 1 motorcycle, 1 bench, 302.6ms\n",
      "Speed: 4.0ms preprocess, 302.6ms inference, 10.0ms postprocess per image at shape (1, 3, 640, 480)\n",
      "WARNING  'Masks.segments' is deprecated. Use 'Masks.xyn' for segments (normalized) and 'Masks.xy' for segments (pixels) instead.\n"
     ]
    },
    {
     "name": "stdout",
     "output_type": "stream",
     "text": [
      "11.jpg\n"
     ]
    },
    {
     "name": "stderr",
     "output_type": "stream",
     "text": [
      "\n",
      "0: 640x480 1 motorcycle, 1 surfboard, 348.4ms\n",
      "Speed: 4.0ms preprocess, 348.4ms inference, 10.0ms postprocess per image at shape (1, 3, 640, 480)\n",
      "WARNING  'Masks.segments' is deprecated. Use 'Masks.xyn' for segments (normalized) and 'Masks.xy' for segments (pixels) instead.\n"
     ]
    },
    {
     "name": "stdout",
     "output_type": "stream",
     "text": [
      "12.jpg\n"
     ]
    },
    {
     "name": "stderr",
     "output_type": "stream",
     "text": [
      "\n",
      "0: 640x480 1 motorcycle, 304.6ms\n",
      "Speed: 4.0ms preprocess, 304.6ms inference, 8.5ms postprocess per image at shape (1, 3, 640, 480)\n",
      "WARNING  'Masks.segments' is deprecated. Use 'Masks.xyn' for segments (normalized) and 'Masks.xy' for segments (pixels) instead.\n"
     ]
    },
    {
     "name": "stdout",
     "output_type": "stream",
     "text": [
      "13.jpg\n"
     ]
    },
    {
     "name": "stderr",
     "output_type": "stream",
     "text": [
      "\n",
      "0: 640x480 1 person, 1 motorcycle, 292.4ms\n",
      "Speed: 4.0ms preprocess, 292.4ms inference, 8.0ms postprocess per image at shape (1, 3, 640, 480)\n",
      "WARNING  'Masks.segments' is deprecated. Use 'Masks.xyn' for segments (normalized) and 'Masks.xy' for segments (pixels) instead.\n"
     ]
    },
    {
     "name": "stdout",
     "output_type": "stream",
     "text": [
      "14.jpg\n"
     ]
    },
    {
     "name": "stderr",
     "output_type": "stream",
     "text": [
      "\n",
      "0: 640x480 1 person, 1 motorcycle, 335.6ms\n",
      "Speed: 5.0ms preprocess, 335.6ms inference, 14.0ms postprocess per image at shape (1, 3, 640, 480)\n",
      "WARNING  'Masks.segments' is deprecated. Use 'Masks.xyn' for segments (normalized) and 'Masks.xy' for segments (pixels) instead.\n"
     ]
    },
    {
     "name": "stdout",
     "output_type": "stream",
     "text": [
      "15.jpg\n"
     ]
    },
    {
     "name": "stderr",
     "output_type": "stream",
     "text": [
      "\n",
      "0: 640x480 2 motorcycles, 1 snowboard, 308.1ms\n",
      "Speed: 3.0ms preprocess, 308.1ms inference, 11.0ms postprocess per image at shape (1, 3, 640, 480)\n",
      "WARNING  'Masks.segments' is deprecated. Use 'Masks.xyn' for segments (normalized) and 'Masks.xy' for segments (pixels) instead.\n"
     ]
    },
    {
     "name": "stdout",
     "output_type": "stream",
     "text": [
      "16.jpg\n"
     ]
    },
    {
     "name": "stderr",
     "output_type": "stream",
     "text": [
      "\n",
      "0: 640x480 1 motorcycle, 297.6ms\n",
      "Speed: 4.0ms preprocess, 297.6ms inference, 7.0ms postprocess per image at shape (1, 3, 640, 480)\n",
      "WARNING  'Masks.segments' is deprecated. Use 'Masks.xyn' for segments (normalized) and 'Masks.xy' for segments (pixels) instead.\n"
     ]
    },
    {
     "name": "stdout",
     "output_type": "stream",
     "text": [
      "17.jpg\n"
     ]
    },
    {
     "name": "stderr",
     "output_type": "stream",
     "text": [
      "\n",
      "0: 640x480 1 motorcycle, 301.6ms\n",
      "Speed: 3.0ms preprocess, 301.6ms inference, 9.0ms postprocess per image at shape (1, 3, 640, 480)\n",
      "WARNING  'Masks.segments' is deprecated. Use 'Masks.xyn' for segments (normalized) and 'Masks.xy' for segments (pixels) instead.\n"
     ]
    },
    {
     "name": "stdout",
     "output_type": "stream",
     "text": [
      "18.jpg\n"
     ]
    },
    {
     "name": "stderr",
     "output_type": "stream",
     "text": [
      "\n",
      "0: 640x480 2 motorcycles, 358.6ms\n",
      "Speed: 5.0ms preprocess, 358.6ms inference, 11.5ms postprocess per image at shape (1, 3, 640, 480)\n",
      "WARNING  'Masks.segments' is deprecated. Use 'Masks.xyn' for segments (normalized) and 'Masks.xy' for segments (pixels) instead.\n"
     ]
    },
    {
     "name": "stdout",
     "output_type": "stream",
     "text": [
      "19.jpg\n"
     ]
    },
    {
     "name": "stderr",
     "output_type": "stream",
     "text": [
      "\n",
      "0: 640x480 2 motorcycles, 1 snowboard, 285.6ms\n",
      "Speed: 4.0ms preprocess, 285.6ms inference, 8.0ms postprocess per image at shape (1, 3, 640, 480)\n",
      "WARNING  'Masks.segments' is deprecated. Use 'Masks.xyn' for segments (normalized) and 'Masks.xy' for segments (pixels) instead.\n"
     ]
    },
    {
     "name": "stdout",
     "output_type": "stream",
     "text": [
      "2.jpg\n"
     ]
    },
    {
     "name": "stderr",
     "output_type": "stream",
     "text": [
      "\n",
      "0: 640x480 1 motorcycle, 321.4ms\n",
      "Speed: 5.0ms preprocess, 321.4ms inference, 7.0ms postprocess per image at shape (1, 3, 640, 480)\n",
      "WARNING  'Masks.segments' is deprecated. Use 'Masks.xyn' for segments (normalized) and 'Masks.xy' for segments (pixels) instead.\n"
     ]
    },
    {
     "name": "stdout",
     "output_type": "stream",
     "text": [
      "20.jpg\n"
     ]
    },
    {
     "name": "stderr",
     "output_type": "stream",
     "text": [
      "\n",
      "0: 640x480 1 car, 1 motorcycle, 309.9ms\n",
      "Speed: 4.0ms preprocess, 309.9ms inference, 7.0ms postprocess per image at shape (1, 3, 640, 480)\n",
      "WARNING  'Masks.segments' is deprecated. Use 'Masks.xyn' for segments (normalized) and 'Masks.xy' for segments (pixels) instead.\n"
     ]
    },
    {
     "name": "stdout",
     "output_type": "stream",
     "text": [
      "21.jpg\n"
     ]
    },
    {
     "name": "stderr",
     "output_type": "stream",
     "text": [
      "\n",
      "0: 640x480 1 motorcycle, 240.6ms\n",
      "Speed: 5.0ms preprocess, 240.6ms inference, 5.0ms postprocess per image at shape (1, 3, 640, 480)\n",
      "WARNING  'Masks.segments' is deprecated. Use 'Masks.xyn' for segments (normalized) and 'Masks.xy' for segments (pixels) instead.\n"
     ]
    },
    {
     "name": "stdout",
     "output_type": "stream",
     "text": [
      "22.jpg\n"
     ]
    },
    {
     "name": "stderr",
     "output_type": "stream",
     "text": [
      "\n",
      "0: 640x480 1 motorcycle, 339.7ms\n",
      "Speed: 4.0ms preprocess, 339.7ms inference, 7.0ms postprocess per image at shape (1, 3, 640, 480)\n",
      "WARNING  'Masks.segments' is deprecated. Use 'Masks.xyn' for segments (normalized) and 'Masks.xy' for segments (pixels) instead.\n"
     ]
    },
    {
     "name": "stdout",
     "output_type": "stream",
     "text": [
      "23.jpg\n"
     ]
    },
    {
     "name": "stderr",
     "output_type": "stream",
     "text": [
      "\n",
      "0: 640x480 2 motorcycles, 315.6ms\n",
      "Speed: 4.0ms preprocess, 315.6ms inference, 11.0ms postprocess per image at shape (1, 3, 640, 480)\n",
      "WARNING  'Masks.segments' is deprecated. Use 'Masks.xyn' for segments (normalized) and 'Masks.xy' for segments (pixels) instead.\n",
      "\n"
     ]
    },
    {
     "name": "stdout",
     "output_type": "stream",
     "text": [
      "24.jpg\n"
     ]
    },
    {
     "name": "stderr",
     "output_type": "stream",
     "text": [
      "0: 640x480 1 person, 320.6ms\n",
      "Speed: 4.0ms preprocess, 320.6ms inference, 8.5ms postprocess per image at shape (1, 3, 640, 480)\n",
      "WARNING  'Masks.segments' is deprecated. Use 'Masks.xyn' for segments (normalized) and 'Masks.xy' for segments (pixels) instead.\n"
     ]
    },
    {
     "name": "stdout",
     "output_type": "stream",
     "text": [
      "25.jpg\n"
     ]
    },
    {
     "name": "stderr",
     "output_type": "stream",
     "text": [
      "\n",
      "0: 640x480 1 motorcycle, 308.6ms\n",
      "Speed: 4.0ms preprocess, 308.6ms inference, 7.0ms postprocess per image at shape (1, 3, 640, 480)\n",
      "WARNING  'Masks.segments' is deprecated. Use 'Masks.xyn' for segments (normalized) and 'Masks.xy' for segments (pixels) instead.\n"
     ]
    },
    {
     "name": "stdout",
     "output_type": "stream",
     "text": [
      "26.jpg\n"
     ]
    },
    {
     "name": "stderr",
     "output_type": "stream",
     "text": [
      "\n",
      "0: 640x480 1 motorcycle, 322.3ms\n",
      "Speed: 4.0ms preprocess, 322.3ms inference, 8.0ms postprocess per image at shape (1, 3, 640, 480)\n",
      "WARNING  'Masks.segments' is deprecated. Use 'Masks.xyn' for segments (normalized) and 'Masks.xy' for segments (pixels) instead.\n"
     ]
    },
    {
     "name": "stdout",
     "output_type": "stream",
     "text": [
      "27.jpg\n"
     ]
    },
    {
     "name": "stderr",
     "output_type": "stream",
     "text": [
      "\n",
      "0: 640x480 1 motorcycle, 311.6ms\n",
      "Speed: 4.0ms preprocess, 311.6ms inference, 6.0ms postprocess per image at shape (1, 3, 640, 480)\n",
      "WARNING  'Masks.segments' is deprecated. Use 'Masks.xyn' for segments (normalized) and 'Masks.xy' for segments (pixels) instead.\n"
     ]
    },
    {
     "name": "stdout",
     "output_type": "stream",
     "text": [
      "28.jpg\n"
     ]
    },
    {
     "name": "stderr",
     "output_type": "stream",
     "text": [
      "\n",
      "0: 640x480 2 motorcycles, 343.1ms\n",
      "Speed: 4.0ms preprocess, 343.1ms inference, 10.0ms postprocess per image at shape (1, 3, 640, 480)\n",
      "WARNING  'Masks.segments' is deprecated. Use 'Masks.xyn' for segments (normalized) and 'Masks.xy' for segments (pixels) instead.\n"
     ]
    },
    {
     "name": "stdout",
     "output_type": "stream",
     "text": [
      "29.jpg\n"
     ]
    },
    {
     "name": "stderr",
     "output_type": "stream",
     "text": [
      "\n",
      "0: 640x480 2 motorcycles, 268.6ms\n",
      "Speed: 4.0ms preprocess, 268.6ms inference, 7.5ms postprocess per image at shape (1, 3, 640, 480)\n",
      "WARNING  'Masks.segments' is deprecated. Use 'Masks.xyn' for segments (normalized) and 'Masks.xy' for segments (pixels) instead.\n"
     ]
    },
    {
     "name": "stdout",
     "output_type": "stream",
     "text": [
      "3.jpg\n"
     ]
    },
    {
     "name": "stderr",
     "output_type": "stream",
     "text": [
      "\n",
      "0: 640x480 1 car, 1 motorcycle, 307.6ms\n",
      "Speed: 4.0ms preprocess, 307.6ms inference, 9.0ms postprocess per image at shape (1, 3, 640, 480)\n",
      "WARNING  'Masks.segments' is deprecated. Use 'Masks.xyn' for segments (normalized) and 'Masks.xy' for segments (pixels) instead.\n"
     ]
    },
    {
     "name": "stdout",
     "output_type": "stream",
     "text": [
      "30.jpg\n"
     ]
    },
    {
     "name": "stderr",
     "output_type": "stream",
     "text": [
      "\n",
      "0: 640x480 1 car, 1 motorcycle, 292.5ms\n",
      "Speed: 3.0ms preprocess, 292.5ms inference, 7.0ms postprocess per image at shape (1, 3, 640, 480)\n",
      "WARNING  'Masks.segments' is deprecated. Use 'Masks.xyn' for segments (normalized) and 'Masks.xy' for segments (pixels) instead.\n"
     ]
    },
    {
     "name": "stdout",
     "output_type": "stream",
     "text": [
      "31.jpg\n"
     ]
    },
    {
     "name": "stderr",
     "output_type": "stream",
     "text": [
      "\n",
      "0: 640x480 1 car, 1 motorcycle, 2 skateboards, 299.8ms\n",
      "Speed: 4.0ms preprocess, 299.8ms inference, 18.0ms postprocess per image at shape (1, 3, 640, 480)\n",
      "WARNING  'Masks.segments' is deprecated. Use 'Masks.xyn' for segments (normalized) and 'Masks.xy' for segments (pixels) instead.\n"
     ]
    },
    {
     "name": "stdout",
     "output_type": "stream",
     "text": [
      "32.jpg\n"
     ]
    },
    {
     "name": "stderr",
     "output_type": "stream",
     "text": [
      "\n",
      "0: 640x480 1 car, 1 motorcycle, 1 skateboard, 297.7ms\n",
      "Speed: 5.0ms preprocess, 297.7ms inference, 9.0ms postprocess per image at shape (1, 3, 640, 480)\n",
      "WARNING  'Masks.segments' is deprecated. Use 'Masks.xyn' for segments (normalized) and 'Masks.xy' for segments (pixels) instead.\n"
     ]
    },
    {
     "name": "stdout",
     "output_type": "stream",
     "text": [
      "33.jpg\n"
     ]
    },
    {
     "name": "stderr",
     "output_type": "stream",
     "text": [
      "\n",
      "0: 640x480 (no detections), 309.2ms\n",
      "Speed: 4.0ms preprocess, 309.2ms inference, 2.0ms postprocess per image at shape (1, 3, 640, 480)\n"
     ]
    },
    {
     "name": "stdout",
     "output_type": "stream",
     "text": [
      "34.jpg\n"
     ]
    },
    {
     "name": "stderr",
     "output_type": "stream",
     "text": [
      "\n",
      "0: 640x480 1 motorcycle, 320.6ms\n",
      "Speed: 4.0ms preprocess, 320.6ms inference, 6.5ms postprocess per image at shape (1, 3, 640, 480)\n",
      "WARNING  'Masks.segments' is deprecated. Use 'Masks.xyn' for segments (normalized) and 'Masks.xy' for segments (pixels) instead.\n"
     ]
    },
    {
     "name": "stdout",
     "output_type": "stream",
     "text": [
      "35.jpg\n"
     ]
    },
    {
     "name": "stderr",
     "output_type": "stream",
     "text": [
      "\n",
      "0: 640x480 1 motorcycle, 1 fire hydrant, 295.3ms\n",
      "Speed: 4.0ms preprocess, 295.3ms inference, 10.0ms postprocess per image at shape (1, 3, 640, 480)\n",
      "WARNING  'Masks.segments' is deprecated. Use 'Masks.xyn' for segments (normalized) and 'Masks.xy' for segments (pixels) instead.\n"
     ]
    },
    {
     "name": "stdout",
     "output_type": "stream",
     "text": [
      "36.jpg\n"
     ]
    },
    {
     "name": "stderr",
     "output_type": "stream",
     "text": [
      "\n",
      "0: 640x480 1 skateboard, 337.6ms\n",
      "Speed: 5.0ms preprocess, 337.6ms inference, 7.0ms postprocess per image at shape (1, 3, 640, 480)\n",
      "WARNING  'Masks.segments' is deprecated. Use 'Masks.xyn' for segments (normalized) and 'Masks.xy' for segments (pixels) instead.\n"
     ]
    },
    {
     "name": "stdout",
     "output_type": "stream",
     "text": [
      "37.jpg\n"
     ]
    },
    {
     "name": "stderr",
     "output_type": "stream",
     "text": [
      "\n",
      "0: 640x480 (no detections), 318.6ms\n",
      "Speed: 4.0ms preprocess, 318.6ms inference, 2.0ms postprocess per image at shape (1, 3, 640, 480)\n"
     ]
    },
    {
     "name": "stdout",
     "output_type": "stream",
     "text": [
      "38.jpg\n"
     ]
    },
    {
     "name": "stderr",
     "output_type": "stream",
     "text": [
      "\n",
      "0: 640x480 1 fire hydrant, 1 skateboard, 279.6ms\n",
      "Speed: 3.0ms preprocess, 279.6ms inference, 8.0ms postprocess per image at shape (1, 3, 640, 480)\n",
      "WARNING  'Masks.segments' is deprecated. Use 'Masks.xyn' for segments (normalized) and 'Masks.xy' for segments (pixels) instead.\n"
     ]
    },
    {
     "name": "stdout",
     "output_type": "stream",
     "text": [
      "39.jpg\n"
     ]
    },
    {
     "name": "stderr",
     "output_type": "stream",
     "text": [
      "\n",
      "0: 640x480 2 fire hydrants, 1 skateboard, 299.6ms\n",
      "Speed: 4.0ms preprocess, 299.6ms inference, 9.0ms postprocess per image at shape (1, 3, 640, 480)\n",
      "WARNING  'Masks.segments' is deprecated. Use 'Masks.xyn' for segments (normalized) and 'Masks.xy' for segments (pixels) instead.\n"
     ]
    },
    {
     "name": "stdout",
     "output_type": "stream",
     "text": [
      "4.jpg\n"
     ]
    },
    {
     "name": "stderr",
     "output_type": "stream",
     "text": [
      "\n",
      "0: 640x480 1 motorcycle, 1 fire hydrant, 308.6ms\n",
      "Speed: 4.0ms preprocess, 308.6ms inference, 7.0ms postprocess per image at shape (1, 3, 640, 480)\n",
      "WARNING  'Masks.segments' is deprecated. Use 'Masks.xyn' for segments (normalized) and 'Masks.xy' for segments (pixels) instead.\n"
     ]
    },
    {
     "name": "stdout",
     "output_type": "stream",
     "text": [
      "40.jpg\n"
     ]
    },
    {
     "name": "stderr",
     "output_type": "stream",
     "text": [
      "\n",
      "0: 640x480 1 fire hydrant, 331.6ms\n",
      "Speed: 4.0ms preprocess, 331.6ms inference, 7.0ms postprocess per image at shape (1, 3, 640, 480)\n",
      "WARNING  'Masks.segments' is deprecated. Use 'Masks.xyn' for segments (normalized) and 'Masks.xy' for segments (pixels) instead.\n"
     ]
    },
    {
     "name": "stdout",
     "output_type": "stream",
     "text": [
      "41.jpg\n"
     ]
    },
    {
     "name": "stderr",
     "output_type": "stream",
     "text": [
      "\n",
      "0: 640x480 (no detections), 327.6ms\n",
      "Speed: 5.0ms preprocess, 327.6ms inference, 2.0ms postprocess per image at shape (1, 3, 640, 480)\n"
     ]
    },
    {
     "name": "stdout",
     "output_type": "stream",
     "text": [
      "42.jpg\n"
     ]
    },
    {
     "name": "stderr",
     "output_type": "stream",
     "text": [
      "\n",
      "0: 640x480 1 motorcycle, 373.6ms\n",
      "Speed: 6.5ms preprocess, 373.6ms inference, 8.0ms postprocess per image at shape (1, 3, 640, 480)\n",
      "WARNING  'Masks.segments' is deprecated. Use 'Masks.xyn' for segments (normalized) and 'Masks.xy' for segments (pixels) instead.\n"
     ]
    },
    {
     "name": "stdout",
     "output_type": "stream",
     "text": [
      "43.jpg\n"
     ]
    },
    {
     "name": "stderr",
     "output_type": "stream",
     "text": [
      "\n",
      "0: 640x480 1 motorcycle, 402.2ms\n",
      "Speed: 7.0ms preprocess, 402.2ms inference, 7.0ms postprocess per image at shape (1, 3, 640, 480)\n",
      "WARNING  'Masks.segments' is deprecated. Use 'Masks.xyn' for segments (normalized) and 'Masks.xy' for segments (pixels) instead.\n"
     ]
    },
    {
     "name": "stdout",
     "output_type": "stream",
     "text": [
      "44.jpg\n"
     ]
    },
    {
     "name": "stderr",
     "output_type": "stream",
     "text": [
      "\n",
      "0: 640x480 (no detections), 324.1ms\n",
      "Speed: 3.0ms preprocess, 324.1ms inference, 3.0ms postprocess per image at shape (1, 3, 640, 480)\n"
     ]
    },
    {
     "name": "stdout",
     "output_type": "stream",
     "text": [
      "45.jpg\n"
     ]
    },
    {
     "name": "stderr",
     "output_type": "stream",
     "text": [
      "\n",
      "0: 640x480 1 motorcycle, 356.6ms\n",
      "Speed: 5.0ms preprocess, 356.6ms inference, 9.0ms postprocess per image at shape (1, 3, 640, 480)\n",
      "WARNING  'Masks.segments' is deprecated. Use 'Masks.xyn' for segments (normalized) and 'Masks.xy' for segments (pixels) instead.\n"
     ]
    },
    {
     "name": "stdout",
     "output_type": "stream",
     "text": [
      "46.jpg\n"
     ]
    },
    {
     "name": "stderr",
     "output_type": "stream",
     "text": [
      "\n",
      "0: 640x480 1 motorcycle, 1 bench, 369.2ms\n",
      "Speed: 7.0ms preprocess, 369.2ms inference, 12.0ms postprocess per image at shape (1, 3, 640, 480)\n",
      "WARNING  'Masks.segments' is deprecated. Use 'Masks.xyn' for segments (normalized) and 'Masks.xy' for segments (pixels) instead.\n"
     ]
    },
    {
     "name": "stdout",
     "output_type": "stream",
     "text": [
      "47.jpg\n"
     ]
    },
    {
     "name": "stderr",
     "output_type": "stream",
     "text": [
      "\n",
      "0: 640x480 1 motorcycle, 1 kite, 320.3ms\n",
      "Speed: 5.0ms preprocess, 320.3ms inference, 11.0ms postprocess per image at shape (1, 3, 640, 480)\n",
      "WARNING  'Masks.segments' is deprecated. Use 'Masks.xyn' for segments (normalized) and 'Masks.xy' for segments (pixels) instead.\n"
     ]
    },
    {
     "name": "stdout",
     "output_type": "stream",
     "text": [
      "48.jpg\n"
     ]
    },
    {
     "name": "stderr",
     "output_type": "stream",
     "text": [
      "\n",
      "0: 640x480 1 fire hydrant, 1 kite, 380.2ms\n",
      "Speed: 4.0ms preprocess, 380.2ms inference, 10.0ms postprocess per image at shape (1, 3, 640, 480)\n",
      "WARNING  'Masks.segments' is deprecated. Use 'Masks.xyn' for segments (normalized) and 'Masks.xy' for segments (pixels) instead.\n"
     ]
    },
    {
     "name": "stdout",
     "output_type": "stream",
     "text": [
      "49.jpg\n"
     ]
    },
    {
     "name": "stderr",
     "output_type": "stream",
     "text": [
      "\n",
      "0: 640x480 1 car, 1 motorcycle, 320.6ms\n",
      "Speed: 5.0ms preprocess, 320.6ms inference, 10.0ms postprocess per image at shape (1, 3, 640, 480)\n",
      "WARNING  'Masks.segments' is deprecated. Use 'Masks.xyn' for segments (normalized) and 'Masks.xy' for segments (pixels) instead.\n"
     ]
    },
    {
     "name": "stdout",
     "output_type": "stream",
     "text": [
      "5.jpg\n"
     ]
    },
    {
     "name": "stderr",
     "output_type": "stream",
     "text": [
      "\n",
      "0: 640x480 1 motorcycle, 302.6ms\n",
      "Speed: 3.0ms preprocess, 302.6ms inference, 4.5ms postprocess per image at shape (1, 3, 640, 480)\n",
      "WARNING  'Masks.segments' is deprecated. Use 'Masks.xyn' for segments (normalized) and 'Masks.xy' for segments (pixels) instead.\n"
     ]
    },
    {
     "name": "stdout",
     "output_type": "stream",
     "text": [
      "50.jpg\n"
     ]
    },
    {
     "name": "stderr",
     "output_type": "stream",
     "text": [
      "\n",
      "0: 640x480 1 person, 1 motorcycle, 313.9ms\n",
      "Speed: 3.0ms preprocess, 313.9ms inference, 10.0ms postprocess per image at shape (1, 3, 640, 480)\n",
      "WARNING  'Masks.segments' is deprecated. Use 'Masks.xyn' for segments (normalized) and 'Masks.xy' for segments (pixels) instead.\n"
     ]
    },
    {
     "name": "stdout",
     "output_type": "stream",
     "text": [
      "51.jpg\n"
     ]
    },
    {
     "name": "stderr",
     "output_type": "stream",
     "text": [
      "\n",
      "0: 640x480 1 person, 1 car, 1 motorcycle, 309.3ms\n",
      "Speed: 8.0ms preprocess, 309.3ms inference, 11.0ms postprocess per image at shape (1, 3, 640, 480)\n",
      "WARNING  'Masks.segments' is deprecated. Use 'Masks.xyn' for segments (normalized) and 'Masks.xy' for segments (pixels) instead.\n"
     ]
    },
    {
     "name": "stdout",
     "output_type": "stream",
     "text": [
      "52.jpg\n"
     ]
    },
    {
     "name": "stderr",
     "output_type": "stream",
     "text": [
      "\n",
      "0: 640x480 2 persons, 1 car, 1 motorcycle, 399.2ms\n",
      "Speed: 7.0ms preprocess, 399.2ms inference, 18.0ms postprocess per image at shape (1, 3, 640, 480)\n",
      "WARNING  'Masks.segments' is deprecated. Use 'Masks.xyn' for segments (normalized) and 'Masks.xy' for segments (pixels) instead.\n"
     ]
    },
    {
     "name": "stdout",
     "output_type": "stream",
     "text": [
      "53.jpg\n"
     ]
    },
    {
     "name": "stderr",
     "output_type": "stream",
     "text": [
      "\n",
      "0: 640x480 1 person, 1 motorcycle, 391.2ms\n",
      "Speed: 45.6ms preprocess, 391.2ms inference, 10.0ms postprocess per image at shape (1, 3, 640, 480)\n",
      "WARNING  'Masks.segments' is deprecated. Use 'Masks.xyn' for segments (normalized) and 'Masks.xy' for segments (pixels) instead.\n"
     ]
    },
    {
     "name": "stdout",
     "output_type": "stream",
     "text": [
      "54.jpg\n"
     ]
    },
    {
     "name": "stderr",
     "output_type": "stream",
     "text": [
      "\n",
      "0: 640x480 1 person, 1 motorcycle, 624.4ms\n",
      "Speed: 9.0ms preprocess, 624.4ms inference, 7.0ms postprocess per image at shape (1, 3, 640, 480)\n",
      "WARNING  'Masks.segments' is deprecated. Use 'Masks.xyn' for segments (normalized) and 'Masks.xy' for segments (pixels) instead.\n"
     ]
    },
    {
     "name": "stdout",
     "output_type": "stream",
     "text": [
      "55.jpg\n"
     ]
    },
    {
     "name": "stderr",
     "output_type": "stream",
     "text": [
      "\n",
      "0: 640x480 1 motorcycle, 353.6ms\n",
      "Speed: 4.0ms preprocess, 353.6ms inference, 10.0ms postprocess per image at shape (1, 3, 640, 480)\n",
      "WARNING  'Masks.segments' is deprecated. Use 'Masks.xyn' for segments (normalized) and 'Masks.xy' for segments (pixels) instead.\n"
     ]
    },
    {
     "name": "stdout",
     "output_type": "stream",
     "text": [
      "56.jpg\n"
     ]
    },
    {
     "name": "stderr",
     "output_type": "stream",
     "text": [
      "\n",
      "0: 640x480 1 motorcycle, 1 traffic light, 244.6ms\n",
      "Speed: 4.0ms preprocess, 244.6ms inference, 6.0ms postprocess per image at shape (1, 3, 640, 480)\n",
      "WARNING  'Masks.segments' is deprecated. Use 'Masks.xyn' for segments (normalized) and 'Masks.xy' for segments (pixels) instead.\n",
      "\n"
     ]
    },
    {
     "name": "stdout",
     "output_type": "stream",
     "text": [
      "57.jpg\n"
     ]
    },
    {
     "name": "stderr",
     "output_type": "stream",
     "text": [
      "0: 640x544 1 motorcycle, 366.5ms\n",
      "Speed: 5.0ms preprocess, 366.5ms inference, 8.0ms postprocess per image at shape (1, 3, 640, 544)\n",
      "WARNING  'Masks.segments' is deprecated. Use 'Masks.xyn' for segments (normalized) and 'Masks.xy' for segments (pixels) instead.\n",
      "\n"
     ]
    },
    {
     "name": "stdout",
     "output_type": "stream",
     "text": [
      "58.jpg\n"
     ]
    },
    {
     "name": "stderr",
     "output_type": "stream",
     "text": [
      "0: 640x608 1 motorcycle, 388.8ms\n",
      "Speed: 6.0ms preprocess, 388.8ms inference, 9.0ms postprocess per image at shape (1, 3, 640, 608)\n",
      "WARNING  'Masks.segments' is deprecated. Use 'Masks.xyn' for segments (normalized) and 'Masks.xy' for segments (pixels) instead.\n"
     ]
    },
    {
     "name": "stdout",
     "output_type": "stream",
     "text": [
      "59.jpg\n"
     ]
    },
    {
     "name": "stderr",
     "output_type": "stream",
     "text": [
      "\n",
      "0: 640x480 1 motorcycle, 334.3ms\n",
      "Speed: 6.0ms preprocess, 334.3ms inference, 6.0ms postprocess per image at shape (1, 3, 640, 480)\n",
      "WARNING  'Masks.segments' is deprecated. Use 'Masks.xyn' for segments (normalized) and 'Masks.xy' for segments (pixels) instead.\n",
      "\n"
     ]
    },
    {
     "name": "stdout",
     "output_type": "stream",
     "text": [
      "6.jpg\n"
     ]
    },
    {
     "name": "stderr",
     "output_type": "stream",
     "text": [
      "0: 640x480 1 motorcycle, 304.6ms\n",
      "Speed: 5.0ms preprocess, 304.6ms inference, 9.0ms postprocess per image at shape (1, 3, 640, 480)\n",
      "WARNING  'Masks.segments' is deprecated. Use 'Masks.xyn' for segments (normalized) and 'Masks.xy' for segments (pixels) instead.\n"
     ]
    },
    {
     "name": "stdout",
     "output_type": "stream",
     "text": [
      "60.jpg\n"
     ]
    },
    {
     "name": "stderr",
     "output_type": "stream",
     "text": [
      "\n",
      "0: 640x480 1 car, 1 motorcycle, 397.2ms\n",
      "Speed: 4.0ms preprocess, 397.2ms inference, 7.5ms postprocess per image at shape (1, 3, 640, 480)\n",
      "WARNING  'Masks.segments' is deprecated. Use 'Masks.xyn' for segments (normalized) and 'Masks.xy' for segments (pixels) instead.\n"
     ]
    },
    {
     "name": "stdout",
     "output_type": "stream",
     "text": [
      "61.jpg\n"
     ]
    },
    {
     "name": "stderr",
     "output_type": "stream",
     "text": [
      "\n",
      "0: 640x480 1 motorcycle, 463.8ms\n",
      "Speed: 5.0ms preprocess, 463.8ms inference, 16.0ms postprocess per image at shape (1, 3, 640, 480)\n",
      "WARNING  'Masks.segments' is deprecated. Use 'Masks.xyn' for segments (normalized) and 'Masks.xy' for segments (pixels) instead.\n"
     ]
    },
    {
     "name": "stdout",
     "output_type": "stream",
     "text": [
      "62.jpg\n"
     ]
    },
    {
     "name": "stderr",
     "output_type": "stream",
     "text": [
      "\n",
      "0: 640x480 1 motorcycle, 332.6ms\n",
      "Speed: 5.0ms preprocess, 332.6ms inference, 10.0ms postprocess per image at shape (1, 3, 640, 480)\n",
      "WARNING  'Masks.segments' is deprecated. Use 'Masks.xyn' for segments (normalized) and 'Masks.xy' for segments (pixels) instead.\n"
     ]
    },
    {
     "name": "stdout",
     "output_type": "stream",
     "text": [
      "63.jpg\n"
     ]
    },
    {
     "name": "stderr",
     "output_type": "stream",
     "text": [
      "\n",
      "0: 640x480 1 fire hydrant, 360.3ms\n",
      "Speed: 7.0ms preprocess, 360.3ms inference, 8.0ms postprocess per image at shape (1, 3, 640, 480)\n",
      "WARNING  'Masks.segments' is deprecated. Use 'Masks.xyn' for segments (normalized) and 'Masks.xy' for segments (pixels) instead.\n"
     ]
    },
    {
     "name": "stdout",
     "output_type": "stream",
     "text": [
      "64.jpg\n"
     ]
    },
    {
     "name": "stderr",
     "output_type": "stream",
     "text": [
      "\n",
      "0: 640x480 1 motorcycle, 400.8ms\n",
      "Speed: 4.0ms preprocess, 400.8ms inference, 10.0ms postprocess per image at shape (1, 3, 640, 480)\n",
      "WARNING  'Masks.segments' is deprecated. Use 'Masks.xyn' for segments (normalized) and 'Masks.xy' for segments (pixels) instead.\n"
     ]
    },
    {
     "name": "stdout",
     "output_type": "stream",
     "text": [
      "65.jpg\n"
     ]
    },
    {
     "name": "stderr",
     "output_type": "stream",
     "text": [
      "\n",
      "0: 640x480 1 motorcycle, 573.6ms\n",
      "Speed: 6.0ms preprocess, 573.6ms inference, 8.5ms postprocess per image at shape (1, 3, 640, 480)\n",
      "WARNING  'Masks.segments' is deprecated. Use 'Masks.xyn' for segments (normalized) and 'Masks.xy' for segments (pixels) instead.\n"
     ]
    },
    {
     "name": "stdout",
     "output_type": "stream",
     "text": [
      "66.jpg\n"
     ]
    },
    {
     "name": "stderr",
     "output_type": "stream",
     "text": [
      "\n",
      "0: 640x480 1 motorcycle, 842.5ms\n",
      "Speed: 13.6ms preprocess, 842.5ms inference, 9.0ms postprocess per image at shape (1, 3, 640, 480)\n",
      "WARNING  'Masks.segments' is deprecated. Use 'Masks.xyn' for segments (normalized) and 'Masks.xy' for segments (pixels) instead.\n"
     ]
    },
    {
     "name": "stdout",
     "output_type": "stream",
     "text": [
      "67.jpg\n"
     ]
    },
    {
     "name": "stderr",
     "output_type": "stream",
     "text": [
      "\n",
      "0: 640x480 1 motorcycle, 444.8ms\n",
      "Speed: 4.0ms preprocess, 444.8ms inference, 6.0ms postprocess per image at shape (1, 3, 640, 480)\n",
      "WARNING  'Masks.segments' is deprecated. Use 'Masks.xyn' for segments (normalized) and 'Masks.xy' for segments (pixels) instead.\n"
     ]
    },
    {
     "name": "stdout",
     "output_type": "stream",
     "text": [
      "68.jpg\n"
     ]
    },
    {
     "name": "stderr",
     "output_type": "stream",
     "text": [
      "\n",
      "0: 640x480 1 motorcycle, 458.7ms\n",
      "Speed: 5.0ms preprocess, 458.7ms inference, 9.0ms postprocess per image at shape (1, 3, 640, 480)\n",
      "WARNING  'Masks.segments' is deprecated. Use 'Masks.xyn' for segments (normalized) and 'Masks.xy' for segments (pixels) instead.\n"
     ]
    },
    {
     "name": "stdout",
     "output_type": "stream",
     "text": [
      "69.jpg\n"
     ]
    },
    {
     "name": "stderr",
     "output_type": "stream",
     "text": [
      "\n",
      "0: 640x480 1 motorcycle, 442.2ms\n",
      "Speed: 6.0ms preprocess, 442.2ms inference, 9.0ms postprocess per image at shape (1, 3, 640, 480)\n",
      "WARNING  'Masks.segments' is deprecated. Use 'Masks.xyn' for segments (normalized) and 'Masks.xy' for segments (pixels) instead.\n"
     ]
    },
    {
     "name": "stdout",
     "output_type": "stream",
     "text": [
      "7.jpg\n"
     ]
    },
    {
     "name": "stderr",
     "output_type": "stream",
     "text": [
      "\n",
      "0: 640x480 1 motorcycle, 398.2ms\n",
      "Speed: 5.0ms preprocess, 398.2ms inference, 9.0ms postprocess per image at shape (1, 3, 640, 480)\n",
      "WARNING  'Masks.segments' is deprecated. Use 'Masks.xyn' for segments (normalized) and 'Masks.xy' for segments (pixels) instead.\n"
     ]
    },
    {
     "name": "stdout",
     "output_type": "stream",
     "text": [
      "70.jpg\n"
     ]
    },
    {
     "name": "stderr",
     "output_type": "stream",
     "text": [
      "\n",
      "0: 640x480 (no detections), 290.6ms\n",
      "Speed: 4.0ms preprocess, 290.6ms inference, 3.0ms postprocess per image at shape (1, 3, 640, 480)\n"
     ]
    },
    {
     "name": "stdout",
     "output_type": "stream",
     "text": [
      "71.jpg\n"
     ]
    },
    {
     "name": "stderr",
     "output_type": "stream",
     "text": [
      "\n",
      "0: 640x480 1 motorcycle, 304.6ms\n",
      "Speed: 4.0ms preprocess, 304.6ms inference, 8.0ms postprocess per image at shape (1, 3, 640, 480)\n",
      "WARNING  'Masks.segments' is deprecated. Use 'Masks.xyn' for segments (normalized) and 'Masks.xy' for segments (pixels) instead.\n"
     ]
    },
    {
     "name": "stdout",
     "output_type": "stream",
     "text": [
      "72.jpg\n"
     ]
    },
    {
     "name": "stderr",
     "output_type": "stream",
     "text": [
      "\n",
      "0: 640x480 1 motorcycle, 369.5ms\n",
      "Speed: 5.0ms preprocess, 369.5ms inference, 6.0ms postprocess per image at shape (1, 3, 640, 480)\n",
      "WARNING  'Masks.segments' is deprecated. Use 'Masks.xyn' for segments (normalized) and 'Masks.xy' for segments (pixels) instead.\n"
     ]
    },
    {
     "name": "stdout",
     "output_type": "stream",
     "text": [
      "73.jpg\n"
     ]
    },
    {
     "name": "stderr",
     "output_type": "stream",
     "text": [
      "\n",
      "0: 640x480 1 motorcycle, 321.6ms\n",
      "Speed: 4.0ms preprocess, 321.6ms inference, 8.0ms postprocess per image at shape (1, 3, 640, 480)\n",
      "WARNING  'Masks.segments' is deprecated. Use 'Masks.xyn' for segments (normalized) and 'Masks.xy' for segments (pixels) instead.\n"
     ]
    },
    {
     "name": "stdout",
     "output_type": "stream",
     "text": [
      "74.jpg\n"
     ]
    },
    {
     "name": "stderr",
     "output_type": "stream",
     "text": [
      "\n",
      "0: 640x480 1 motorcycle, 336.6ms\n",
      "Speed: 4.0ms preprocess, 336.6ms inference, 6.0ms postprocess per image at shape (1, 3, 640, 480)\n",
      "WARNING  'Masks.segments' is deprecated. Use 'Masks.xyn' for segments (normalized) and 'Masks.xy' for segments (pixels) instead.\n"
     ]
    },
    {
     "name": "stdout",
     "output_type": "stream",
     "text": [
      "75.jpg\n"
     ]
    },
    {
     "name": "stderr",
     "output_type": "stream",
     "text": [
      "\n",
      "0: 640x480 1 motorcycle, 331.6ms\n",
      "Speed: 4.0ms preprocess, 331.6ms inference, 9.0ms postprocess per image at shape (1, 3, 640, 480)\n",
      "WARNING  'Masks.segments' is deprecated. Use 'Masks.xyn' for segments (normalized) and 'Masks.xy' for segments (pixels) instead.\n"
     ]
    },
    {
     "name": "stdout",
     "output_type": "stream",
     "text": [
      "76.jpg\n"
     ]
    },
    {
     "name": "stderr",
     "output_type": "stream",
     "text": [
      "\n",
      "0: 640x480 1 motorcycle, 328.3ms\n",
      "Speed: 4.0ms preprocess, 328.3ms inference, 4.0ms postprocess per image at shape (1, 3, 640, 480)\n",
      "WARNING  'Masks.segments' is deprecated. Use 'Masks.xyn' for segments (normalized) and 'Masks.xy' for segments (pixels) instead.\n"
     ]
    },
    {
     "name": "stdout",
     "output_type": "stream",
     "text": [
      "77.jpg\n"
     ]
    },
    {
     "name": "stderr",
     "output_type": "stream",
     "text": [
      "\n",
      "0: 640x480 1 motorcycle, 338.6ms\n",
      "Speed: 3.0ms preprocess, 338.6ms inference, 9.0ms postprocess per image at shape (1, 3, 640, 480)\n",
      "WARNING  'Masks.segments' is deprecated. Use 'Masks.xyn' for segments (normalized) and 'Masks.xy' for segments (pixels) instead.\n"
     ]
    },
    {
     "name": "stdout",
     "output_type": "stream",
     "text": [
      "78.jpg\n"
     ]
    },
    {
     "name": "stderr",
     "output_type": "stream",
     "text": [
      "\n",
      "0: 640x480 1 motorcycle, 332.6ms\n",
      "Speed: 6.0ms preprocess, 332.6ms inference, 10.0ms postprocess per image at shape (1, 3, 640, 480)\n",
      "WARNING  'Masks.segments' is deprecated. Use 'Masks.xyn' for segments (normalized) and 'Masks.xy' for segments (pixels) instead.\n"
     ]
    },
    {
     "name": "stdout",
     "output_type": "stream",
     "text": [
      "79.jpg\n"
     ]
    },
    {
     "name": "stderr",
     "output_type": "stream",
     "text": [
      "\n",
      "0: 640x480 1 motorcycle, 451.7ms\n",
      "Speed: 7.0ms preprocess, 451.7ms inference, 6.0ms postprocess per image at shape (1, 3, 640, 480)\n",
      "WARNING  'Masks.segments' is deprecated. Use 'Masks.xyn' for segments (normalized) and 'Masks.xy' for segments (pixels) instead.\n"
     ]
    },
    {
     "name": "stdout",
     "output_type": "stream",
     "text": [
      "8.jpg\n"
     ]
    },
    {
     "name": "stderr",
     "output_type": "stream",
     "text": [
      "\n",
      "0: 640x480 1 car, 1 motorcycle, 409.7ms\n",
      "Speed: 4.5ms preprocess, 409.7ms inference, 14.0ms postprocess per image at shape (1, 3, 640, 480)\n",
      "WARNING  'Masks.segments' is deprecated. Use 'Masks.xyn' for segments (normalized) and 'Masks.xy' for segments (pixels) instead.\n"
     ]
    },
    {
     "name": "stdout",
     "output_type": "stream",
     "text": [
      "80.jpg\n"
     ]
    },
    {
     "name": "stderr",
     "output_type": "stream",
     "text": [
      "\n",
      "0: 640x480 1 motorcycle, 362.2ms\n",
      "Speed: 6.0ms preprocess, 362.2ms inference, 7.0ms postprocess per image at shape (1, 3, 640, 480)\n",
      "WARNING  'Masks.segments' is deprecated. Use 'Masks.xyn' for segments (normalized) and 'Masks.xy' for segments (pixels) instead.\n"
     ]
    },
    {
     "name": "stdout",
     "output_type": "stream",
     "text": [
      "81.jpg\n"
     ]
    },
    {
     "name": "stderr",
     "output_type": "stream",
     "text": [
      "\n",
      "0: 640x480 1 person, 1 car, 1 motorcycle, 1 bench, 1 skateboard, 321.7ms\n",
      "Speed: 4.0ms preprocess, 321.7ms inference, 15.0ms postprocess per image at shape (1, 3, 640, 480)\n",
      "WARNING  'Masks.segments' is deprecated. Use 'Masks.xyn' for segments (normalized) and 'Masks.xy' for segments (pixels) instead.\n"
     ]
    },
    {
     "name": "stdout",
     "output_type": "stream",
     "text": [
      "82.jpg\n"
     ]
    },
    {
     "name": "stderr",
     "output_type": "stream",
     "text": [
      "\n",
      "0: 640x480 1 person, 1 car, 1 motorcycle, 1 snowboard, 1 skateboard, 289.0ms\n",
      "Speed: 4.0ms preprocess, 289.0ms inference, 18.5ms postprocess per image at shape (1, 3, 640, 480)\n",
      "WARNING  'Masks.segments' is deprecated. Use 'Masks.xyn' for segments (normalized) and 'Masks.xy' for segments (pixels) instead.\n"
     ]
    },
    {
     "name": "stdout",
     "output_type": "stream",
     "text": [
      "83.jpg\n"
     ]
    },
    {
     "name": "stderr",
     "output_type": "stream",
     "text": [
      "\n",
      "0: 640x480 1 person, 1 car, 2 motorcycles, 1 skateboard, 321.1ms\n",
      "Speed: 4.0ms preprocess, 321.1ms inference, 16.0ms postprocess per image at shape (1, 3, 640, 480)\n",
      "WARNING  'Masks.segments' is deprecated. Use 'Masks.xyn' for segments (normalized) and 'Masks.xy' for segments (pixels) instead.\n"
     ]
    },
    {
     "name": "stdout",
     "output_type": "stream",
     "text": [
      "84.jpg\n"
     ]
    },
    {
     "name": "stderr",
     "output_type": "stream",
     "text": [
      "\n",
      "0: 640x480 1 car, 2 motorcycles, 330.6ms\n",
      "Speed: 3.0ms preprocess, 330.6ms inference, 11.0ms postprocess per image at shape (1, 3, 640, 480)\n",
      "WARNING  'Masks.segments' is deprecated. Use 'Masks.xyn' for segments (normalized) and 'Masks.xy' for segments (pixels) instead.\n"
     ]
    },
    {
     "name": "stdout",
     "output_type": "stream",
     "text": [
      "85.jpg\n"
     ]
    },
    {
     "name": "stderr",
     "output_type": "stream",
     "text": [
      "\n",
      "0: 640x480 1 car, 1 motorcycle, 1 skateboard, 333.3ms\n",
      "Speed: 4.0ms preprocess, 333.3ms inference, 12.0ms postprocess per image at shape (1, 3, 640, 480)\n",
      "WARNING  'Masks.segments' is deprecated. Use 'Masks.xyn' for segments (normalized) and 'Masks.xy' for segments (pixels) instead.\n"
     ]
    },
    {
     "name": "stdout",
     "output_type": "stream",
     "text": [
      "86.jpg\n"
     ]
    },
    {
     "name": "stderr",
     "output_type": "stream",
     "text": [
      "\n",
      "0: 640x480 1 person, 1 car, 1 motorcycle, 334.5ms\n",
      "Speed: 4.0ms preprocess, 334.5ms inference, 14.0ms postprocess per image at shape (1, 3, 640, 480)\n",
      "WARNING  'Masks.segments' is deprecated. Use 'Masks.xyn' for segments (normalized) and 'Masks.xy' for segments (pixels) instead.\n"
     ]
    },
    {
     "name": "stdout",
     "output_type": "stream",
     "text": [
      "87.jpg\n"
     ]
    },
    {
     "name": "stderr",
     "output_type": "stream",
     "text": [
      "\n",
      "0: 640x480 1 person, 1 car, 313.9ms\n",
      "Speed: 4.0ms preprocess, 313.9ms inference, 9.5ms postprocess per image at shape (1, 3, 640, 480)\n",
      "WARNING  'Masks.segments' is deprecated. Use 'Masks.xyn' for segments (normalized) and 'Masks.xy' for segments (pixels) instead.\n"
     ]
    },
    {
     "name": "stdout",
     "output_type": "stream",
     "text": [
      "88.jpg\n"
     ]
    },
    {
     "name": "stderr",
     "output_type": "stream",
     "text": [
      "\n",
      "0: 640x480 1 person, 1 car, 1 motorcycle, 323.3ms\n",
      "Speed: 5.0ms preprocess, 323.3ms inference, 12.0ms postprocess per image at shape (1, 3, 640, 480)\n",
      "WARNING  'Masks.segments' is deprecated. Use 'Masks.xyn' for segments (normalized) and 'Masks.xy' for segments (pixels) instead.\n"
     ]
    },
    {
     "name": "stdout",
     "output_type": "stream",
     "text": [
      "89.jpg\n"
     ]
    },
    {
     "name": "stderr",
     "output_type": "stream",
     "text": [
      "\n",
      "0: 640x480 1 person, 1 car, 1 motorcycle, 318.6ms\n",
      "Speed: 4.0ms preprocess, 318.6ms inference, 14.5ms postprocess per image at shape (1, 3, 640, 480)\n",
      "WARNING  'Masks.segments' is deprecated. Use 'Masks.xyn' for segments (normalized) and 'Masks.xy' for segments (pixels) instead.\n"
     ]
    },
    {
     "name": "stdout",
     "output_type": "stream",
     "text": [
      "9.jpg\n"
     ]
    },
    {
     "name": "stderr",
     "output_type": "stream",
     "text": [
      "\n",
      "0: 640x480 1 car, 1 motorcycle, 303.1ms\n",
      "Speed: 3.0ms preprocess, 303.1ms inference, 8.0ms postprocess per image at shape (1, 3, 640, 480)\n",
      "WARNING  'Masks.segments' is deprecated. Use 'Masks.xyn' for segments (normalized) and 'Masks.xy' for segments (pixels) instead.\n"
     ]
    },
    {
     "name": "stdout",
     "output_type": "stream",
     "text": [
      "90.jpg\n"
     ]
    },
    {
     "name": "stderr",
     "output_type": "stream",
     "text": [
      "\n",
      "0: 640x480 1 car, 1 motorcycle, 324.6ms\n",
      "Speed: 3.0ms preprocess, 324.6ms inference, 11.0ms postprocess per image at shape (1, 3, 640, 480)\n",
      "WARNING  'Masks.segments' is deprecated. Use 'Masks.xyn' for segments (normalized) and 'Masks.xy' for segments (pixels) instead.\n"
     ]
    },
    {
     "name": "stdout",
     "output_type": "stream",
     "text": [
      "91.jpg\n"
     ]
    },
    {
     "name": "stderr",
     "output_type": "stream",
     "text": [
      "\n",
      "0: 640x480 1 car, 1 motorcycle, 1 skateboard, 324.6ms\n",
      "Speed: 4.0ms preprocess, 324.6ms inference, 13.0ms postprocess per image at shape (1, 3, 640, 480)\n",
      "WARNING  'Masks.segments' is deprecated. Use 'Masks.xyn' for segments (normalized) and 'Masks.xy' for segments (pixels) instead.\n"
     ]
    },
    {
     "name": "stdout",
     "output_type": "stream",
     "text": [
      "92.jpg\n"
     ]
    },
    {
     "name": "stderr",
     "output_type": "stream",
     "text": [
      "\n",
      "0: 640x480 1 car, 1 motorcycle, 1 skateboard, 316.8ms\n",
      "Speed: 5.0ms preprocess, 316.8ms inference, 13.0ms postprocess per image at shape (1, 3, 640, 480)\n",
      "WARNING  'Masks.segments' is deprecated. Use 'Masks.xyn' for segments (normalized) and 'Masks.xy' for segments (pixels) instead.\n"
     ]
    },
    {
     "name": "stdout",
     "output_type": "stream",
     "text": [
      "93.jpg\n"
     ]
    },
    {
     "name": "stderr",
     "output_type": "stream",
     "text": [
      "\n",
      "0: 640x480 1 car, 2 motorcycles, 1 bench, 1 skateboard, 364.5ms\n",
      "Speed: 4.0ms preprocess, 364.5ms inference, 15.0ms postprocess per image at shape (1, 3, 640, 480)\n",
      "WARNING  'Masks.segments' is deprecated. Use 'Masks.xyn' for segments (normalized) and 'Masks.xy' for segments (pixels) instead.\n"
     ]
    },
    {
     "name": "stdout",
     "output_type": "stream",
     "text": [
      "94.jpg\n"
     ]
    },
    {
     "name": "stderr",
     "output_type": "stream",
     "text": [
      "\n",
      "0: 640x480 1 motorcycle, 295.6ms\n",
      "Speed: 4.0ms preprocess, 295.6ms inference, 8.0ms postprocess per image at shape (1, 3, 640, 480)\n",
      "WARNING  'Masks.segments' is deprecated. Use 'Masks.xyn' for segments (normalized) and 'Masks.xy' for segments (pixels) instead.\n"
     ]
    },
    {
     "name": "stdout",
     "output_type": "stream",
     "text": [
      "95.jpg\n"
     ]
    },
    {
     "name": "stderr",
     "output_type": "stream",
     "text": [
      "\n",
      "0: 640x480 1 person, 1 motorcycle, 312.6ms\n",
      "Speed: 4.0ms preprocess, 312.6ms inference, 16.0ms postprocess per image at shape (1, 3, 640, 480)\n",
      "WARNING  'Masks.segments' is deprecated. Use 'Masks.xyn' for segments (normalized) and 'Masks.xy' for segments (pixels) instead.\n"
     ]
    },
    {
     "name": "stdout",
     "output_type": "stream",
     "text": [
      "96.jpg\n"
     ]
    },
    {
     "name": "stderr",
     "output_type": "stream",
     "text": [
      "\n",
      "0: 640x480 1 person, 1 motorcycle, 356.2ms\n",
      "Speed: 8.0ms preprocess, 356.2ms inference, 6.0ms postprocess per image at shape (1, 3, 640, 480)\n",
      "WARNING  'Masks.segments' is deprecated. Use 'Masks.xyn' for segments (normalized) and 'Masks.xy' for segments (pixels) instead.\n"
     ]
    },
    {
     "name": "stdout",
     "output_type": "stream",
     "text": [
      "97.jpg\n"
     ]
    },
    {
     "name": "stderr",
     "output_type": "stream",
     "text": [
      "\n",
      "0: 640x480 1 car, 1 motorcycle, 367.1ms\n",
      "Speed: 4.0ms preprocess, 367.1ms inference, 10.0ms postprocess per image at shape (1, 3, 640, 480)\n",
      "WARNING  'Masks.segments' is deprecated. Use 'Masks.xyn' for segments (normalized) and 'Masks.xy' for segments (pixels) instead.\n"
     ]
    },
    {
     "name": "stdout",
     "output_type": "stream",
     "text": [
      "98.jpg\n"
     ]
    },
    {
     "name": "stderr",
     "output_type": "stream",
     "text": [
      "\n",
      "0: 640x480 2 motorcycles, 300.6ms\n",
      "Speed: 4.0ms preprocess, 300.6ms inference, 7.5ms postprocess per image at shape (1, 3, 640, 480)\n",
      "WARNING  'Masks.segments' is deprecated. Use 'Masks.xyn' for segments (normalized) and 'Masks.xy' for segments (pixels) instead.\n"
     ]
    },
    {
     "name": "stdout",
     "output_type": "stream",
     "text": [
      "99.jpg\n"
     ]
    },
    {
     "name": "stderr",
     "output_type": "stream",
     "text": [
      "\n",
      "0: 640x480 (no detections), 313.6ms\n",
      "Speed: 3.0ms preprocess, 313.6ms inference, 2.0ms postprocess per image at shape (1, 3, 640, 480)\n"
     ]
    },
    {
     "name": "stdout",
     "output_type": "stream",
     "text": [
      "super-2.jpg\n"
     ]
    },
    {
     "name": "stderr",
     "output_type": "stream",
     "text": [
      "\n",
      "0: 640x480 1 car, 332.5ms\n",
      "Speed: 3.0ms preprocess, 332.5ms inference, 8.0ms postprocess per image at shape (1, 3, 640, 480)\n",
      "WARNING  'Masks.segments' is deprecated. Use 'Masks.xyn' for segments (normalized) and 'Masks.xy' for segments (pixels) instead.\n"
     ]
    },
    {
     "name": "stdout",
     "output_type": "stream",
     "text": [
      "super.jpg\n"
     ]
    },
    {
     "name": "stderr",
     "output_type": "stream",
     "text": [
      "\n",
      "0: 640x480 (no detections), 363.6ms\n",
      "Speed: 5.0ms preprocess, 363.6ms inference, 2.0ms postprocess per image at shape (1, 3, 640, 480)\n"
     ]
    },
    {
     "name": "stdout",
     "output_type": "stream",
     "text": [
      "0.jpg\n"
     ]
    },
    {
     "name": "stderr",
     "output_type": "stream",
     "text": [
      "\n",
      "0: 640x480 1 person, 2 motorcycles, 310.3ms\n",
      "Speed: 4.0ms preprocess, 310.3ms inference, 10.0ms postprocess per image at shape (1, 3, 640, 480)\n",
      "WARNING  'Masks.segments' is deprecated. Use 'Masks.xyn' for segments (normalized) and 'Masks.xy' for segments (pixels) instead.\n"
     ]
    },
    {
     "name": "stdout",
     "output_type": "stream",
     "text": [
      "1.jpg\n"
     ]
    },
    {
     "name": "stderr",
     "output_type": "stream",
     "text": [
      "\n",
      "0: 640x480 1 person, 1 motorcycle, 303.6ms\n",
      "Speed: 4.0ms preprocess, 303.6ms inference, 10.0ms postprocess per image at shape (1, 3, 640, 480)\n",
      "WARNING  'Masks.segments' is deprecated. Use 'Masks.xyn' for segments (normalized) and 'Masks.xy' for segments (pixels) instead.\n"
     ]
    },
    {
     "name": "stdout",
     "output_type": "stream",
     "text": [
      "10.jpg\n"
     ]
    },
    {
     "name": "stderr",
     "output_type": "stream",
     "text": [
      "\n",
      "0: 640x480 1 person, 1 motorcycle, 355.6ms\n",
      "Speed: 3.5ms preprocess, 355.6ms inference, 14.0ms postprocess per image at shape (1, 3, 640, 480)\n",
      "WARNING  'Masks.segments' is deprecated. Use 'Masks.xyn' for segments (normalized) and 'Masks.xy' for segments (pixels) instead.\n"
     ]
    },
    {
     "name": "stdout",
     "output_type": "stream",
     "text": [
      "11.jpg\n"
     ]
    },
    {
     "name": "stderr",
     "output_type": "stream",
     "text": [
      "\n",
      "0: 640x480 1 person, 1 motorcycle, 247.6ms\n",
      "Speed: 3.0ms preprocess, 247.6ms inference, 8.0ms postprocess per image at shape (1, 3, 640, 480)\n",
      "WARNING  'Masks.segments' is deprecated. Use 'Masks.xyn' for segments (normalized) and 'Masks.xy' for segments (pixels) instead.\n"
     ]
    },
    {
     "name": "stdout",
     "output_type": "stream",
     "text": [
      "12.jpg\n"
     ]
    },
    {
     "name": "stderr",
     "output_type": "stream",
     "text": [
      "\n",
      "0: 640x480 1 person, 1 motorcycle, 335.1ms\n",
      "Speed: 4.0ms preprocess, 335.1ms inference, 10.0ms postprocess per image at shape (1, 3, 640, 480)\n",
      "WARNING  'Masks.segments' is deprecated. Use 'Masks.xyn' for segments (normalized) and 'Masks.xy' for segments (pixels) instead.\n"
     ]
    },
    {
     "name": "stdout",
     "output_type": "stream",
     "text": [
      "13.jpg\n"
     ]
    },
    {
     "name": "stderr",
     "output_type": "stream",
     "text": [
      "\n",
      "0: 640x480 1 person, 1 motorcycle, 1 stop sign, 313.2ms\n",
      "Speed: 4.0ms preprocess, 313.2ms inference, 11.0ms postprocess per image at shape (1, 3, 640, 480)\n",
      "WARNING  'Masks.segments' is deprecated. Use 'Masks.xyn' for segments (normalized) and 'Masks.xy' for segments (pixels) instead.\n"
     ]
    },
    {
     "name": "stdout",
     "output_type": "stream",
     "text": [
      "14.jpg\n"
     ]
    },
    {
     "name": "stderr",
     "output_type": "stream",
     "text": [
      "\n",
      "0: 640x480 1 person, 1 motorcycle, 1 stop sign, 384.2ms\n",
      "Speed: 4.0ms preprocess, 384.2ms inference, 15.0ms postprocess per image at shape (1, 3, 640, 480)\n",
      "WARNING  'Masks.segments' is deprecated. Use 'Masks.xyn' for segments (normalized) and 'Masks.xy' for segments (pixels) instead.\n"
     ]
    },
    {
     "name": "stdout",
     "output_type": "stream",
     "text": [
      "15.jpg\n"
     ]
    },
    {
     "name": "stderr",
     "output_type": "stream",
     "text": [
      "\n",
      "0: 640x480 2 persons, 1 motorcycle, 383.2ms\n",
      "Speed: 7.0ms preprocess, 383.2ms inference, 15.0ms postprocess per image at shape (1, 3, 640, 480)\n",
      "WARNING  'Masks.segments' is deprecated. Use 'Masks.xyn' for segments (normalized) and 'Masks.xy' for segments (pixels) instead.\n"
     ]
    },
    {
     "name": "stdout",
     "output_type": "stream",
     "text": [
      "16.jpg\n"
     ]
    },
    {
     "name": "stderr",
     "output_type": "stream",
     "text": [
      "\n",
      "0: 640x480 1 person, 1 motorcycle, 361.6ms\n",
      "Speed: 5.0ms preprocess, 361.6ms inference, 13.0ms postprocess per image at shape (1, 3, 640, 480)\n",
      "WARNING  'Masks.segments' is deprecated. Use 'Masks.xyn' for segments (normalized) and 'Masks.xy' for segments (pixels) instead.\n"
     ]
    },
    {
     "name": "stdout",
     "output_type": "stream",
     "text": [
      "2.jpg\n"
     ]
    },
    {
     "name": "stderr",
     "output_type": "stream",
     "text": [
      "\n",
      "0: 640x480 1 person, 2 motorcycles, 343.3ms\n",
      "Speed: 4.0ms preprocess, 343.3ms inference, 15.0ms postprocess per image at shape (1, 3, 640, 480)\n",
      "WARNING  'Masks.segments' is deprecated. Use 'Masks.xyn' for segments (normalized) and 'Masks.xy' for segments (pixels) instead.\n"
     ]
    },
    {
     "name": "stdout",
     "output_type": "stream",
     "text": [
      "3.jpg\n"
     ]
    },
    {
     "name": "stderr",
     "output_type": "stream",
     "text": [
      "\n",
      "0: 640x480 1 person, 2 motorcycles, 339.3ms\n",
      "Speed: 4.0ms preprocess, 339.3ms inference, 15.0ms postprocess per image at shape (1, 3, 640, 480)\n",
      "WARNING  'Masks.segments' is deprecated. Use 'Masks.xyn' for segments (normalized) and 'Masks.xy' for segments (pixels) instead.\n"
     ]
    },
    {
     "name": "stdout",
     "output_type": "stream",
     "text": [
      "4.jpg\n"
     ]
    },
    {
     "name": "stderr",
     "output_type": "stream",
     "text": [
      "\n",
      "0: 640x480 1 person, 1 motorcycle, 327.6ms\n",
      "Speed: 4.0ms preprocess, 327.6ms inference, 14.0ms postprocess per image at shape (1, 3, 640, 480)\n",
      "WARNING  'Masks.segments' is deprecated. Use 'Masks.xyn' for segments (normalized) and 'Masks.xy' for segments (pixels) instead.\n"
     ]
    },
    {
     "name": "stdout",
     "output_type": "stream",
     "text": [
      "5.jpg\n"
     ]
    },
    {
     "name": "stderr",
     "output_type": "stream",
     "text": [
      "\n",
      "0: 640x480 1 person, 1 car, 1 motorcycle, 319.7ms\n",
      "Speed: 4.0ms preprocess, 319.7ms inference, 13.0ms postprocess per image at shape (1, 3, 640, 480)\n",
      "WARNING  'Masks.segments' is deprecated. Use 'Masks.xyn' for segments (normalized) and 'Masks.xy' for segments (pixels) instead.\n"
     ]
    },
    {
     "name": "stdout",
     "output_type": "stream",
     "text": [
      "6.jpg\n"
     ]
    },
    {
     "name": "stderr",
     "output_type": "stream",
     "text": [
      "\n",
      "0: 640x480 1 person, 1 motorcycle, 377.9ms\n",
      "Speed: 4.0ms preprocess, 377.9ms inference, 11.0ms postprocess per image at shape (1, 3, 640, 480)\n",
      "WARNING  'Masks.segments' is deprecated. Use 'Masks.xyn' for segments (normalized) and 'Masks.xy' for segments (pixels) instead.\n"
     ]
    },
    {
     "name": "stdout",
     "output_type": "stream",
     "text": [
      "7.jpg\n"
     ]
    },
    {
     "name": "stderr",
     "output_type": "stream",
     "text": [
      "\n",
      "0: 640x480 1 person, 1 motorcycle, 291.8ms\n",
      "Speed: 4.0ms preprocess, 291.8ms inference, 7.0ms postprocess per image at shape (1, 3, 640, 480)\n",
      "WARNING  'Masks.segments' is deprecated. Use 'Masks.xyn' for segments (normalized) and 'Masks.xy' for segments (pixels) instead.\n"
     ]
    },
    {
     "name": "stdout",
     "output_type": "stream",
     "text": [
      "8.jpg\n"
     ]
    },
    {
     "name": "stderr",
     "output_type": "stream",
     "text": [
      "\n",
      "0: 640x480 1 person, 1 motorcycle, 323.6ms\n",
      "Speed: 4.0ms preprocess, 323.6ms inference, 9.0ms postprocess per image at shape (1, 3, 640, 480)\n",
      "WARNING  'Masks.segments' is deprecated. Use 'Masks.xyn' for segments (normalized) and 'Masks.xy' for segments (pixels) instead.\n"
     ]
    },
    {
     "name": "stdout",
     "output_type": "stream",
     "text": [
      "9.jpg\n"
     ]
    },
    {
     "name": "stderr",
     "output_type": "stream",
     "text": [
      "\n",
      "0: 640x480 1 person, 1 motorcycle, 311.6ms\n",
      "Speed: 4.0ms preprocess, 311.6ms inference, 10.0ms postprocess per image at shape (1, 3, 640, 480)\n",
      "WARNING  'Masks.segments' is deprecated. Use 'Masks.xyn' for segments (normalized) and 'Masks.xy' for segments (pixels) instead.\n"
     ]
    },
    {
     "name": "stdout",
     "output_type": "stream",
     "text": [
      "super.jpg\n"
     ]
    },
    {
     "name": "stderr",
     "output_type": "stream",
     "text": [
      "\n",
      "0: 640x480 (no detections), 332.6ms\n",
      "Speed: 5.0ms preprocess, 332.6ms inference, 2.0ms postprocess per image at shape (1, 3, 640, 480)\n"
     ]
    },
    {
     "name": "stdout",
     "output_type": "stream",
     "text": [
      "0.jpg\n"
     ]
    },
    {
     "name": "stderr",
     "output_type": "stream",
     "text": [
      "\n",
      "0: 640x480 1 person, 2 cars, 2 motorcycles, 313.6ms\n",
      "Speed: 3.0ms preprocess, 313.6ms inference, 15.5ms postprocess per image at shape (1, 3, 640, 480)\n",
      "WARNING  'Masks.segments' is deprecated. Use 'Masks.xyn' for segments (normalized) and 'Masks.xy' for segments (pixels) instead.\n"
     ]
    },
    {
     "name": "stdout",
     "output_type": "stream",
     "text": [
      "1.jpg\n"
     ]
    },
    {
     "name": "stderr",
     "output_type": "stream",
     "text": [
      "\n",
      "0: 640x480 2 persons, 1 motorcycle, 334.6ms\n",
      "Speed: 4.0ms preprocess, 334.6ms inference, 14.2ms postprocess per image at shape (1, 3, 640, 480)\n",
      "WARNING  'Masks.segments' is deprecated. Use 'Masks.xyn' for segments (normalized) and 'Masks.xy' for segments (pixels) instead.\n"
     ]
    },
    {
     "name": "stdout",
     "output_type": "stream",
     "text": [
      "10.jpg\n"
     ]
    },
    {
     "name": "stderr",
     "output_type": "stream",
     "text": [
      "\n",
      "0: 640x480 1 car, 1 motorcycle, 315.6ms\n",
      "Speed: 4.0ms preprocess, 315.6ms inference, 8.0ms postprocess per image at shape (1, 3, 640, 480)\n",
      "WARNING  'Masks.segments' is deprecated. Use 'Masks.xyn' for segments (normalized) and 'Masks.xy' for segments (pixels) instead.\n"
     ]
    },
    {
     "name": "stdout",
     "output_type": "stream",
     "text": [
      "11.jpg\n"
     ]
    },
    {
     "name": "stderr",
     "output_type": "stream",
     "text": [
      "\n",
      "0: 640x480 3 motorcycles, 381.0ms\n",
      "Speed: 8.0ms preprocess, 381.0ms inference, 15.5ms postprocess per image at shape (1, 3, 640, 480)\n",
      "WARNING  'Masks.segments' is deprecated. Use 'Masks.xyn' for segments (normalized) and 'Masks.xy' for segments (pixels) instead.\n"
     ]
    },
    {
     "name": "stdout",
     "output_type": "stream",
     "text": [
      "12.jpg\n"
     ]
    },
    {
     "name": "stderr",
     "output_type": "stream",
     "text": [
      "\n",
      "0: 640x480 2 persons, 1 motorcycle, 1 skateboard, 358.2ms\n",
      "Speed: 4.0ms preprocess, 358.2ms inference, 17.0ms postprocess per image at shape (1, 3, 640, 480)\n",
      "WARNING  'Masks.segments' is deprecated. Use 'Masks.xyn' for segments (normalized) and 'Masks.xy' for segments (pixels) instead.\n"
     ]
    },
    {
     "name": "stdout",
     "output_type": "stream",
     "text": [
      "13.jpg\n"
     ]
    },
    {
     "name": "stderr",
     "output_type": "stream",
     "text": [
      "\n",
      "0: 640x480 2 persons, 1 motorcycle, 436.2ms\n",
      "Speed: 5.0ms preprocess, 436.2ms inference, 20.0ms postprocess per image at shape (1, 3, 640, 480)\n",
      "WARNING  'Masks.segments' is deprecated. Use 'Masks.xyn' for segments (normalized) and 'Masks.xy' for segments (pixels) instead.\n"
     ]
    },
    {
     "name": "stdout",
     "output_type": "stream",
     "text": [
      "14.jpg\n"
     ]
    },
    {
     "name": "stderr",
     "output_type": "stream",
     "text": [
      "\n",
      "0: 640x480 3 persons, 1 motorcycle, 517.7ms\n",
      "Speed: 5.0ms preprocess, 517.7ms inference, 17.0ms postprocess per image at shape (1, 3, 640, 480)\n",
      "WARNING  'Masks.segments' is deprecated. Use 'Masks.xyn' for segments (normalized) and 'Masks.xy' for segments (pixels) instead.\n"
     ]
    },
    {
     "name": "stdout",
     "output_type": "stream",
     "text": [
      "2.jpg\n"
     ]
    },
    {
     "name": "stderr",
     "output_type": "stream",
     "text": [
      "\n",
      "0: 640x480 1 person, 3 motorcycles, 388.1ms\n",
      "Speed: 5.0ms preprocess, 388.1ms inference, 15.0ms postprocess per image at shape (1, 3, 640, 480)\n",
      "WARNING  'Masks.segments' is deprecated. Use 'Masks.xyn' for segments (normalized) and 'Masks.xy' for segments (pixels) instead.\n"
     ]
    },
    {
     "name": "stdout",
     "output_type": "stream",
     "text": [
      "3.jpg\n"
     ]
    },
    {
     "name": "stderr",
     "output_type": "stream",
     "text": [
      "\n",
      "0: 640x480 1 car, 2 motorcycles, 365.8ms\n",
      "Speed: 4.0ms preprocess, 365.8ms inference, 16.0ms postprocess per image at shape (1, 3, 640, 480)\n",
      "WARNING  'Masks.segments' is deprecated. Use 'Masks.xyn' for segments (normalized) and 'Masks.xy' for segments (pixels) instead.\n"
     ]
    },
    {
     "name": "stdout",
     "output_type": "stream",
     "text": [
      "4.jpg\n"
     ]
    },
    {
     "name": "stderr",
     "output_type": "stream",
     "text": [
      "\n",
      "0: 640x480 1 car, 2 motorcycles, 325.6ms\n",
      "Speed: 4.0ms preprocess, 325.6ms inference, 12.0ms postprocess per image at shape (1, 3, 640, 480)\n",
      "WARNING  'Masks.segments' is deprecated. Use 'Masks.xyn' for segments (normalized) and 'Masks.xy' for segments (pixels) instead.\n",
      "\n"
     ]
    },
    {
     "name": "stdout",
     "output_type": "stream",
     "text": [
      "5.jpg\n"
     ]
    },
    {
     "name": "stderr",
     "output_type": "stream",
     "text": [
      "0: 640x480 2 motorcycles, 363.6ms\n",
      "Speed: 4.0ms preprocess, 363.6ms inference, 8.5ms postprocess per image at shape (1, 3, 640, 480)\n",
      "WARNING  'Masks.segments' is deprecated. Use 'Masks.xyn' for segments (normalized) and 'Masks.xy' for segments (pixels) instead.\n"
     ]
    },
    {
     "name": "stdout",
     "output_type": "stream",
     "text": [
      "6.jpg\n"
     ]
    },
    {
     "name": "stderr",
     "output_type": "stream",
     "text": [
      "\n",
      "0: 640x480 2 cars, 2 motorcycles, 360.8ms\n",
      "Speed: 4.0ms preprocess, 360.8ms inference, 17.0ms postprocess per image at shape (1, 3, 640, 480)\n",
      "WARNING  'Masks.segments' is deprecated. Use 'Masks.xyn' for segments (normalized) and 'Masks.xy' for segments (pixels) instead.\n"
     ]
    },
    {
     "name": "stdout",
     "output_type": "stream",
     "text": [
      "7.jpg\n"
     ]
    },
    {
     "name": "stderr",
     "output_type": "stream",
     "text": [
      "\n",
      "0: 640x480 1 person, 1 car, 1 motorcycle, 330.6ms\n",
      "Speed: 3.0ms preprocess, 330.6ms inference, 15.0ms postprocess per image at shape (1, 3, 640, 480)\n",
      "WARNING  'Masks.segments' is deprecated. Use 'Masks.xyn' for segments (normalized) and 'Masks.xy' for segments (pixels) instead.\n"
     ]
    },
    {
     "name": "stdout",
     "output_type": "stream",
     "text": [
      "8.jpg\n"
     ]
    },
    {
     "name": "stderr",
     "output_type": "stream",
     "text": [
      "\n",
      "0: 640x480 1 car, 1 motorcycle, 317.6ms\n",
      "Speed: 4.0ms preprocess, 317.6ms inference, 10.0ms postprocess per image at shape (1, 3, 640, 480)\n",
      "WARNING  'Masks.segments' is deprecated. Use 'Masks.xyn' for segments (normalized) and 'Masks.xy' for segments (pixels) instead.\n"
     ]
    },
    {
     "name": "stdout",
     "output_type": "stream",
     "text": [
      "9.jpg\n"
     ]
    },
    {
     "name": "stderr",
     "output_type": "stream",
     "text": [
      "\n",
      "0: 640x480 1 car, 1 motorcycle, 334.1ms\n",
      "Speed: 3.0ms preprocess, 334.1ms inference, 10.0ms postprocess per image at shape (1, 3, 640, 480)\n",
      "WARNING  'Masks.segments' is deprecated. Use 'Masks.xyn' for segments (normalized) and 'Masks.xy' for segments (pixels) instead.\n",
      "\n"
     ]
    },
    {
     "name": "stdout",
     "output_type": "stream",
     "text": [
      "super.jpg\n"
     ]
    },
    {
     "name": "stderr",
     "output_type": "stream",
     "text": [
      "0: 576x640 1 keyboard, 462.6ms\n",
      "Speed: 5.0ms preprocess, 462.6ms inference, 6.0ms postprocess per image at shape (1, 3, 576, 640)\n",
      "WARNING  'Masks.segments' is deprecated. Use 'Masks.xyn' for segments (normalized) and 'Masks.xy' for segments (pixels) instead.\n"
     ]
    },
    {
     "name": "stdout",
     "output_type": "stream",
     "text": [
      "0.jpg\n"
     ]
    },
    {
     "name": "stderr",
     "output_type": "stream",
     "text": [
      "\n",
      "0: 640x480 1 person, 2 motorcycles, 321.4ms\n",
      "Speed: 5.0ms preprocess, 321.4ms inference, 10.5ms postprocess per image at shape (1, 3, 640, 480)\n",
      "WARNING  'Masks.segments' is deprecated. Use 'Masks.xyn' for segments (normalized) and 'Masks.xy' for segments (pixels) instead.\n"
     ]
    },
    {
     "name": "stdout",
     "output_type": "stream",
     "text": [
      "1.jpg\n"
     ]
    },
    {
     "name": "stderr",
     "output_type": "stream",
     "text": [
      "\n",
      "0: 640x480 1 person, 2 motorcycles, 330.6ms\n",
      "Speed: 4.0ms preprocess, 330.6ms inference, 11.5ms postprocess per image at shape (1, 3, 640, 480)\n",
      "WARNING  'Masks.segments' is deprecated. Use 'Masks.xyn' for segments (normalized) and 'Masks.xy' for segments (pixels) instead.\n"
     ]
    },
    {
     "name": "stdout",
     "output_type": "stream",
     "text": [
      "2.jpg\n"
     ]
    },
    {
     "name": "stderr",
     "output_type": "stream",
     "text": [
      "\n",
      "0: 640x480 2 persons, 1 motorcycle, 324.6ms\n",
      "Speed: 4.5ms preprocess, 324.6ms inference, 13.0ms postprocess per image at shape (1, 3, 640, 480)\n",
      "WARNING  'Masks.segments' is deprecated. Use 'Masks.xyn' for segments (normalized) and 'Masks.xy' for segments (pixels) instead.\n"
     ]
    },
    {
     "name": "stdout",
     "output_type": "stream",
     "text": [
      "3.jpg\n"
     ]
    },
    {
     "name": "stderr",
     "output_type": "stream",
     "text": [
      "\n",
      "0: 640x480 1 person, 1 motorcycle, 341.3ms\n",
      "Speed: 3.5ms preprocess, 341.3ms inference, 11.0ms postprocess per image at shape (1, 3, 640, 480)\n",
      "WARNING  'Masks.segments' is deprecated. Use 'Masks.xyn' for segments (normalized) and 'Masks.xy' for segments (pixels) instead.\n"
     ]
    },
    {
     "name": "stdout",
     "output_type": "stream",
     "text": [
      "4.jpg\n"
     ]
    },
    {
     "name": "stderr",
     "output_type": "stream",
     "text": [
      "\n",
      "0: 640x480 2 persons, 2 motorcycles, 373.7ms\n",
      "Speed: 5.0ms preprocess, 373.7ms inference, 14.0ms postprocess per image at shape (1, 3, 640, 480)\n",
      "WARNING  'Masks.segments' is deprecated. Use 'Masks.xyn' for segments (normalized) and 'Masks.xy' for segments (pixels) instead.\n",
      "\n"
     ]
    },
    {
     "name": "stdout",
     "output_type": "stream",
     "text": [
      "super.jpg\n"
     ]
    },
    {
     "name": "stderr",
     "output_type": "stream",
     "text": [
      "0: 640x544 (no detections), 410.1ms\n",
      "Speed: 5.0ms preprocess, 410.1ms inference, 3.0ms postprocess per image at shape (1, 3, 640, 544)\n"
     ]
    }
   ],
   "source": [
    "for i in off_keys:\n",
    "    generateDatasetsPoly(dir_off[i])\n"
   ]
  }
 ],
 "metadata": {
  "kernelspec": {
   "display_name": "base",
   "language": "python",
   "name": "python3"
  },
  "language_info": {
   "codemirror_mode": {
    "name": "ipython",
    "version": 3
   },
   "file_extension": ".py",
   "mimetype": "text/x-python",
   "name": "python",
   "nbconvert_exporter": "python",
   "pygments_lexer": "ipython3",
   "version": "3.9.16"
  },
  "orig_nbformat": 4
 },
 "nbformat": 4,
 "nbformat_minor": 2
}
