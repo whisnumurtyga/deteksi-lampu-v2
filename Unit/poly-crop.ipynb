{
 "cells": [
  {
   "cell_type": "code",
   "execution_count": 10,
   "metadata": {},
   "outputs": [],
   "source": [
    "import cv2\n",
    "from yolo_segmentation import YOLOSegmentation\n",
    "import numpy as np"
   ]
  },
  {
   "cell_type": "code",
   "execution_count": 11,
   "metadata": {},
   "outputs": [],
   "source": [
    "def rszImg(image, rate):\n",
    "    h, w, _ = image.shape\n",
    "    new_h, new_w = (int(h*rate), int(w*rate))\n",
    "    image = cv2.resize(image, (new_w, new_h))\n",
    "    return image\n",
    "\n",
    "def cropPoly(img, bbox, seg):\n",
    "    (x, y, x2, y2) = bbox\n",
    "    # Create a mask of the same size as the image\n",
    "    mask = np.zeros_like(img)\n",
    "\n",
    "    # Convert the seg (polygon) into a NumPy array of type int32\n",
    "    points = np.array(seg, dtype=np.int32)\n",
    "\n",
    "    # Fill the mask with a white polygon based on the points\n",
    "    cv2.fillPoly(mask, [points], (255, 255, 255))\n",
    "\n",
    "    # Bitwise AND the mask with the original image to get the cropped region\n",
    "    cropped_motorcycle = cv2.bitwise_and(img, mask)\n",
    "\n",
    "    # Crop the region inside the bounding box\n",
    "    cropped_motorcycle = cropped_motorcycle[y:y2, x:x2]\n",
    "    \n",
    "    return cropped_motorcycle"
   ]
  },
  {
   "cell_type": "code",
   "execution_count": 12,
   "metadata": {},
   "outputs": [],
   "source": [
    "\n",
    "path_nyala = '../dataset-baru/beat-nyala/1.jpg'\n",
    "# path_nyala = 'awikwok.jpg'\n",
    "path_mati = '../dataset-baru/beat-mati/0.jpg'\n",
    "\n",
    "\n",
    "# flag = 'nyala'\n",
    "# img = cv2.imread(path_nyala)\n",
    "flag = 'mati'\n",
    "img = cv2.imread(path_mati)\n",
    "\n",
    "# img = cv2.resize(img, None, fx=0.2, fy=0.2)\n",
    "img = rszImg(img, 0.25)"
   ]
  },
  {
   "cell_type": "code",
   "execution_count": 13,
   "metadata": {},
   "outputs": [
    {
     "name": "stderr",
     "output_type": "stream",
     "text": [
      "\n",
      "0: 640x480 1 motorcycle, 1 skateboard, 473.3ms\n",
      "Speed: 13.6ms preprocess, 473.3ms inference, 38.7ms postprocess per image at shape (1, 3, 640, 480)\n",
      "WARNING  'Masks.segments' is deprecated. Use 'Masks.xyn' for segments (normalized) and 'Masks.xy' for segments (pixels) instead.\n"
     ]
    },
    {
     "name": "stdout",
     "output_type": "stream",
     "text": [
      "{0: 'person', 1: 'bicycle', 2: 'car', 3: 'motorcycle', 4: 'airplane', 5: 'bus', 6: 'train', 7: 'truck', 8: 'boat', 9: 'traffic light', 10: 'fire hydrant', 11: 'stop sign', 12: 'parking meter', 13: 'bench', 14: 'bird', 15: 'cat', 16: 'dog', 17: 'horse', 18: 'sheep', 19: 'cow', 20: 'elephant', 21: 'bear', 22: 'zebra', 23: 'giraffe', 24: 'backpack', 25: 'umbrella', 26: 'handbag', 27: 'tie', 28: 'suitcase', 29: 'frisbee', 30: 'skis', 31: 'snowboard', 32: 'sports ball', 33: 'kite', 34: 'baseball bat', 35: 'baseball glove', 36: 'skateboard', 37: 'surfboard', 38: 'tennis racket', 39: 'bottle', 40: 'wine glass', 41: 'cup', 42: 'fork', 43: 'knife', 44: 'spoon', 45: 'bowl', 46: 'banana', 47: 'apple', 48: 'sandwich', 49: 'orange', 50: 'broccoli', 51: 'carrot', 52: 'hot dog', 53: 'pizza', 54: 'donut', 55: 'cake', 56: 'chair', 57: 'couch', 58: 'potted plant', 59: 'bed', 60: 'dining table', 61: 'toilet', 62: 'tv', 63: 'laptop', 64: 'mouse', 65: 'remote', 66: 'keyboard', 67: 'cell phone', 68: 'microwave', 69: 'oven', 70: 'toaster', 71: 'sink', 72: 'refrigerator', 73: 'book', 74: 'clock', 75: 'vase', 76: 'scissors', 77: 'teddy bear', 78: 'hair drier', 79: 'toothbrush'}\n"
     ]
    }
   ],
   "source": [
    "# Segmentation\n",
    "# ys = YOLOSegmentation('../../yolov8n-seg.pt')\n",
    "ys = YOLOSegmentation('../learn/yolov8-polylines/yolov8n-seg.pt') \n",
    "bboxes, classes, class_names, segmentation, scores = ys.detect(img)\n",
    "\n",
    "print(class_names)"
   ]
  },
  {
   "cell_type": "code",
   "execution_count": 14,
   "metadata": {},
   "outputs": [],
   "source": [
    "cropped_motorcycle_regions = []\n",
    "n = 0\n",
    "\n",
    "for bbox, class_id, seg, score in zip(bboxes, classes, segmentation, scores):\n",
    "    # print(\"bbox:\", bbox, \" class_id:\", class_id, \" seg:\", seg, \" score:\", score)\n",
    "    if class_names[class_id] == 'motorcycle':\n",
    "        (x, y, x2, y2) = bbox\n",
    "\n",
    "        cropped_motorcycle = cropPoly(img, bbox, seg)\n",
    "        cropped_motorcycle_regions.append(cropped_motorcycle)\n",
    "\n",
    "        # Draw the bounding box, polyline, and class name on the original image\n",
    "        cv2.rectangle(img, (x, y), (x2, y2), (0, 0, 255), 2)\n",
    "        cv2.polylines(img, [seg], True, (255, 0, 0), 2)\n",
    "        cv2.putText(img, str(class_names[class_id]), (x, y - 10), cv2.FONT_HERSHEY_PLAIN, 2, (0, 0, 255), 2)"
   ]
  },
  {
   "cell_type": "code",
   "execution_count": 15,
   "metadata": {},
   "outputs": [],
   "source": [
    "# Save the cropped motorcycle regions or do further processing\n",
    "for i, cropped_motorcycle in enumerate(cropped_motorcycle_regions):\n",
    "    if flag == 'nyala':\n",
    "        cv2.imwrite(f'result/nyala/{i}.jpg', cropped_motorcycle)\n",
    "    else :\n",
    "        cv2.imwrite(f'result/mati/{i}.jpg', cropped_motorcycle)\n",
    "        "
   ]
  },
  {
   "cell_type": "code",
   "execution_count": 16,
   "metadata": {},
   "outputs": [],
   "source": [
    "cv2.imshow('image', img)\n",
    "cv2.waitKey(0)\n",
    "cv2.destroyAllWindows()"
   ]
  }
 ],
 "metadata": {
  "kernelspec": {
   "display_name": "base",
   "language": "python",
   "name": "python3"
  },
  "language_info": {
   "codemirror_mode": {
    "name": "ipython",
    "version": 3
   },
   "file_extension": ".py",
   "mimetype": "text/x-python",
   "name": "python",
   "nbconvert_exporter": "python",
   "pygments_lexer": "ipython3",
   "version": "3.9.16"
  },
  "orig_nbformat": 4
 },
 "nbformat": 4,
 "nbformat_minor": 2
}
