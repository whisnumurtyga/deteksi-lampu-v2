{
 "cells": [
  {
   "cell_type": "code",
   "execution_count": 26,
   "metadata": {},
   "outputs": [],
   "source": [
    "import cv2\n",
    "import numpy as np\n",
    "import matplotlib.pyplot as plt\n",
    "from matplotlib.image import imread\n",
    "import os"
   ]
  },
  {
   "cell_type": "code",
   "execution_count": 27,
   "metadata": {},
   "outputs": [],
   "source": [
    "# Fungsi untuk menangani event mouse hover\n",
    "def mouse_hover(event, x, y, flags, param):\n",
    "    if event == cv2.EVENT_LBUTTONDOWN:\n",
    "        # Ambil nilai HSV dari titik yang dihover\n",
    "        hsv_value = hsv_image[y, x]\n",
    "        print(f\"HSV Value: {hsv_value}\")\n",
    "\n",
    "        # Tentukan batas bawah dan batas atas sesuai dengan nilai yang ditemukan\n",
    "        lower_bound = np.array([hsv_value[0] - 50, hsv_value[1] - 50, hsv_value[2] - 50])\n",
    "        upper_bound = np.array([hsv_value[0] + 50, hsv_value[1] + 50, hsv_value[2] + 50])\n",
    "\n",
    "        print(f\"Lower Bound: {lower_bound}\")\n",
    "        print(f\"Upper Bound: {upper_bound}\\n \")\n",
    "        \n",
    "\n",
    "        # Buat mask dengan batas yang ditentukan\n",
    "        mask = cv2.inRange(hsv_image, lower_bound, upper_bound)\n",
    "\n",
    "        # Tampilkan mask\n",
    "        cv2.imshow('Mask', mask)"
   ]
  },
  {
   "cell_type": "code",
   "execution_count": 28,
   "metadata": {},
   "outputs": [
    {
     "name": "stdout",
     "output_type": "stream",
     "text": [
      "HSV Value: [ 90   4 255]\n",
      "Lower Bound: [ 40 -46 205]\n",
      "Upper Bound: [140  54 305]\n",
      " \n"
     ]
    }
   ],
   "source": [
    "imej = 'res/terang/mati/419-98.jpg'\n",
    "\n",
    "# Buka gambar\n",
    "image = cv2.imread(imej)\n",
    "\n",
    "# Konversi ke format HSV\n",
    "hsv_image = cv2.cvtColor(image, cv2.COLOR_BGR2HSV)\n",
    "\n",
    "# Tampilkan gambar dalam jendela\n",
    "cv2.imshow('Image', image)\n",
    "\n",
    "# Set event handler untuk jendela gambar\n",
    "cv2.setMouseCallback('Image', mouse_hover)\n",
    "\n",
    "# Tunggu sampai tombol 'Esc' ditekan untuk keluar\n",
    "while True:\n",
    "    key = cv2.waitKey(1) & 0xFF\n",
    "    if key == 27:\n",
    "        break\n",
    "\n",
    "# Tutup semua jendela\n",
    "cv2.destroyAllWindows()\n"
   ]
  }
 ],
 "metadata": {
  "kernelspec": {
   "display_name": "base",
   "language": "python",
   "name": "python3"
  },
  "language_info": {
   "codemirror_mode": {
    "name": "ipython",
    "version": 3
   },
   "file_extension": ".py",
   "mimetype": "text/x-python",
   "name": "python",
   "nbconvert_exporter": "python",
   "pygments_lexer": "ipython3",
   "version": "3.9.16"
  },
  "orig_nbformat": 4
 },
 "nbformat": 4,
 "nbformat_minor": 2
}
