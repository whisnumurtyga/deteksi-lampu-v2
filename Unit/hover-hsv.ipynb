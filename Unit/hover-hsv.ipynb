{
 "cells": [
  {
   "cell_type": "code",
   "execution_count": 10,
   "metadata": {},
   "outputs": [],
   "source": [
    "import cv2\n",
    "import numpy as np\n",
    "import matplotlib.pyplot as plt\n",
    "\n"
   ]
  },
  {
   "cell_type": "code",
   "execution_count": 11,
   "metadata": {},
   "outputs": [],
   "source": [
    "# Fungsi untuk menangani event mouse hover\n",
    "def mouse_hover(event, x, y, flags, param):\n",
    "    if event == cv2.EVENT_LBUTTONDOWN:\n",
    "        # Ambil nilai HSV dari titik yang dihover\n",
    "        hsv_value = hsv_image[y, x]\n",
    "        print(f\"HSV Value: {hsv_value}\")\n",
    "\n",
    "        # Tentukan batas bawah dan batas atas sesuai dengan nilai yang ditemukan\n",
    "        lower_bound = np.array([hsv_value[0] - 20, hsv_value[1] - 35, hsv_value[2] - 35])\n",
    "        upper_bound = np.array([hsv_value[0] + 20, hsv_value[1] + 35, hsv_value[2] + 35])\n",
    "\n",
    "        print(f\"Lower Bound: {lower_bound}\")\n",
    "        print(f\"Upper Bound: {upper_bound}\\n \")\n",
    "        \n",
    "\n",
    "        # Buat mask dengan batas yang ditentukan\n",
    "        mask = cv2.inRange(hsv_image, lower_bound, upper_bound)\n",
    "\n",
    "        # Tampilkan mask\n",
    "        cv2.imshow('Mask', mask)"
   ]
  },
  {
   "cell_type": "code",
   "execution_count": 12,
   "metadata": {},
   "outputs": [
    {
     "name": "stdout",
     "output_type": "stream",
     "text": [
      "HSV Value: [108  93 178]\n",
      "Lower Bound: [ 88  58 143]\n",
      "Upper Bound: [128 128 213]\n",
      " \n"
     ]
    }
   ],
   "source": [
    "imej = 'res/gelap/mati/440-0.jpg'\n",
    "\n",
    "# Buka gambar\n",
    "image = cv2.imread(imej)\n",
    "\n",
    "# Konversi ke format HSV\n",
    "hsv_image = cv2.cvtColor(image, cv2.COLOR_BGR2HSV)\n",
    "\n",
    "# Tampilkan gambar dalam jendela\n",
    "cv2.imshow('Image', image)\n",
    "\n",
    "# Set event handler untuk jendela gambar\n",
    "cv2.setMouseCallback('Image', mouse_hover)\n",
    "\n",
    "# Tunggu sampai tombol 'Esc' ditekan untuk keluar\n",
    "while True:\n",
    "    key = cv2.waitKey(1) & 0xFF\n",
    "    if key == 27:\n",
    "        break\n",
    "\n",
    "# Tutup semua jendela\n",
    "cv2.destroyAllWindows()\n"
   ]
  }
 ],
 "metadata": {
  "kernelspec": {
   "display_name": "base",
   "language": "python",
   "name": "python3"
  },
  "language_info": {
   "codemirror_mode": {
    "name": "ipython",
    "version": 3
   },
   "file_extension": ".py",
   "mimetype": "text/x-python",
   "name": "python",
   "nbconvert_exporter": "python",
   "pygments_lexer": "ipython3",
   "version": "3.9.16"
  },
  "orig_nbformat": 4
 },
 "nbformat": 4,
 "nbformat_minor": 2
}
